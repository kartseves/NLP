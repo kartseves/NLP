{
 "cells": [
  {
   "cell_type": "code",
   "execution_count": 1,
   "id": "ae44825d",
   "metadata": {},
   "outputs": [],
   "source": [
    "import pandas as pd\n",
    "import numpy as np\n",
    "\n",
    "import re\n",
    "import nltk\n",
    "\n",
    "from pymorphy2 import MorphAnalyzer\n",
    "from stop_words import get_stop_words\n",
    "\n",
    "import annoy\n",
    "from gensim.models import Word2Vec, FastText\n",
    "\n",
    "import warnings \n",
    "warnings.filterwarnings(\"ignore\", category=DeprecationWarning)"
   ]
  },
  {
   "cell_type": "markdown",
   "id": "a3c24437",
   "metadata": {},
   "source": [
    "База данных состоит из 12 столбцов:\n",
    "\n",
    "- id: уникальный номер сообщения в системе twitter;\n",
    "- tdate: дата публикации сообщения (твита);\n",
    "- tmane: имя пользователя, опубликовавшего сообщение;\n",
    "- ttext:  текст сообщения (твита);\n",
    "- ttype: поле в котором в дальнейшем будет указано к кому классу относится твит (положительный, отрицательный, нейтральный);\n",
    "- trep: количество реплаев к данному сообщению. В настоящий момент API твиттера не отдает эту информацию;\n",
    "- trtw: количество ретвитов к данному сообщению. \n",
    "- tfav: число сколько раз данное сообщение было добавлено в избранное другими пользователями;\n",
    "- tstcount: число всех сообщений пользователя в сети twitter;\n",
    "- tfoll: количество фоловеров пользователя (тех людей, которые читают пользователя);\n",
    "- tfrien: количество друзей пользователя (те люди, которых читает пользователь);\n",
    "- listcount: количество листов-подписок в которые добавлен твиттер-пользователь."
   ]
  },
  {
   "cell_type": "code",
   "execution_count": 2,
   "id": "000baf76",
   "metadata": {},
   "outputs": [],
   "source": [
    "col_names = ['id', 'tdate', 'tmane', 'ttext', 'ttype', 'trep', 'trtw', 'tfav', 'tstcount', 'tfoll', 'tfrien', 'listcount']"
   ]
  },
  {
   "cell_type": "code",
   "execution_count": 3,
   "id": "6d55024c",
   "metadata": {},
   "outputs": [
    {
     "data": {
      "text/html": [
       "<div>\n",
       "<style scoped>\n",
       "    .dataframe tbody tr th:only-of-type {\n",
       "        vertical-align: middle;\n",
       "    }\n",
       "\n",
       "    .dataframe tbody tr th {\n",
       "        vertical-align: top;\n",
       "    }\n",
       "\n",
       "    .dataframe thead th {\n",
       "        text-align: right;\n",
       "    }\n",
       "</style>\n",
       "<table border=\"1\" class=\"dataframe\">\n",
       "  <thead>\n",
       "    <tr style=\"text-align: right;\">\n",
       "      <th></th>\n",
       "      <th>tdate</th>\n",
       "      <th>tmane</th>\n",
       "      <th>ttext</th>\n",
       "      <th>ttype</th>\n",
       "      <th>trep</th>\n",
       "      <th>trtw</th>\n",
       "      <th>tfav</th>\n",
       "      <th>tstcount</th>\n",
       "      <th>tfoll</th>\n",
       "      <th>tfrien</th>\n",
       "      <th>listcount</th>\n",
       "    </tr>\n",
       "    <tr>\n",
       "      <th>id</th>\n",
       "      <th></th>\n",
       "      <th></th>\n",
       "      <th></th>\n",
       "      <th></th>\n",
       "      <th></th>\n",
       "      <th></th>\n",
       "      <th></th>\n",
       "      <th></th>\n",
       "      <th></th>\n",
       "      <th></th>\n",
       "      <th></th>\n",
       "    </tr>\n",
       "  </thead>\n",
       "  <tbody>\n",
       "    <tr>\n",
       "      <th>408906692374446080</th>\n",
       "      <td>1386325927</td>\n",
       "      <td>pleease_shut_up</td>\n",
       "      <td>@first_timee хоть я и школота, но поверь, у на...</td>\n",
       "      <td>1</td>\n",
       "      <td>0</td>\n",
       "      <td>0</td>\n",
       "      <td>0</td>\n",
       "      <td>7569</td>\n",
       "      <td>62</td>\n",
       "      <td>61</td>\n",
       "      <td>0</td>\n",
       "    </tr>\n",
       "    <tr>\n",
       "      <th>408906692693221377</th>\n",
       "      <td>1386325927</td>\n",
       "      <td>alinakirpicheva</td>\n",
       "      <td>Да, все-таки он немного похож на него. Но мой ...</td>\n",
       "      <td>1</td>\n",
       "      <td>0</td>\n",
       "      <td>0</td>\n",
       "      <td>0</td>\n",
       "      <td>11825</td>\n",
       "      <td>59</td>\n",
       "      <td>31</td>\n",
       "      <td>2</td>\n",
       "    </tr>\n",
       "    <tr>\n",
       "      <th>408906695083954177</th>\n",
       "      <td>1386325927</td>\n",
       "      <td>EvgeshaRe</td>\n",
       "      <td>RT @KatiaCheh: Ну ты идиотка) я испугалась за ...</td>\n",
       "      <td>1</td>\n",
       "      <td>0</td>\n",
       "      <td>1</td>\n",
       "      <td>0</td>\n",
       "      <td>1273</td>\n",
       "      <td>26</td>\n",
       "      <td>27</td>\n",
       "      <td>0</td>\n",
       "    </tr>\n",
       "    <tr>\n",
       "      <th>408906695356973056</th>\n",
       "      <td>1386325927</td>\n",
       "      <td>ikonnikova_21</td>\n",
       "      <td>RT @digger2912: \"Кто то в углу сидит и погибае...</td>\n",
       "      <td>1</td>\n",
       "      <td>0</td>\n",
       "      <td>1</td>\n",
       "      <td>0</td>\n",
       "      <td>1549</td>\n",
       "      <td>19</td>\n",
       "      <td>17</td>\n",
       "      <td>0</td>\n",
       "    </tr>\n",
       "    <tr>\n",
       "      <th>408906761416867842</th>\n",
       "      <td>1386325943</td>\n",
       "      <td>JumpyAlex</td>\n",
       "      <td>@irina_dyshkant Вот что значит страшилка :D\\nН...</td>\n",
       "      <td>1</td>\n",
       "      <td>0</td>\n",
       "      <td>0</td>\n",
       "      <td>0</td>\n",
       "      <td>597</td>\n",
       "      <td>16</td>\n",
       "      <td>23</td>\n",
       "      <td>1</td>\n",
       "    </tr>\n",
       "  </tbody>\n",
       "</table>\n",
       "</div>"
      ],
      "text/plain": [
       "                         tdate            tmane  \\\n",
       "id                                                \n",
       "408906692374446080  1386325927  pleease_shut_up   \n",
       "408906692693221377  1386325927  alinakirpicheva   \n",
       "408906695083954177  1386325927        EvgeshaRe   \n",
       "408906695356973056  1386325927    ikonnikova_21   \n",
       "408906761416867842  1386325943        JumpyAlex   \n",
       "\n",
       "                                                                ttext  ttype  \\\n",
       "id                                                                             \n",
       "408906692374446080  @first_timee хоть я и школота, но поверь, у на...      1   \n",
       "408906692693221377  Да, все-таки он немного похож на него. Но мой ...      1   \n",
       "408906695083954177  RT @KatiaCheh: Ну ты идиотка) я испугалась за ...      1   \n",
       "408906695356973056  RT @digger2912: \"Кто то в углу сидит и погибае...      1   \n",
       "408906761416867842  @irina_dyshkant Вот что значит страшилка :D\\nН...      1   \n",
       "\n",
       "                    trep  trtw  tfav  tstcount  tfoll  tfrien  listcount  \n",
       "id                                                                        \n",
       "408906692374446080     0     0     0      7569     62      61          0  \n",
       "408906692693221377     0     0     0     11825     59      31          2  \n",
       "408906695083954177     0     1     0      1273     26      27          0  \n",
       "408906695356973056     0     1     0      1549     19      17          0  \n",
       "408906761416867842     0     0     0       597     16      23          1  "
      ]
     },
     "execution_count": 3,
     "metadata": {},
     "output_type": "execute_result"
    }
   ],
   "source": [
    "positive_df = pd.read_csv('positive.csv', sep=';', header=None, index_col=0, names=col_names, encoding='utf-8')\n",
    "positive_df.head()"
   ]
  },
  {
   "cell_type": "code",
   "execution_count": 4,
   "id": "f6432809",
   "metadata": {},
   "outputs": [
    {
     "name": "stdout",
     "output_type": "stream",
     "text": [
      "<class 'pandas.core.frame.DataFrame'>\n",
      "Int64Index: 114911 entries, 408906692374446080 to 411368857035898880\n",
      "Data columns (total 11 columns):\n",
      " #   Column     Non-Null Count   Dtype \n",
      "---  ------     --------------   ----- \n",
      " 0   tdate      114911 non-null  int64 \n",
      " 1   tmane      114911 non-null  object\n",
      " 2   ttext      114911 non-null  object\n",
      " 3   ttype      114911 non-null  int64 \n",
      " 4   trep       114911 non-null  int64 \n",
      " 5   trtw       114911 non-null  int64 \n",
      " 6   tfav       114911 non-null  int64 \n",
      " 7   tstcount   114911 non-null  int64 \n",
      " 8   tfoll      114911 non-null  int64 \n",
      " 9   tfrien     114911 non-null  int64 \n",
      " 10  listcount  114911 non-null  int64 \n",
      "dtypes: int64(9), object(2)\n",
      "memory usage: 10.5+ MB\n"
     ]
    }
   ],
   "source": [
    "positive_df.info()"
   ]
  },
  {
   "cell_type": "code",
   "execution_count": 5,
   "id": "ed7b8677",
   "metadata": {},
   "outputs": [
    {
     "data": {
      "text/plain": [
       "114911"
      ]
     },
     "execution_count": 5,
     "metadata": {},
     "output_type": "execute_result"
    }
   ],
   "source": [
    "len(positive_df)"
   ]
  },
  {
   "cell_type": "code",
   "execution_count": 6,
   "id": "29ff3ce7",
   "metadata": {},
   "outputs": [
    {
     "data": {
      "text/plain": [
       "ttype\n",
       "1    114911\n",
       "dtype: int64"
      ]
     },
     "execution_count": 6,
     "metadata": {},
     "output_type": "execute_result"
    }
   ],
   "source": [
    "positive_df.value_counts('ttype')"
   ]
  },
  {
   "cell_type": "code",
   "execution_count": 7,
   "id": "e7c08bbf",
   "metadata": {},
   "outputs": [
    {
     "data": {
      "text/html": [
       "<div>\n",
       "<style scoped>\n",
       "    .dataframe tbody tr th:only-of-type {\n",
       "        vertical-align: middle;\n",
       "    }\n",
       "\n",
       "    .dataframe tbody tr th {\n",
       "        vertical-align: top;\n",
       "    }\n",
       "\n",
       "    .dataframe thead th {\n",
       "        text-align: right;\n",
       "    }\n",
       "</style>\n",
       "<table border=\"1\" class=\"dataframe\">\n",
       "  <thead>\n",
       "    <tr style=\"text-align: right;\">\n",
       "      <th></th>\n",
       "      <th>tdate</th>\n",
       "      <th>tmane</th>\n",
       "      <th>ttext</th>\n",
       "      <th>ttype</th>\n",
       "      <th>trep</th>\n",
       "      <th>trtw</th>\n",
       "      <th>tfav</th>\n",
       "      <th>tstcount</th>\n",
       "      <th>tfoll</th>\n",
       "      <th>tfrien</th>\n",
       "      <th>listcount</th>\n",
       "    </tr>\n",
       "    <tr>\n",
       "      <th>id</th>\n",
       "      <th></th>\n",
       "      <th></th>\n",
       "      <th></th>\n",
       "      <th></th>\n",
       "      <th></th>\n",
       "      <th></th>\n",
       "      <th></th>\n",
       "      <th></th>\n",
       "      <th></th>\n",
       "      <th></th>\n",
       "      <th></th>\n",
       "    </tr>\n",
       "  </thead>\n",
       "  <tbody>\n",
       "    <tr>\n",
       "      <th>408906762813579264</th>\n",
       "      <td>1386325944</td>\n",
       "      <td>dugarchikbellko</td>\n",
       "      <td>на работе был полный пиддес :| и так каждое за...</td>\n",
       "      <td>-1</td>\n",
       "      <td>0</td>\n",
       "      <td>0</td>\n",
       "      <td>0</td>\n",
       "      <td>8064</td>\n",
       "      <td>111</td>\n",
       "      <td>94</td>\n",
       "      <td>2</td>\n",
       "    </tr>\n",
       "    <tr>\n",
       "      <th>408906818262687744</th>\n",
       "      <td>1386325957</td>\n",
       "      <td>nugemycejela</td>\n",
       "      <td>Коллеги сидят рубятся в Urban terror, а я из-з...</td>\n",
       "      <td>-1</td>\n",
       "      <td>0</td>\n",
       "      <td>0</td>\n",
       "      <td>0</td>\n",
       "      <td>26</td>\n",
       "      <td>42</td>\n",
       "      <td>39</td>\n",
       "      <td>0</td>\n",
       "    </tr>\n",
       "    <tr>\n",
       "      <th>408906858515398656</th>\n",
       "      <td>1386325966</td>\n",
       "      <td>4post21</td>\n",
       "      <td>@elina_4post как говорят обещаного три года жд...</td>\n",
       "      <td>-1</td>\n",
       "      <td>0</td>\n",
       "      <td>0</td>\n",
       "      <td>0</td>\n",
       "      <td>718</td>\n",
       "      <td>49</td>\n",
       "      <td>249</td>\n",
       "      <td>0</td>\n",
       "    </tr>\n",
       "    <tr>\n",
       "      <th>408906914437685248</th>\n",
       "      <td>1386325980</td>\n",
       "      <td>Poliwake</td>\n",
       "      <td>Желаю хорошего полёта и удачной посадки,я буду...</td>\n",
       "      <td>-1</td>\n",
       "      <td>0</td>\n",
       "      <td>0</td>\n",
       "      <td>0</td>\n",
       "      <td>10628</td>\n",
       "      <td>207</td>\n",
       "      <td>200</td>\n",
       "      <td>0</td>\n",
       "    </tr>\n",
       "    <tr>\n",
       "      <th>408906914723295232</th>\n",
       "      <td>1386325980</td>\n",
       "      <td>capyvixowe</td>\n",
       "      <td>Обновил за каким-то лешим surf, теперь не рабо...</td>\n",
       "      <td>-1</td>\n",
       "      <td>0</td>\n",
       "      <td>0</td>\n",
       "      <td>0</td>\n",
       "      <td>35</td>\n",
       "      <td>17</td>\n",
       "      <td>34</td>\n",
       "      <td>0</td>\n",
       "    </tr>\n",
       "  </tbody>\n",
       "</table>\n",
       "</div>"
      ],
      "text/plain": [
       "                         tdate            tmane  \\\n",
       "id                                                \n",
       "408906762813579264  1386325944  dugarchikbellko   \n",
       "408906818262687744  1386325957     nugemycejela   \n",
       "408906858515398656  1386325966          4post21   \n",
       "408906914437685248  1386325980         Poliwake   \n",
       "408906914723295232  1386325980       capyvixowe   \n",
       "\n",
       "                                                                ttext  ttype  \\\n",
       "id                                                                             \n",
       "408906762813579264  на работе был полный пиддес :| и так каждое за...     -1   \n",
       "408906818262687744  Коллеги сидят рубятся в Urban terror, а я из-з...     -1   \n",
       "408906858515398656  @elina_4post как говорят обещаного три года жд...     -1   \n",
       "408906914437685248  Желаю хорошего полёта и удачной посадки,я буду...     -1   \n",
       "408906914723295232  Обновил за каким-то лешим surf, теперь не рабо...     -1   \n",
       "\n",
       "                    trep  trtw  tfav  tstcount  tfoll  tfrien  listcount  \n",
       "id                                                                        \n",
       "408906762813579264     0     0     0      8064    111      94          2  \n",
       "408906818262687744     0     0     0        26     42      39          0  \n",
       "408906858515398656     0     0     0       718     49     249          0  \n",
       "408906914437685248     0     0     0     10628    207     200          0  \n",
       "408906914723295232     0     0     0        35     17      34          0  "
      ]
     },
     "execution_count": 7,
     "metadata": {},
     "output_type": "execute_result"
    }
   ],
   "source": [
    "negative_df = pd.read_csv('negative.csv', sep=';', header=None, index_col=0, names=col_names, encoding='utf-8')\n",
    "negative_df.head()"
   ]
  },
  {
   "cell_type": "code",
   "execution_count": 8,
   "id": "917121c4",
   "metadata": {},
   "outputs": [
    {
     "name": "stdout",
     "output_type": "stream",
     "text": [
      "<class 'pandas.core.frame.DataFrame'>\n",
      "Int64Index: 111923 entries, 408906762813579264 to 425138595251625984\n",
      "Data columns (total 11 columns):\n",
      " #   Column     Non-Null Count   Dtype \n",
      "---  ------     --------------   ----- \n",
      " 0   tdate      111923 non-null  int64 \n",
      " 1   tmane      111923 non-null  object\n",
      " 2   ttext      111923 non-null  object\n",
      " 3   ttype      111923 non-null  int64 \n",
      " 4   trep       111923 non-null  int64 \n",
      " 5   trtw       111923 non-null  int64 \n",
      " 6   tfav       111923 non-null  int64 \n",
      " 7   tstcount   111923 non-null  int64 \n",
      " 8   tfoll      111923 non-null  int64 \n",
      " 9   tfrien     111923 non-null  int64 \n",
      " 10  listcount  111923 non-null  int64 \n",
      "dtypes: int64(9), object(2)\n",
      "memory usage: 10.2+ MB\n"
     ]
    }
   ],
   "source": [
    "negative_df.info()"
   ]
  },
  {
   "cell_type": "code",
   "execution_count": 9,
   "id": "ae2972a3",
   "metadata": {},
   "outputs": [
    {
     "data": {
      "text/plain": [
       "111923"
      ]
     },
     "execution_count": 9,
     "metadata": {},
     "output_type": "execute_result"
    }
   ],
   "source": [
    "len(negative_df)"
   ]
  },
  {
   "cell_type": "code",
   "execution_count": 10,
   "id": "d09adc0b",
   "metadata": {},
   "outputs": [
    {
     "data": {
      "text/plain": [
       "ttype\n",
       "-1    111923\n",
       "dtype: int64"
      ]
     },
     "execution_count": 10,
     "metadata": {},
     "output_type": "execute_result"
    }
   ],
   "source": [
    "negative_df.value_counts('ttype')"
   ]
  },
  {
   "cell_type": "code",
   "execution_count": 11,
   "id": "517b2976",
   "metadata": {},
   "outputs": [
    {
     "data": {
      "text/plain": [
       "0    @first_timee хоть я и школота, но поверь, у на...\n",
       "1    Да, все-таки он немного похож на него. Но мой ...\n",
       "2    RT @KatiaCheh: Ну ты идиотка) я испугалась за ...\n",
       "3    RT @digger2912: \"Кто то в углу сидит и погибае...\n",
       "4    @irina_dyshkant Вот что значит страшилка :D\\nН...\n",
       "Name: ttext, dtype: object"
      ]
     },
     "execution_count": 11,
     "metadata": {},
     "output_type": "execute_result"
    }
   ],
   "source": [
    "combine_df = positive_df.iloc[:, 2].append(negative_df.iloc[:, 2], ignore_index = True)\n",
    "combine_df = combine_df.dropna().drop_duplicates()\n",
    "combine_df.head()"
   ]
  },
  {
   "cell_type": "markdown",
   "id": "4ecd9dba",
   "metadata": {},
   "source": [
    "### 1. Предобработка"
   ]
  },
  {
   "cell_type": "code",
   "execution_count": 12,
   "id": "f54e7fe5",
   "metadata": {},
   "outputs": [],
   "source": [
    "patterns = \"[A-Za-z0-9!#$%&'()*+,./:;<=>?@[\\]^_`{|}~—\\\"\\-]+\"\n",
    "morpher = MorphAnalyzer()\n",
    "sw_ru = set(get_stop_words(\"ru\"))"
   ]
  },
  {
   "cell_type": "code",
   "execution_count": 13,
   "id": "8ec07555",
   "metadata": {},
   "outputs": [],
   "source": [
    "#1. избавимся от букв латинского алфавита, чисел, знаков препинания и всех символов, например, символ @ встречается почти везде;\n",
    "#2. разобьем пост на токены;\n",
    "#3. проведем лемматизацияю, получив нормальную (начальную) форму слова;\n",
    "#4. удалим стоп-слова.\n",
    "def preprocess_txt(doc):\n",
    "    #1. Удалим @user из всех твитов с помощью паттерна \"@[\\w]*\".\n",
    "    doc = re.sub(patterns, ' ', doc)\n",
    "    tokens = []\n",
    "    for token in doc.split():\n",
    "        if token and token not in sw_ru:\n",
    "            token = token.strip()\n",
    "            token = morpher.normal_forms(token)[0]\n",
    "            \n",
    "            tokens.append(token)\n",
    "    if len(tokens) > 2:\n",
    "        return tokens\n",
    "    return None"
   ]
  },
  {
   "cell_type": "code",
   "execution_count": 14,
   "id": "7a11c35b",
   "metadata": {},
   "outputs": [
    {
     "data": {
      "text/plain": [
       "0    [школотый, поверь, самый, общество, профилиров...\n",
       "1              [да, таки, похожий, но, мальчик, равно]\n",
       "2                            [ну, идиотка, испугаться]\n",
       "3    [кто, угол, сидеть, погибать, голод, порция, в...\n",
       "4    [вот, страшилка, но, блин, посмотреть, часть, ...\n",
       "Name: ttext, dtype: object"
      ]
     },
     "execution_count": 14,
     "metadata": {},
     "output_type": "execute_result"
    }
   ],
   "source": [
    "combine_df[:5].apply(preprocess_txt)"
   ]
  },
  {
   "cell_type": "code",
   "execution_count": 15,
   "id": "9c220a1e",
   "metadata": {},
   "outputs": [
    {
     "name": "stdout",
     "output_type": "stream",
     "text": [
      "Wall time: 4min 23s\n"
     ]
    }
   ],
   "source": [
    "%%time\n",
    "data = combine_df.apply(preprocess_txt)\n",
    "data = data.dropna()"
   ]
  },
  {
   "cell_type": "code",
   "execution_count": 16,
   "id": "1e970259",
   "metadata": {},
   "outputs": [
    {
     "data": {
      "text/plain": [
       "0         [школотый, поверь, самый, общество, профилиров...\n",
       "1                   [да, таки, похожий, но, мальчик, равно]\n",
       "2                                 [ну, идиотка, испугаться]\n",
       "3         [кто, угол, сидеть, погибать, голод, порция, в...\n",
       "4         [вот, страшилка, но, блин, посмотреть, часть, ...\n",
       "                                ...                        \n",
       "226829                             [но, хотеть, исправлять]\n",
       "226830           [скучать, вправлять, мозг, равно, скучать]\n",
       "226831                            [вот, школа, говно, идти]\n",
       "226832                           [тауриэль, грусть, обнять]\n",
       "226833    [такси, везти, работа, раздумывать, приплатить...\n",
       "Name: ttext, Length: 198708, dtype: object"
      ]
     },
     "execution_count": 16,
     "metadata": {},
     "output_type": "execute_result"
    }
   ],
   "source": [
    "data"
   ]
  },
  {
   "cell_type": "code",
   "execution_count": 17,
   "id": "3e68930d",
   "metadata": {},
   "outputs": [],
   "source": [
    "data.to_pickle('data_prepared.pkl')"
   ]
  },
  {
   "cell_type": "markdown",
   "id": "40505804",
   "metadata": {},
   "source": [
    "### 2. Word2Vec"
   ]
  },
  {
   "cell_type": "code",
   "execution_count": 18,
   "id": "ca1b8910",
   "metadata": {},
   "outputs": [],
   "source": [
    "w2v_model = Word2Vec(\n",
    "    min_count=10,\n",
    "    window=2,\n",
    "    vector_size=300,\n",
    "    negative=10,\n",
    "    alpha=0.03,\n",
    "    min_alpha=0.0007,\n",
    "    sample=6e-5,\n",
    "    sg=1)"
   ]
  },
  {
   "cell_type": "code",
   "execution_count": 19,
   "id": "d194b23a",
   "metadata": {},
   "outputs": [],
   "source": [
    "w2v_model.build_vocab(data)"
   ]
  },
  {
   "cell_type": "code",
   "execution_count": 20,
   "id": "1d4f0261",
   "metadata": {},
   "outputs": [
    {
     "name": "stdout",
     "output_type": "stream",
     "text": [
      "Wall time: 2min 4s\n"
     ]
    },
    {
     "data": {
      "text/plain": [
       "(34319449, 66831650)"
      ]
     },
     "execution_count": 20,
     "metadata": {},
     "output_type": "execute_result"
    }
   ],
   "source": [
    "%%time\n",
    "w2v_model.train(data, total_examples=w2v_model.corpus_count, epochs=50, report_delay=1)"
   ]
  },
  {
   "cell_type": "markdown",
   "id": "e94a710d",
   "metadata": {},
   "source": [
    "### 3. FastText"
   ]
  },
  {
   "cell_type": "code",
   "execution_count": 21,
   "id": "423f9372",
   "metadata": {},
   "outputs": [],
   "source": [
    "ft_model = FastText(\n",
    "    min_count=10,\n",
    "    window=2,\n",
    "    vector_size=300,\n",
    "    negative=10)"
   ]
  },
  {
   "cell_type": "code",
   "execution_count": 22,
   "id": "19319100",
   "metadata": {},
   "outputs": [],
   "source": [
    "ft_model.build_vocab(data)"
   ]
  },
  {
   "cell_type": "code",
   "execution_count": 23,
   "id": "babfea12",
   "metadata": {},
   "outputs": [
    {
     "name": "stdout",
     "output_type": "stream",
     "text": [
      "Wall time: 7min 42s\n"
     ]
    },
    {
     "data": {
      "text/plain": [
       "(56594883, 66831650)"
      ]
     },
     "execution_count": 23,
     "metadata": {},
     "output_type": "execute_result"
    }
   ],
   "source": [
    "%%time\n",
    "ft_model.train(data, total_examples=ft_model.corpus_count, epochs=50, report_delay=1)"
   ]
  },
  {
   "cell_type": "markdown",
   "id": "9d391641",
   "metadata": {},
   "source": [
    "### 4. Построение индексов"
   ]
  },
  {
   "cell_type": "code",
   "execution_count": 24,
   "id": "14eb63a5",
   "metadata": {},
   "outputs": [],
   "source": [
    "import annoy\n",
    "from tqdm import tqdm_notebook"
   ]
  },
  {
   "cell_type": "code",
   "execution_count": 25,
   "id": "07bb279c",
   "metadata": {},
   "outputs": [],
   "source": [
    "w2v_index = annoy.AnnoyIndex(300 ,'angular')\n",
    "ft_index = annoy.AnnoyIndex(300 ,'angular')"
   ]
  },
  {
   "cell_type": "code",
   "execution_count": 26,
   "id": "576b179f",
   "metadata": {},
   "outputs": [
    {
     "data": {
      "application/vnd.jupyter.widget-view+json": {
       "model_id": "83d3de9313d44a8992a38176777be5f0",
       "version_major": 2,
       "version_minor": 0
      },
      "text/plain": [
       "  0%|          | 0/198708 [00:00<?, ?it/s]"
      ]
     },
     "metadata": {},
     "output_type": "display_data"
    },
    {
     "data": {
      "text/plain": [
       "True"
      ]
     },
     "execution_count": 26,
     "metadata": {},
     "output_type": "execute_result"
    }
   ],
   "source": [
    "index_map = {}\n",
    "counter = 0\n",
    "\n",
    "for text in tqdm_notebook(data):\n",
    "    n_w2v = 0\n",
    "    n_ft = 0\n",
    "    index_map[counter] = combine_df.to_numpy()[counter]\n",
    "    \n",
    "    vector_w2v = np.zeros(300)\n",
    "    vector_ft = np.zeros(300)\n",
    "    for word in text:\n",
    "        if word in w2v_model.wv:\n",
    "            vector_w2v += w2v_model.wv[word]\n",
    "            n_w2v += 1\n",
    "        if word in ft_model.wv:\n",
    "            vector_ft += ft_model.wv[word]\n",
    "            n_ft += 1\n",
    "    \n",
    "    if n_w2v > 0:\n",
    "        vector_w2v = vector_w2v / n_w2v\n",
    "    if n_ft > 0:\n",
    "        vector_ft = vector_ft / n_ft\n",
    "    \n",
    "    w2v_index.add_item(counter, vector_w2v)\n",
    "    ft_index.add_item(counter, vector_ft)\n",
    "    \n",
    "    counter += 1\n",
    "        \n",
    "    #if counter > 100000:\n",
    "    #    break\n",
    "\n",
    "w2v_index.build(10)\n",
    "ft_index.build(10)"
   ]
  },
  {
   "cell_type": "code",
   "execution_count": 27,
   "id": "7f8357f7",
   "metadata": {},
   "outputs": [],
   "source": [
    "def get_response(input_text, count, index, model, index_map):\n",
    "    print(f'input:\\n{input_text}')\n",
    "    input_text = preprocess_txt(input_text)\n",
    "    vector = np.zeros(300)\n",
    "    norm = 0\n",
    "    for word in input_text:\n",
    "        if word in model.wv:\n",
    "            vector += model.wv[word]\n",
    "            norm += 1\n",
    "    if norm > 0:\n",
    "        vector = vector / norm\n",
    "    results = index.get_nns_by_vector(vector, count, )\n",
    "    return [index_map[i] for i in results]"
   ]
  },
  {
   "cell_type": "code",
   "execution_count": 28,
   "id": "c5f01fd3",
   "metadata": {},
   "outputs": [],
   "source": [
    "def get_response_w2v(input_text, count):\n",
    "    return get_response(input_text, count, w2v_index, w2v_model, index_map)"
   ]
  },
  {
   "cell_type": "code",
   "execution_count": 29,
   "id": "339f2a58",
   "metadata": {},
   "outputs": [],
   "source": [
    "def get_response_ft(input_text, count):\n",
    "    return get_response(input_text, count, ft_index, ft_model, index_map)"
   ]
  },
  {
   "cell_type": "code",
   "execution_count": 30,
   "id": "e42a4c25",
   "metadata": {
    "scrolled": true
   },
   "outputs": [
    {
     "name": "stdout",
     "output_type": "stream",
     "text": [
      "input:\n",
      "Да, все-таки он немного похож на него. Но мой мальчик все равно лучше:D\n",
      "output:\n",
      "Да, все-таки он немного похож на него. Но мой мальчик все равно лучше:D\n",
      "@Aleks_SPb @CIO_Optimal Просто боится потерять наворованное,нервничает и от этого ненавидит и гнобит всех и вся вокруг\n",
      "@RobinFlamm64 я тоже офигела :DD у нее будет двойня\n",
      "RT @nvtextile2012: Кстати, сегодня 11.12.13 ... взлетаем? :)\n",
      "@KamilGaleev не думаю, что ты много потерял, не поставив номер на месте покупки)\n"
     ]
    }
   ],
   "source": [
    "results = get_response_w2v(combine_df[1], 5)\n",
    "print(f'output:')\n",
    "for output_text in results:\n",
    "    print(output_text)"
   ]
  },
  {
   "cell_type": "code",
   "execution_count": 31,
   "id": "08d6bdbc",
   "metadata": {
    "scrolled": true
   },
   "outputs": [
    {
     "name": "stdout",
     "output_type": "stream",
     "text": [
      "input:\n",
      "Да, все-таки он немного похож на него. Но мой мальчик все равно лучше:D\n",
      "output:\n",
      "Да, все-таки он немного похож на него. Но мой мальчик все равно лучше:D\n",
      "Пора закалывать себя снова чтоб хоть как то сегодня вечером спортом заняться на морально волевых )))\n",
      "@OlegOll Полностью согласна. Теоретически :) Только у меня сложности с практикой.. @e_sivanova\n",
      "Эй, я слышала, что твоя пресс-конференция будет завтра. :~( #INSTANTFOLLOWBACK #FF_RU\n",
      "@PolinaShlyaga да.преподов на кафедре бх вообще неи.только свергун бегает(\n"
     ]
    }
   ],
   "source": [
    "results = get_response_ft(combine_df[1], 5)\n",
    "print(f'output:')\n",
    "for output_text in results:\n",
    "    print(output_text)"
   ]
  },
  {
   "cell_type": "code",
   "execution_count": 32,
   "id": "d3f0f290",
   "metadata": {
    "scrolled": false
   },
   "outputs": [
    {
     "name": "stdout",
     "output_type": "stream",
     "text": [
      "input:\n",
      "Люблю маму и папу!!!!а в остальное я так...-влюбляюсь, привязываюсь))) \n",
      "output:\n",
      "Люблю маму и папу!!!!а в остальное я так...-влюбляюсь, привязываюсь))) \n",
      "Лучше сейчас разорвать все отношения, пока не так больно((\n",
      "Сидишь тут ради него до 3-х ночи,а он так тебя расстраивает.\n",
      "Грустно прям(\n",
      "Всем снов\n",
      "@mishk_n @mudakoff слыыш хаха\n",
      "я не пью хаах\n",
      "вот сейчас бухают /празднуют др .а я тут дома .сочком:D\n",
      "засыпаешь в темноте....просыпашься темно...вот такая жизнь(\n"
     ]
    }
   ],
   "source": [
    "results = get_response_w2v(combine_df[10], 5)\n",
    "print(f'output:')\n",
    "for output_text in results:\n",
    "    print(output_text)"
   ]
  },
  {
   "cell_type": "code",
   "execution_count": 33,
   "id": "4faa8244",
   "metadata": {
    "scrolled": true
   },
   "outputs": [
    {
     "name": "stdout",
     "output_type": "stream",
     "text": [
      "input:\n",
      "Люблю маму и папу!!!!а в остальное я так...-влюбляюсь, привязываюсь))) \n",
      "output:\n",
      "Люблю маму и папу!!!!а в остальное я так...-влюбляюсь, привязываюсь))) \n",
      "@delanoo @Larleyt я уже с ноября не хожу на учёбу. Совсем забросил. Чую, сессия весёлая будет :D\n",
      "@DEW3L МЮ на выезде играет .Хорошо ответил ,я это знаю всё )Просто интересно было твоё мнение .Просто им эта победа та и ни к чему уже\n",
      "@Witaless ахахаахахах;)\n",
      "Я не учил, не пойдём завтра на литературу\n",
      "@danielsmoon Я тебе разведусь слышишь,эй :D \n",
      "Даже не думай,ты моя единственная любовь ;)\n"
     ]
    }
   ],
   "source": [
    "results = get_response_ft(combine_df[10], 5)\n",
    "print(f'output:')\n",
    "for output_text in results:\n",
    "    print(output_text)"
   ]
  },
  {
   "cell_type": "markdown",
   "id": "ef1290b4",
   "metadata": {},
   "source": [
    "Видим достаточно неплохой результат у обеих моделей. Субъективно у Word2Vec результат несколько лучше. "
   ]
  }
 ],
 "metadata": {
  "kernelspec": {
   "display_name": "Python 3",
   "language": "python",
   "name": "python3"
  },
  "language_info": {
   "codemirror_mode": {
    "name": "ipython",
    "version": 3
   },
   "file_extension": ".py",
   "mimetype": "text/x-python",
   "name": "python",
   "nbconvert_exporter": "python",
   "pygments_lexer": "ipython3",
   "version": "3.8.8"
  }
 },
 "nbformat": 4,
 "nbformat_minor": 5
}
