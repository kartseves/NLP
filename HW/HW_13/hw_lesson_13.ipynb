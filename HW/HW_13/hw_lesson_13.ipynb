{
 "cells": [
  {
   "cell_type": "markdown",
   "id": "0a031055",
   "metadata": {},
   "source": [
    "### Задание  \n",
    "\n",
    "1. Взять датасет  \n",
    "https://huggingface.co/datasets/merionum/ru_paraphraser  \n",
    "решить задачу парафраза  \n",
    "2. (дополнительно необязательная задача)на выбор взять:  \n",
    "https://huggingface.co/datasets/sberquad  \n",
    "https://huggingface.co/datasets/blinoff/medical_qa_ru_data  \n",
    "натренировать любую модель для вопросно ответной системы"
   ]
  },
  {
   "cell_type": "code",
   "execution_count": 1,
   "id": "d613183f",
   "metadata": {},
   "outputs": [],
   "source": [
    "import numpy as np\n",
    "import torch\n",
    "\n",
    "from datasets import load_dataset\n",
    "from transformers import AutoTokenizer\n",
    "from transformers import AutoModelForSequenceClassification, TrainingArguments, Trainer\n",
    "\n",
    "from sklearn.metrics import f1_score, roc_auc_score, accuracy_score\n",
    "from transformers import EvalPrediction"
   ]
  },
  {
   "cell_type": "markdown",
   "id": "7fe9b94e",
   "metadata": {},
   "source": [
    "### Загрузка датасета"
   ]
  },
  {
   "cell_type": "code",
   "execution_count": 2,
   "id": "d6bef795",
   "metadata": {},
   "outputs": [
    {
     "name": "stderr",
     "output_type": "stream",
     "text": [
      "Using custom data configuration merionum--ru_paraphraser-46b7ccf402279b95\n",
      "Reusing dataset json (C:\\Users\\Kartsev.ES\\.cache\\huggingface\\datasets\\merionum___json\\merionum--ru_paraphraser-46b7ccf402279b95\\0.0.0\\da492aad5680612e4028e7f6ddc04b1dfcec4b64db470ed7cc5f2bb265b9b6b5)\n"
     ]
    },
    {
     "data": {
      "application/vnd.jupyter.widget-view+json": {
       "model_id": "f350b822fdc444f48c68edc1ca440d77",
       "version_major": 2,
       "version_minor": 0
      },
      "text/plain": [
       "  0%|          | 0/2 [00:00<?, ?it/s]"
      ]
     },
     "metadata": {},
     "output_type": "display_data"
    },
    {
     "data": {
      "text/plain": [
       "DatasetDict({\n",
       "    train: Dataset({\n",
       "        features: ['id', 'id_1', 'id_2', 'text_1', 'text_2', 'class'],\n",
       "        num_rows: 7227\n",
       "    })\n",
       "    test: Dataset({\n",
       "        features: ['id', 'id_1', 'id_2', 'text_1', 'text_2', 'class'],\n",
       "        num_rows: 1924\n",
       "    })\n",
       "})"
      ]
     },
     "execution_count": 2,
     "metadata": {},
     "output_type": "execute_result"
    }
   ],
   "source": [
    "dataset = load_dataset('merionum/ru_paraphraser')\n",
    "dataset"
   ]
  },
  {
   "cell_type": "code",
   "execution_count": 3,
   "id": "5240d2ec",
   "metadata": {},
   "outputs": [
    {
     "data": {
      "text/plain": [
       "['0', '1', '-1']"
      ]
     },
     "execution_count": 3,
     "metadata": {},
     "output_type": "execute_result"
    }
   ],
   "source": [
    "label_list = list(set(dataset['train']['class']))\n",
    "label_list"
   ]
  },
  {
   "cell_type": "markdown",
   "id": "114c2bc7",
   "metadata": {},
   "source": [
    "Потому как исходный датасет содержит пары последовательностей (text_1 и text_2) и метку класса (class), то понимаю под решением задачи парафраза - решение задачи классификации, а не генерации. "
   ]
  },
  {
   "cell_type": "markdown",
   "id": "ecee6be6",
   "metadata": {},
   "source": [
    "### Предобработка"
   ]
  },
  {
   "cell_type": "code",
   "execution_count": 4,
   "id": "e28b11c6",
   "metadata": {},
   "outputs": [],
   "source": [
    "def one_hot_encoding(example):\n",
    "    example_class = example['class']\n",
    "    oh1 = example_class =='-1'\n",
    "    oh2 = example_class =='0'\n",
    "    oh3 = example_class =='1'\n",
    "    return {'class_-1': oh1, 'class_0': oh2, 'class_1': oh3}"
   ]
  },
  {
   "cell_type": "code",
   "execution_count": 5,
   "id": "c3681ca3",
   "metadata": {
    "scrolled": true
   },
   "outputs": [
    {
     "name": "stderr",
     "output_type": "stream",
     "text": [
      "Parameter 'function'=<function one_hot_encoding at 0x0000020781390280> of the transform datasets.arrow_dataset.Dataset._map_single couldn't be hashed properly, a random hash was used instead. Make sure your transforms and parameters are serializable with pickle or dill for the dataset fingerprinting and caching to work. If you reuse this transform, the caching mechanism will consider it to be different from the previous calls and recompute everything. This warning is only showed once. Subsequent hashing failures won't be showed.\n"
     ]
    },
    {
     "data": {
      "application/vnd.jupyter.widget-view+json": {
       "model_id": "a5b287110c85417b9e054c1991bc796e",
       "version_major": 2,
       "version_minor": 0
      },
      "text/plain": [
       "  0%|          | 0/7227 [00:00<?, ?ex/s]"
      ]
     },
     "metadata": {},
     "output_type": "display_data"
    },
    {
     "data": {
      "application/vnd.jupyter.widget-view+json": {
       "model_id": "fefdb631aa6d49c99e9da326d28b6750",
       "version_major": 2,
       "version_minor": 0
      },
      "text/plain": [
       "  0%|          | 0/1924 [00:00<?, ?ex/s]"
      ]
     },
     "metadata": {},
     "output_type": "display_data"
    }
   ],
   "source": [
    "ohe_dataset = dataset.map(one_hot_encoding)"
   ]
  },
  {
   "cell_type": "code",
   "execution_count": 6,
   "id": "ca8ed890",
   "metadata": {},
   "outputs": [
    {
     "data": {
      "text/plain": [
       "{'id': '1',\n",
       " 'id_1': '201',\n",
       " 'id_2': '8159',\n",
       " 'text_1': 'Полицейским разрешат стрелять на поражение по гражданам с травматикой.',\n",
       " 'text_2': 'Полиции могут разрешить стрелять по хулиганам с травматикой.',\n",
       " 'class': '0',\n",
       " 'class_-1': False,\n",
       " 'class_0': True,\n",
       " 'class_1': False}"
      ]
     },
     "execution_count": 6,
     "metadata": {},
     "output_type": "execute_result"
    }
   ],
   "source": [
    "ohe_dataset['train'][0]"
   ]
  },
  {
   "cell_type": "code",
   "execution_count": 7,
   "id": "4d18a326",
   "metadata": {},
   "outputs": [
    {
     "data": {
      "text/plain": [
       "{0: 'class_-1', 1: 'class_0', 2: 'class_1'}"
      ]
     },
     "execution_count": 7,
     "metadata": {},
     "output_type": "execute_result"
    }
   ],
   "source": [
    "labels = ['class_-1', 'class_0', 'class_1']\n",
    "id2label = {idx:label for idx, label in enumerate(labels)}\n",
    "label2id = {label:idx for idx, label in enumerate(labels)}\n",
    "id2label"
   ]
  },
  {
   "cell_type": "code",
   "execution_count": 8,
   "id": "dd041dd8",
   "metadata": {
    "scrolled": true
   },
   "outputs": [],
   "source": [
    "tokenizer = AutoTokenizer.from_pretrained(\"bert-base-uncased\")\n",
    "\n",
    "def preprocess_data(examples):\n",
    "    # take a batch of texts\n",
    "    text_1 = examples[\"text_1\"]\n",
    "    text_2 = examples[\"text_2\"]\n",
    "    # encode them\n",
    "    encoding = tokenizer(text_1, text_2, padding=\"max_length\", truncation=True, max_length=128)\n",
    "    # add labels\n",
    "    labels_batch = {k: examples[k] for k in examples.keys() if k in labels}\n",
    "    # create numpy array of shape (batch_size, num_labels)\n",
    "    labels_matrix = np.zeros((len(text_1), len(labels)))\n",
    "    # fill numpy array\n",
    "    for idx, label in enumerate(labels):\n",
    "        labels_matrix[:, idx] = labels_batch[label]\n",
    "        \n",
    "    encoding[\"labels\"] = labels_matrix.tolist()\n",
    "    \n",
    "    return encoding"
   ]
  },
  {
   "cell_type": "code",
   "execution_count": 9,
   "id": "f0d0cedb",
   "metadata": {},
   "outputs": [
    {
     "data": {
      "application/vnd.jupyter.widget-view+json": {
       "model_id": "e143104278204f74b585f39751fdb4d5",
       "version_major": 2,
       "version_minor": 0
      },
      "text/plain": [
       "  0%|          | 0/8 [00:00<?, ?ba/s]"
      ]
     },
     "metadata": {},
     "output_type": "display_data"
    },
    {
     "data": {
      "application/vnd.jupyter.widget-view+json": {
       "model_id": "0d3bad18a5db4a78ae3b3e5f223d8717",
       "version_major": 2,
       "version_minor": 0
      },
      "text/plain": [
       "  0%|          | 0/2 [00:00<?, ?ba/s]"
      ]
     },
     "metadata": {},
     "output_type": "display_data"
    }
   ],
   "source": [
    "encoded_dataset = ohe_dataset.map(preprocess_data, batched=True, remove_columns=ohe_dataset['train'].column_names)"
   ]
  },
  {
   "cell_type": "code",
   "execution_count": 10,
   "id": "2137e0b2",
   "metadata": {},
   "outputs": [
    {
     "name": "stdout",
     "output_type": "stream",
     "text": [
      "dict_keys(['input_ids', 'token_type_ids', 'attention_mask', 'labels'])\n"
     ]
    }
   ],
   "source": [
    "example = encoded_dataset['train'][0]\n",
    "print(example.keys())"
   ]
  },
  {
   "cell_type": "code",
   "execution_count": 11,
   "id": "3f62436b",
   "metadata": {},
   "outputs": [
    {
     "data": {
      "text/plain": [
       "[0.0, 1.0, 0.0]"
      ]
     },
     "execution_count": 11,
     "metadata": {},
     "output_type": "execute_result"
    }
   ],
   "source": [
    "example['labels']"
   ]
  },
  {
   "cell_type": "code",
   "execution_count": 12,
   "id": "a91f9907",
   "metadata": {},
   "outputs": [
    {
     "data": {
      "text/plain": [
       "['class_0']"
      ]
     },
     "execution_count": 12,
     "metadata": {},
     "output_type": "execute_result"
    }
   ],
   "source": [
    "[id2label[idx] for idx, label in enumerate(example['labels']) if label == 1.0]"
   ]
  },
  {
   "cell_type": "code",
   "execution_count": 13,
   "id": "0e962cad",
   "metadata": {},
   "outputs": [],
   "source": [
    "encoded_dataset.set_format(\"torch\")"
   ]
  },
  {
   "cell_type": "markdown",
   "id": "81efd793",
   "metadata": {},
   "source": [
    "### Загрузка модели"
   ]
  },
  {
   "cell_type": "code",
   "execution_count": 14,
   "id": "cea7c0fe",
   "metadata": {},
   "outputs": [
    {
     "name": "stderr",
     "output_type": "stream",
     "text": [
      "Some weights of the model checkpoint at bert-base-uncased were not used when initializing BertForSequenceClassification: ['cls.predictions.transform.dense.weight', 'cls.seq_relationship.weight', 'cls.predictions.transform.LayerNorm.weight', 'cls.predictions.bias', 'cls.predictions.transform.LayerNorm.bias', 'cls.predictions.decoder.weight', 'cls.predictions.transform.dense.bias', 'cls.seq_relationship.bias']\n",
      "- This IS expected if you are initializing BertForSequenceClassification from the checkpoint of a model trained on another task or with another architecture (e.g. initializing a BertForSequenceClassification model from a BertForPreTraining model).\n",
      "- This IS NOT expected if you are initializing BertForSequenceClassification from the checkpoint of a model that you expect to be exactly identical (initializing a BertForSequenceClassification model from a BertForSequenceClassification model).\n",
      "Some weights of BertForSequenceClassification were not initialized from the model checkpoint at bert-base-uncased and are newly initialized: ['classifier.bias', 'classifier.weight']\n",
      "You should probably TRAIN this model on a down-stream task to be able to use it for predictions and inference.\n"
     ]
    }
   ],
   "source": [
    "model = AutoModelForSequenceClassification.from_pretrained(\"bert-base-uncased\", \n",
    "                                                           problem_type=\"multi_label_classification\", \n",
    "                                                           num_labels=len(labels),\n",
    "                                                           id2label=id2label,\n",
    "                                                           label2id=label2id)"
   ]
  },
  {
   "cell_type": "code",
   "execution_count": 15,
   "id": "a43ae06e",
   "metadata": {},
   "outputs": [
    {
     "data": {
      "text/plain": [
       "'torch.FloatTensor'"
      ]
     },
     "execution_count": 15,
     "metadata": {},
     "output_type": "execute_result"
    }
   ],
   "source": [
    "encoded_dataset['train'][0]['labels'].type()"
   ]
  },
  {
   "cell_type": "code",
   "execution_count": 16,
   "id": "ec174ae3",
   "metadata": {},
   "outputs": [
    {
     "data": {
      "text/plain": [
       "tensor([  101,  1194, 14150, 29436, 10325, 29751, 15290, 10325, 29747, 23925,\n",
       "        10325, 29745,  1195, 10260, 29744, 16856, 15290, 29753, 10260, 22919,\n",
       "         1196, 22919, 16856, 15290, 29436, 17432, 22919, 23742,  1192, 10260,\n",
       "         1194, 14150, 16856, 10260, 29743, 15290, 18947, 10325, 15290,  1194,\n",
       "        14150,  1183, 16856, 10260, 29743, 29742, 28995, 10260, 29745,  1196,\n",
       "         1197, 16856, 10260, 25529, 29745, 10260, 22919, 10325, 23925, 14150,\n",
       "        10325,  1012,   102,  1194, 14150, 29436, 10325, 29751, 15414,  1191,\n",
       "        14150, 29741, 29748, 22919,  1195, 10260, 29744, 16856, 15290, 29753,\n",
       "        10325, 22919, 23742,  1196, 22919, 16856, 15290, 29436, 17432, 22919,\n",
       "        23742,  1194, 14150,  1200, 29748, 29436, 10325, 29741, 28995, 10260,\n",
       "        29745,  1196,  1197, 16856, 10260, 25529, 29745, 10260, 22919, 10325,\n",
       "        23925, 14150, 10325,  1012,   102,     0,     0,     0,     0,     0,\n",
       "            0,     0,     0,     0,     0,     0,     0,     0])"
      ]
     },
     "execution_count": 16,
     "metadata": {},
     "output_type": "execute_result"
    }
   ],
   "source": [
    "encoded_dataset['train']['input_ids'][0]"
   ]
  },
  {
   "cell_type": "code",
   "execution_count": 17,
   "id": "191ea74c",
   "metadata": {},
   "outputs": [
    {
     "data": {
      "text/plain": [
       "SequenceClassifierOutput(loss=tensor(0.7265, grad_fn=<BinaryCrossEntropyWithLogitsBackward0>), logits=tensor([[-0.2958, -0.2201,  0.2289]], grad_fn=<AddmmBackward0>), hidden_states=None, attentions=None)"
      ]
     },
     "execution_count": 17,
     "metadata": {},
     "output_type": "execute_result"
    }
   ],
   "source": [
    "#forward pass\n",
    "outputs = model(input_ids=encoded_dataset['train']['input_ids'][0].unsqueeze(0),\n",
    "                labels=encoded_dataset['train'][0]['labels'].unsqueeze(0))\n",
    "outputs"
   ]
  },
  {
   "cell_type": "code",
   "execution_count": 18,
   "id": "8d7bb339",
   "metadata": {},
   "outputs": [],
   "source": [
    "softmax = torch.nn.Softmax(dim=-1)"
   ]
  },
  {
   "cell_type": "markdown",
   "id": "55f5eec7",
   "metadata": {},
   "source": [
    "### Предсказание перед обучением"
   ]
  },
  {
   "cell_type": "code",
   "execution_count": 19,
   "id": "d1cebbf1",
   "metadata": {},
   "outputs": [],
   "source": [
    "def predict(idx):\n",
    "    print(f\"Text_1: {dataset['test'][idx]['text_1']}\")\n",
    "    print(f\"Text_2: {dataset['test'][idx]['text_2']}\")\n",
    "    print(f\"Class: {dataset['test'][idx]['class']}\")\n",
    "    print(f\"-------------------------------------------\")\n",
    "    encoding = tokenizer(dataset['test'][idx]['text_1'], dataset['test'][idx]['text_2'], return_tensors=\"pt\")\n",
    "    encoding = {k: v.to(model.device) for k,v in encoding.items()}\n",
    "    outputs = model(**encoding)\n",
    "    probs = softmax(outputs.logits.squeeze().cpu()).detach().numpy()\n",
    "    print(f\"Probs: {probs}\")\n",
    "    print(f\"Label: {model.config.id2label[probs.argmax(axis=-1)]}\")"
   ]
  },
  {
   "cell_type": "code",
   "execution_count": 20,
   "id": "08635bcc",
   "metadata": {
    "scrolled": true
   },
   "outputs": [
    {
     "name": "stdout",
     "output_type": "stream",
     "text": [
      "Text_1: Цены на нефть восстанавливаются\n",
      "Text_2: Парламент Словакии поблагодарил народы бывшего СССР за Победу\n",
      "Class: -1\n",
      "-------------------------------------------\n",
      "Probs: [0.32632005 0.25832552 0.41535443]\n",
      "Label: class_1\n"
     ]
    }
   ],
   "source": [
    "predict(0)"
   ]
  },
  {
   "cell_type": "code",
   "execution_count": 21,
   "id": "40519c73",
   "metadata": {},
   "outputs": [
    {
     "name": "stdout",
     "output_type": "stream",
     "text": [
      "Text_1: Вертолет с 11 иностранцами на борту упал в Пакистане\n",
      "Text_2: В Пакистане упал вертолет с 11 иностранцами\n",
      "Class: 1\n",
      "-------------------------------------------\n",
      "Probs: [0.37363523 0.23425287 0.39211184]\n",
      "Label: class_1\n"
     ]
    }
   ],
   "source": [
    "predict(5)"
   ]
  },
  {
   "cell_type": "markdown",
   "id": "be7049fe",
   "metadata": {},
   "source": [
    "### Обучение"
   ]
  },
  {
   "cell_type": "code",
   "execution_count": 22,
   "id": "acbcff8c",
   "metadata": {},
   "outputs": [],
   "source": [
    "batch_size = 8\n",
    "metric_name = \"f1\""
   ]
  },
  {
   "cell_type": "code",
   "execution_count": 23,
   "id": "5514abef",
   "metadata": {},
   "outputs": [],
   "source": [
    "small_train_dataset = encoded_dataset[\"train\"].shuffle(seed=42).select(range(1000))\n",
    "small_eval_dataset = encoded_dataset[\"test\"].shuffle(seed=42).select(range(200))"
   ]
  },
  {
   "cell_type": "code",
   "execution_count": 24,
   "id": "f805e5bd",
   "metadata": {},
   "outputs": [],
   "source": [
    "# source: https://jesusleal.io/2021/04/21/Longformer-multilabel-classification/\n",
    "def multi_label_metrics(predictions, labels, threshold=0.5):\n",
    "    # first, apply sigmoid on predictions which are of shape (batch_size, num_labels)\n",
    "    #sigmoid = torch.nn.Sigmoid()\n",
    "    #probs = sigmoid(torch.Tensor(predictions))\n",
    "    # next, use threshold to turn them into integer predictions\n",
    "    #y_pred = np.zeros(probs.shape)\n",
    "    #y_pred[np.where(probs >= threshold)] = 1\n",
    "    \n",
    "    # first, apply softmax on predictions which are of shape (batch_size, num_labels)\n",
    "    softmax = torch.nn.Softmax(dim=-1)\n",
    "    probs = softmax(torch.Tensor(predictions))\n",
    "    #print(f'probs:\\n{probs}')\n",
    "    #print(f'probs.argmax:\\n{probs.argmax(axis=-1)}')\n",
    "\n",
    "    # next, use argmax to turn them into integer predictions\n",
    "    y_pred = np.zeros(probs.shape)\n",
    "    for i in range(len(y_pred)):\n",
    "        y_pred[i, probs[i].argmax(axis=-1)] = 1\n",
    "    #print(f'y_pred:\\n{y_pred}')\n",
    "    \n",
    "    # finally, compute metrics\n",
    "    y_true = labels\n",
    "    #print(f'y_true:\\n{y_true}')\n",
    "\n",
    "    f1_micro_average = f1_score(y_true=y_true, y_pred=y_pred, average='micro')\n",
    "    roc_auc = roc_auc_score(y_true, y_pred, average = 'micro')\n",
    "    accuracy = accuracy_score(y_true, y_pred)\n",
    "    # return as dictionary\n",
    "    metrics = {'f1': f1_micro_average,\n",
    "               'roc_auc': roc_auc,\n",
    "               'accuracy': accuracy}\n",
    "    return metrics\n",
    "\n",
    "def compute_metrics(p: EvalPrediction):\n",
    "    preds = p.predictions[0] if isinstance(p.predictions, \n",
    "            tuple) else p.predictions\n",
    "    result = multi_label_metrics(\n",
    "        predictions=preds, \n",
    "        labels=p.label_ids)\n",
    "    return result"
   ]
  },
  {
   "cell_type": "code",
   "execution_count": 25,
   "id": "701f6637",
   "metadata": {},
   "outputs": [],
   "source": [
    "args = TrainingArguments(\n",
    "    f\"bert-finetuned\",\n",
    "    evaluation_strategy = \"epoch\",\n",
    "    save_strategy = \"epoch\",\n",
    "    learning_rate=2e-5,\n",
    "    per_device_train_batch_size=batch_size,\n",
    "    per_device_eval_batch_size=batch_size,\n",
    "    num_train_epochs=5,\n",
    "    weight_decay=0.01,\n",
    "    load_best_model_at_end=True,\n",
    "    metric_for_best_model=metric_name,\n",
    "    #push_to_hub=True,\n",
    ")"
   ]
  },
  {
   "cell_type": "code",
   "execution_count": 26,
   "id": "f7a88401",
   "metadata": {},
   "outputs": [],
   "source": [
    "trainer = Trainer(\n",
    "    model,\n",
    "    args,\n",
    "    train_dataset=small_train_dataset,\n",
    "    eval_dataset=small_eval_dataset,\n",
    "    tokenizer=tokenizer,\n",
    "    compute_metrics=compute_metrics\n",
    ")"
   ]
  },
  {
   "cell_type": "code",
   "execution_count": 27,
   "id": "4bcdfef2",
   "metadata": {
    "scrolled": false
   },
   "outputs": [
    {
     "name": "stderr",
     "output_type": "stream",
     "text": [
      "C:\\Users\\Kartsev.ES\\Anaconda3\\lib\\site-packages\\transformers\\optimization.py:306: FutureWarning: This implementation of AdamW is deprecated and will be removed in a future version. Use the PyTorch implementation torch.optim.AdamW instead, or set `no_deprecation_warning=True` to disable this warning\n",
      "  warnings.warn(\n",
      "***** Running training *****\n",
      "  Num examples = 1000\n",
      "  Num Epochs = 5\n",
      "  Instantaneous batch size per device = 8\n",
      "  Total train batch size (w. parallel, distributed & accumulation) = 8\n",
      "  Gradient Accumulation steps = 1\n",
      "  Total optimization steps = 625\n"
     ]
    },
    {
     "data": {
      "text/html": [
       "\n",
       "    <div>\n",
       "      \n",
       "      <progress value='625' max='625' style='width:300px; height:20px; vertical-align: middle;'></progress>\n",
       "      [625/625 42:31, Epoch 5/5]\n",
       "    </div>\n",
       "    <table border=\"1\" class=\"dataframe\">\n",
       "  <thead>\n",
       " <tr style=\"text-align: left;\">\n",
       "      <th>Epoch</th>\n",
       "      <th>Training Loss</th>\n",
       "      <th>Validation Loss</th>\n",
       "      <th>F1</th>\n",
       "      <th>Roc Auc</th>\n",
       "      <th>Accuracy</th>\n",
       "    </tr>\n",
       "  </thead>\n",
       "  <tbody>\n",
       "    <tr>\n",
       "      <td>1</td>\n",
       "      <td>No log</td>\n",
       "      <td>0.603961</td>\n",
       "      <td>0.450000</td>\n",
       "      <td>0.587500</td>\n",
       "      <td>0.450000</td>\n",
       "    </tr>\n",
       "    <tr>\n",
       "      <td>2</td>\n",
       "      <td>No log</td>\n",
       "      <td>0.576186</td>\n",
       "      <td>0.490000</td>\n",
       "      <td>0.617500</td>\n",
       "      <td>0.490000</td>\n",
       "    </tr>\n",
       "    <tr>\n",
       "      <td>3</td>\n",
       "      <td>No log</td>\n",
       "      <td>0.597678</td>\n",
       "      <td>0.525000</td>\n",
       "      <td>0.643750</td>\n",
       "      <td>0.525000</td>\n",
       "    </tr>\n",
       "    <tr>\n",
       "      <td>4</td>\n",
       "      <td>0.545300</td>\n",
       "      <td>0.593498</td>\n",
       "      <td>0.545000</td>\n",
       "      <td>0.658750</td>\n",
       "      <td>0.545000</td>\n",
       "    </tr>\n",
       "    <tr>\n",
       "      <td>5</td>\n",
       "      <td>0.545300</td>\n",
       "      <td>0.618576</td>\n",
       "      <td>0.495000</td>\n",
       "      <td>0.621250</td>\n",
       "      <td>0.495000</td>\n",
       "    </tr>\n",
       "  </tbody>\n",
       "</table><p>"
      ],
      "text/plain": [
       "<IPython.core.display.HTML object>"
      ]
     },
     "metadata": {},
     "output_type": "display_data"
    },
    {
     "name": "stderr",
     "output_type": "stream",
     "text": [
      "***** Running Evaluation *****\n",
      "  Num examples = 200\n",
      "  Batch size = 8\n",
      "Saving model checkpoint to bert-finetuned\\checkpoint-125\n",
      "Configuration saved in bert-finetuned\\checkpoint-125\\config.json\n",
      "Model weights saved in bert-finetuned\\checkpoint-125\\pytorch_model.bin\n",
      "tokenizer config file saved in bert-finetuned\\checkpoint-125\\tokenizer_config.json\n",
      "Special tokens file saved in bert-finetuned\\checkpoint-125\\special_tokens_map.json\n",
      "***** Running Evaluation *****\n",
      "  Num examples = 200\n",
      "  Batch size = 8\n",
      "Saving model checkpoint to bert-finetuned\\checkpoint-250\n",
      "Configuration saved in bert-finetuned\\checkpoint-250\\config.json\n",
      "Model weights saved in bert-finetuned\\checkpoint-250\\pytorch_model.bin\n",
      "tokenizer config file saved in bert-finetuned\\checkpoint-250\\tokenizer_config.json\n",
      "Special tokens file saved in bert-finetuned\\checkpoint-250\\special_tokens_map.json\n",
      "***** Running Evaluation *****\n",
      "  Num examples = 200\n",
      "  Batch size = 8\n",
      "Saving model checkpoint to bert-finetuned\\checkpoint-375\n",
      "Configuration saved in bert-finetuned\\checkpoint-375\\config.json\n",
      "Model weights saved in bert-finetuned\\checkpoint-375\\pytorch_model.bin\n",
      "tokenizer config file saved in bert-finetuned\\checkpoint-375\\tokenizer_config.json\n",
      "Special tokens file saved in bert-finetuned\\checkpoint-375\\special_tokens_map.json\n",
      "***** Running Evaluation *****\n",
      "  Num examples = 200\n",
      "  Batch size = 8\n",
      "Saving model checkpoint to bert-finetuned\\checkpoint-500\n",
      "Configuration saved in bert-finetuned\\checkpoint-500\\config.json\n",
      "Model weights saved in bert-finetuned\\checkpoint-500\\pytorch_model.bin\n",
      "tokenizer config file saved in bert-finetuned\\checkpoint-500\\tokenizer_config.json\n",
      "Special tokens file saved in bert-finetuned\\checkpoint-500\\special_tokens_map.json\n",
      "***** Running Evaluation *****\n",
      "  Num examples = 200\n",
      "  Batch size = 8\n",
      "Saving model checkpoint to bert-finetuned\\checkpoint-625\n",
      "Configuration saved in bert-finetuned\\checkpoint-625\\config.json\n",
      "Model weights saved in bert-finetuned\\checkpoint-625\\pytorch_model.bin\n",
      "tokenizer config file saved in bert-finetuned\\checkpoint-625\\tokenizer_config.json\n",
      "Special tokens file saved in bert-finetuned\\checkpoint-625\\special_tokens_map.json\n",
      "\n",
      "\n",
      "Training completed. Do not forget to share your model on huggingface.co/models =)\n",
      "\n",
      "\n",
      "Loading best model from bert-finetuned\\checkpoint-500 (score: 0.545).\n"
     ]
    },
    {
     "data": {
      "text/plain": [
       "TrainOutput(global_step=625, training_loss=0.5190874633789062, metrics={'train_runtime': 2556.3043, 'train_samples_per_second': 1.956, 'train_steps_per_second': 0.244, 'total_flos': 328891772160000.0, 'train_loss': 0.5190874633789062, 'epoch': 5.0})"
      ]
     },
     "execution_count": 27,
     "metadata": {},
     "output_type": "execute_result"
    }
   ],
   "source": [
    "trainer.train()"
   ]
  },
  {
   "cell_type": "code",
   "execution_count": 28,
   "id": "a0ea9a3b",
   "metadata": {},
   "outputs": [
    {
     "name": "stderr",
     "output_type": "stream",
     "text": [
      "***** Running Evaluation *****\n",
      "  Num examples = 200\n",
      "  Batch size = 8\n"
     ]
    },
    {
     "data": {
      "text/html": [
       "\n",
       "    <div>\n",
       "      \n",
       "      <progress value='25' max='25' style='width:300px; height:20px; vertical-align: middle;'></progress>\n",
       "      [25/25 00:21]\n",
       "    </div>\n",
       "    "
      ],
      "text/plain": [
       "<IPython.core.display.HTML object>"
      ]
     },
     "metadata": {},
     "output_type": "display_data"
    },
    {
     "data": {
      "text/plain": [
       "{'eval_loss': 0.5934982299804688,\n",
       " 'eval_f1': 0.545,\n",
       " 'eval_roc_auc': 0.65875,\n",
       " 'eval_accuracy': 0.545,\n",
       " 'eval_runtime': 22.7767,\n",
       " 'eval_samples_per_second': 8.781,\n",
       " 'eval_steps_per_second': 1.098,\n",
       " 'epoch': 5.0}"
      ]
     },
     "execution_count": 28,
     "metadata": {},
     "output_type": "execute_result"
    }
   ],
   "source": [
    "trainer.evaluate()"
   ]
  },
  {
   "cell_type": "markdown",
   "id": "ad211983",
   "metadata": {},
   "source": [
    "### Предсказание после обучения"
   ]
  },
  {
   "cell_type": "code",
   "execution_count": 29,
   "id": "49c7496d",
   "metadata": {},
   "outputs": [
    {
     "name": "stdout",
     "output_type": "stream",
     "text": [
      "Text_1: Цены на нефть восстанавливаются\n",
      "Text_2: Парламент Словакии поблагодарил народы бывшего СССР за Победу\n",
      "Class: -1\n",
      "-------------------------------------------\n",
      "Probs: [0.95633435 0.03367946 0.00998617]\n",
      "Label: class_-1\n"
     ]
    }
   ],
   "source": [
    "predict(0)"
   ]
  },
  {
   "cell_type": "code",
   "execution_count": 30,
   "id": "0c85c0ea",
   "metadata": {},
   "outputs": [
    {
     "name": "stdout",
     "output_type": "stream",
     "text": [
      "Text_1: Вертолет с 11 иностранцами на борту упал в Пакистане\n",
      "Text_2: В Пакистане упал вертолет с 11 иностранцами\n",
      "Class: 1\n",
      "-------------------------------------------\n",
      "Probs: [0.03318259 0.67381936 0.29299802]\n",
      "Label: class_0\n"
     ]
    }
   ],
   "source": [
    "predict(5)"
   ]
  }
 ],
 "metadata": {
  "kernelspec": {
   "display_name": "Python 3 (ipykernel)",
   "language": "python",
   "name": "python3"
  },
  "language_info": {
   "codemirror_mode": {
    "name": "ipython",
    "version": 3
   },
   "file_extension": ".py",
   "mimetype": "text/x-python",
   "name": "python",
   "nbconvert_exporter": "python",
   "pygments_lexer": "ipython3",
   "version": "3.8.5"
  }
 },
 "nbformat": 4,
 "nbformat_minor": 5
}
