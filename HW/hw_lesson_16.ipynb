{
 "cells": [
  {
   "cell_type": "markdown",
   "id": "43400898",
   "metadata": {},
   "source": [
    "Интенты:  \n",
    "1. \"Болталка\" (FastText, датасет с урока №3 https://disk.yandex.ru/d/SLgpFrmrBubeYg).  \n",
    "2. \"Шеф повар\" (предобученная модель huggingface sberbank-ai/rugpt3small_based_on_gpt2, finetuning на датасете https://www.kaggle.com/datasets/coolonce/recipes-and-interpretation-dim).  \n",
    "3. Базовые интенты - \"текущее время\", \"прощание\".  \n",
    "Для классификации интентов сначала проверяем наличие определенных слов (\"время\", \"час\", \"спасибо\", \"пока\"), далее классическая модель классификатора с TFIdf-векторайзером."
   ]
  },
  {
   "cell_type": "code",
   "execution_count": 1,
   "id": "328b3425",
   "metadata": {},
   "outputs": [],
   "source": [
    "import numpy as np\n",
    "import pandas as pd\n",
    "\n",
    "from ufal.udpipe import Model, Pipeline\n",
    "from gensim.models import FastText\n",
    "import annoy\n",
    "\n",
    "import wget\n",
    "import os\n",
    "import sys\n",
    "\n",
    "import pickle\n",
    "from tqdm.notebook import tqdm"
   ]
  },
  {
   "cell_type": "markdown",
   "id": "0f4c203f",
   "metadata": {},
   "source": [
    "## 1. Интент \"Болталка\""
   ]
  },
  {
   "cell_type": "markdown",
   "id": "45376144",
   "metadata": {},
   "source": [
    "### 1.1. Подготовка данных"
   ]
  },
  {
   "cell_type": "markdown",
   "id": "d4b3cf9c",
   "metadata": {},
   "source": [
    "#### Преобразование файла"
   ]
  },
  {
   "cell_type": "code",
   "execution_count": 2,
   "id": "7a23f69f",
   "metadata": {},
   "outputs": [
    {
     "data": {
      "application/vnd.jupyter.widget-view+json": {
       "model_id": "db2f9cc15a354713beb86fa16b75677b",
       "version_major": 2,
       "version_minor": 0
      },
      "text/plain": [
       "0it [00:00, ?it/s]"
      ]
     },
     "metadata": {},
     "output_type": "display_data"
    },
    {
     "name": "stdout",
     "output_type": "stream",
     "text": [
      "Wall time: 19.8 s\n"
     ]
    }
   ],
   "source": [
    "%%time\n",
    "question = None\n",
    "written = False\n",
    "with open('./data/prepared_answers.txt', 'w', encoding='utf-8') as fout:\n",
    "    with open('./data/Otvety.txt', 'r', encoding='utf-8') as fin:\n",
    "        for line in tqdm(fin):\n",
    "            if line.startswith(\"---\"):\n",
    "                written = False\n",
    "                continue\n",
    "            if not written and question is not None:\n",
    "                fout.write(question.replace(\"\\t\", \" \").strip() + \"\\t\" + line.replace(\"\\t\", \" \"))\n",
    "                written = True\n",
    "                question = None\n",
    "                continue\n",
    "            if not written:\n",
    "                question = line.strip()\n",
    "                continue"
   ]
  },
  {
   "cell_type": "markdown",
   "id": "4cea49e4",
   "metadata": {},
   "source": [
    "#### Предобработка текстов"
   ]
  },
  {
   "cell_type": "markdown",
   "id": "576fc509",
   "metadata": {},
   "source": [
    "https://github.com/akutuzov/webvectors/blob/master/preprocessing/rusvectores_tutorial.ipynb\n",
    "https://github.com/akutuzov/webvectors/blob/master/preprocessing/rus_preprocessing_udpipe.py"
   ]
  },
  {
   "cell_type": "code",
   "execution_count": 3,
   "id": "00824185",
   "metadata": {},
   "outputs": [],
   "source": [
    "def num_replace(word):\n",
    "    newtoken = 'x' * len(word)\n",
    "    return newtoken\n",
    "\n",
    "\n",
    "def clean_token(token, misc):\n",
    "    out_token = token.strip().replace(' ', '')\n",
    "    if token == 'Файл' and 'SpaceAfter=No' in misc:\n",
    "        return None\n",
    "    return out_token\n",
    "\n",
    "\n",
    "def clean_lemma(lemma, pos):\n",
    "    out_lemma = lemma.strip().replace(' ', '').replace('_', '').lower()\n",
    "    if '|' in out_lemma or out_lemma.endswith('.jpg') or out_lemma.endswith('.png'):\n",
    "        return None\n",
    "    if pos != 'PUNCT':\n",
    "        if out_lemma.startswith('«') or out_lemma.startswith('»'):\n",
    "            out_lemma = ''.join(out_lemma[1:])\n",
    "        if out_lemma.endswith('«') or out_lemma.endswith('»'):\n",
    "            out_lemma = ''.join(out_lemma[:-1])\n",
    "        if out_lemma.endswith('!') or out_lemma.endswith('?') or out_lemma.endswith(',') \\\n",
    "                or out_lemma.endswith('.'):\n",
    "            out_lemma = ''.join(out_lemma[:-1])\n",
    "    return out_lemma"
   ]
  },
  {
   "cell_type": "code",
   "execution_count": 4,
   "id": "d82fc20f",
   "metadata": {},
   "outputs": [],
   "source": [
    "def process(pipeline, text='Строка', keep_pos=True, keep_punct=False):\n",
    "    entities = {'PROPN'}\n",
    "    named = False\n",
    "    memory = []\n",
    "    mem_case = None\n",
    "    mem_number = None\n",
    "    tagged_propn = []\n",
    "\n",
    "    # обрабатываем текст, получаем результат в формате conllu:\n",
    "    processed = pipeline.process(text)\n",
    "\n",
    "    # пропускаем строки со служебной информацией:\n",
    "    content = [l for l in processed.split('\\n') if not l.startswith('#')]\n",
    "\n",
    "    # извлекаем из обработанного текста леммы, тэги и морфологические характеристики\n",
    "    tagged = [w.split('\\t') for w in content if w]\n",
    "\n",
    "    for t in tagged:\n",
    "        if len(t) != 10:\n",
    "            continue\n",
    "        (word_id, token, lemma, pos, xpos, feats, head, deprel, deps, misc) = t\n",
    "        token = clean_token(token, misc)\n",
    "        lemma = clean_lemma(lemma, pos)\n",
    "        if not lemma or not token:\n",
    "            continue\n",
    "        if pos in entities:\n",
    "            if '|' not in feats:\n",
    "                tagged_propn.append('%s_%s' % (lemma, pos))\n",
    "                continue\n",
    "            morph = {el.split('=')[0]: el.split('=')[1] for el in feats.split('|')}\n",
    "            if 'Case' not in morph or 'Number' not in morph:\n",
    "                tagged_propn.append('%s_%s' % (lemma, pos))\n",
    "                continue\n",
    "            if not named:\n",
    "                named = True\n",
    "                mem_case = morph['Case']\n",
    "                mem_number = morph['Number']\n",
    "            if morph['Case'] == mem_case and morph['Number'] == mem_number:\n",
    "                memory.append(lemma)\n",
    "                if 'SpacesAfter=\\\\n' in misc or 'SpacesAfter=\\s\\\\n' in misc:\n",
    "                    named = False\n",
    "                    past_lemma = '::'.join(memory)\n",
    "                    memory = []\n",
    "                    tagged_propn.append(past_lemma + '_PROPN ')\n",
    "            else:\n",
    "                named = False\n",
    "                past_lemma = '::'.join(memory)\n",
    "                memory = []\n",
    "                tagged_propn.append(past_lemma + '_PROPN ')\n",
    "                tagged_propn.append('%s_%s' % (lemma, pos))\n",
    "        else:\n",
    "            if not named:\n",
    "                if pos == 'NUM' and token.isdigit():  # Заменяем числа на xxxxx той же длины\n",
    "                    lemma = num_replace(token)\n",
    "                tagged_propn.append('%s_%s' % (lemma, pos))\n",
    "            else:\n",
    "                named = False\n",
    "                past_lemma = '::'.join(memory)\n",
    "                memory = []\n",
    "                tagged_propn.append(past_lemma + '_PROPN ')\n",
    "                tagged_propn.append('%s_%s' % (lemma, pos))\n",
    "\n",
    "    if not keep_punct:\n",
    "        tagged_propn = [word for word in tagged_propn if word.split('_')[1] != 'PUNCT']\n",
    "    if not keep_pos:\n",
    "        tagged_propn = [word.split('_')[0] for word in tagged_propn]\n",
    "    return tagged_propn"
   ]
  },
  {
   "cell_type": "code",
   "execution_count": 5,
   "id": "56a967c7",
   "metadata": {},
   "outputs": [
    {
     "name": "stderr",
     "output_type": "stream",
     "text": [
      "\n",
      "Loading the model...\n"
     ]
    }
   ],
   "source": [
    "udpipe_model_url = 'https://rusvectores.org/static/models/udpipe_syntagrus.model'\n",
    "udpipe_filename = './models/' + udpipe_model_url.split('/')[-1]\n",
    "\n",
    "if not os.path.isfile(udpipe_filename):\n",
    "    print('UDPipe model not found. Downloading...', file=sys.stderr)\n",
    "    wget.download(udpipe_model_url)\n",
    "\n",
    "print('\\nLoading the model...', file=sys.stderr)\n",
    "model = Model.load(udpipe_filename)\n",
    "process_pipeline = Pipeline(model, 'tokenize', Pipeline.DEFAULT, Pipeline.DEFAULT, 'conllu')"
   ]
  },
  {
   "cell_type": "code",
   "execution_count": 6,
   "id": "0878093d",
   "metadata": {},
   "outputs": [],
   "source": [
    "def preprocess_text(txt, keep_pos):\n",
    "    txt = str(txt)\n",
    "    output = process(process_pipeline, text=txt, keep_pos=keep_pos)\n",
    "    return output"
   ]
  },
  {
   "cell_type": "code",
   "execution_count": 7,
   "id": "91bc9aac",
   "metadata": {},
   "outputs": [
    {
     "data": {
      "application/vnd.jupyter.widget-view+json": {
       "model_id": "139303e269664069855c61cba5779fc9",
       "version_major": 2,
       "version_minor": 0
      },
      "text/plain": [
       "0it [00:00, ?it/s]"
      ]
     },
     "metadata": {},
     "output_type": "display_data"
    },
    {
     "name": "stdout",
     "output_type": "stream",
     "text": [
      "Wall time: 2h 20s\n"
     ]
    }
   ],
   "source": [
    "%%time\n",
    "sentences = []\n",
    "c = 1\n",
    "with open('./data/Otvety.txt', 'r', encoding='utf-8') as fin:\n",
    "    for line in tqdm(fin):\n",
    "        spls = preprocess_text(line, keep_pos=False)\n",
    "        sentences.append(spls)\n",
    "        c += 1\n",
    "        if c > 500000:\n",
    "            break"
   ]
  },
  {
   "cell_type": "code",
   "execution_count": 8,
   "id": "7624caf7",
   "metadata": {},
   "outputs": [],
   "source": [
    "sentences = [i for i in sentences if len(i) > 2]"
   ]
  },
  {
   "cell_type": "code",
   "execution_count": 9,
   "id": "dbf1438e",
   "metadata": {},
   "outputs": [
    {
     "name": "stdout",
     "output_type": "stream",
     "text": [
      "378290\n"
     ]
    },
    {
     "data": {
      "text/plain": [
       "['в',\n",
       " 'сколько',\n",
       " 'раз',\n",
       " 'волна',\n",
       " 'длина',\n",
       " '0.4',\n",
       " 'микрометр',\n",
       " 'ослабевать',\n",
       " 'вследствие',\n",
       " 'молекулярный',\n",
       " 'рассеивание',\n",
       " 'чем',\n",
       " 'волна',\n",
       " '0.75',\n",
       " 'мкм']"
      ]
     },
     "execution_count": 9,
     "metadata": {},
     "output_type": "execute_result"
    }
   ],
   "source": [
    "print(len(sentences))\n",
    "sentences[1000]"
   ]
  },
  {
   "cell_type": "markdown",
   "id": "8e8b1b83",
   "metadata": {},
   "source": [
    "#### Сохраним результат"
   ]
  },
  {
   "cell_type": "code",
   "execution_count": 10,
   "id": "13de2a87",
   "metadata": {},
   "outputs": [],
   "source": [
    "with open('./data/sentences.pkl', 'wb') as f:\n",
    "    pickle.dump(sentences, f)"
   ]
  },
  {
   "cell_type": "markdown",
   "id": "6355843e",
   "metadata": {},
   "source": [
    " ### 1.2. Обучение модели FastText"
   ]
  },
  {
   "cell_type": "code",
   "execution_count": 11,
   "id": "ff2afa6d",
   "metadata": {},
   "outputs": [
    {
     "name": "stdout",
     "output_type": "stream",
     "text": [
      "Start train FastText...\n",
      "Wall time: 3min 16s\n"
     ]
    }
   ],
   "source": [
    "%%time\n",
    "print('Start train FastText...')\n",
    "modelFT = FastText(sentences=sentences, vector_size=100, min_count=1, window=5, workers=8)"
   ]
  },
  {
   "cell_type": "markdown",
   "id": "8847bb84",
   "metadata": {},
   "source": [
    "#### Сохраним результат"
   ]
  },
  {
   "cell_type": "code",
   "execution_count": 12,
   "id": "a73a93a7",
   "metadata": {},
   "outputs": [],
   "source": [
    "modelFT.save('./models/ft_model')"
   ]
  },
  {
   "cell_type": "markdown",
   "id": "0f4be810",
   "metadata": {},
   "source": [
    "### 1.3. Построение индекса \"ближайших соседей\" и словаря маппинга"
   ]
  },
  {
   "cell_type": "code",
   "execution_count": 13,
   "id": "d6355f25",
   "metadata": {},
   "outputs": [
    {
     "data": {
      "application/vnd.jupyter.widget-view+json": {
       "model_id": "96297855d81642e0a435c68477c0eb86",
       "version_major": 2,
       "version_minor": 0
      },
      "text/plain": [
       "0it [00:00, ?it/s]"
      ]
     },
     "metadata": {},
     "output_type": "display_data"
    },
    {
     "name": "stdout",
     "output_type": "stream",
     "text": [
      "Wall time: 4h 47min 49s\n"
     ]
    },
    {
     "data": {
      "text/plain": [
       "True"
      ]
     },
     "execution_count": 13,
     "metadata": {},
     "output_type": "execute_result"
    }
   ],
   "source": [
    "%%time\n",
    "ft_index = annoy.AnnoyIndex(100 ,'angular')\n",
    "index_map = {}\n",
    "counter = 0\n",
    "with open('./data/prepared_answers.txt', 'r', encoding='utf-8') as f:\n",
    "    for line in tqdm(f):\n",
    "        n_ft = 0\n",
    "        spls = line.split(\"\\t\")\n",
    "        index_map[counter] = spls[1]\n",
    "        question = preprocess_text(spls[0], keep_pos=False)\n",
    "        vector_ft = np.zeros(100)\n",
    "        for word in question:\n",
    "            if word in modelFT.wv:\n",
    "                vector_ft += modelFT.wv[word]\n",
    "                n_ft += 1\n",
    "        if n_ft > 0:\n",
    "            vector_ft = vector_ft / n_ft\n",
    "        ft_index.add_item(counter, vector_ft)\n",
    "            \n",
    "        counter += 1\n",
    "\n",
    "ft_index.build(10)"
   ]
  },
  {
   "cell_type": "markdown",
   "id": "39cfec96",
   "metadata": {},
   "source": [
    "#### Сохраним результаты"
   ]
  },
  {
   "cell_type": "code",
   "execution_count": 14,
   "id": "970174a8",
   "metadata": {},
   "outputs": [],
   "source": [
    "ft_index.save('./models/speaker.ann')\n",
    "with open('./models/index_map.pkl', 'wb') as f:\n",
    "    pickle.dump(index_map, f)"
   ]
  },
  {
   "cell_type": "markdown",
   "id": "cd54deb7",
   "metadata": {},
   "source": [
    "### 1.4. Загрузка сохранённых объектов (опционально)"
   ]
  },
  {
   "cell_type": "code",
   "execution_count": 15,
   "id": "288ae36f",
   "metadata": {},
   "outputs": [],
   "source": [
    "if 0:\n",
    "    #Предобработанные тексты\n",
    "    with open('./data/sentences.pkl', 'rb') as f:\n",
    "        sentences = pickle.load(f)\n",
    "    \n",
    "    #Модель FastText\n",
    "    modelFT = FastText.load(\"./models/ft_model\")\n",
    "    \n",
    "    #AnnoyIndex\n",
    "    ft_index = annoy.AnnoyIndex(100, 'angular')\n",
    "    ft_index.load('./models/speaker.ann') \n",
    "    \n",
    "    #Маппинг\n",
    "    with open('./models/index_map.pkl', 'rb') as f:\n",
    "        index_map = pickle.load(f)"
   ]
  },
  {
   "cell_type": "markdown",
   "id": "835ceb0c",
   "metadata": {},
   "source": [
    "### 1.5. Тест \"болталки\""
   ]
  },
  {
   "cell_type": "code",
   "execution_count": 16,
   "id": "3f578c81",
   "metadata": {},
   "outputs": [],
   "source": [
    "def embed_txt(txt, idfs, midf):\n",
    "    n_ft = 0\n",
    "    vector_ft = np.zeros(100)\n",
    "    for word in txt:\n",
    "        if word in modelFT.wv:\n",
    "            vector_ft += modelFT.wv[word] * 1 # idfs.get(word, midf)\n",
    "            n_ft += 1 # idfs.get(word, midf)\n",
    "    return vector_ft / n_ft if n_ft > 0 else vector_ft"
   ]
  },
  {
   "cell_type": "code",
   "execution_count": 17,
   "id": "348d2f2b",
   "metadata": {},
   "outputs": [],
   "source": [
    "def get_speaker_answer(input_txt, var_count):\n",
    "    input_txt = preprocess_text(input_txt, keep_pos=False)\n",
    "    vect_ft = embed_txt(input_txt, {}, 1)\n",
    "    ft_index_val, distances = ft_index.get_nns_by_vector(vect_ft, var_count, include_distances=True)\n",
    "    if distances[0] > 0.35:\n",
    "        print(\"Моя твоя не понимать\")\n",
    "        print(distances[0])\n",
    "        return\n",
    "    print(index_map[np.random.choice(ft_index_val)])"
   ]
  },
  {
   "cell_type": "code",
   "execution_count": 18,
   "id": "f1b5b39f",
   "metadata": {},
   "outputs": [
    {
     "name": "stdout",
     "output_type": "stream",
     "text": [
      "непринужденно так.... как будто приглашают..... \n",
      "\n"
     ]
    }
   ],
   "source": [
    "get_speaker_answer('Как тебя зовут?', 1)"
   ]
  },
  {
   "cell_type": "markdown",
   "id": "fd8d0515",
   "metadata": {},
   "source": [
    "## 2. Интент \"Шеф-повар\""
   ]
  },
  {
   "cell_type": "code",
   "execution_count": 19,
   "id": "b5191dbf",
   "metadata": {},
   "outputs": [],
   "source": [
    "import re\n",
    "from sklearn.model_selection import train_test_split\n",
    "\n",
    "from transformers import AutoTokenizer\n",
    "from transformers import TextDataset, DataCollatorForLanguageModeling\n",
    "from transformers import Trainer, TrainingArguments, AutoModelForCausalLM"
   ]
  },
  {
   "cell_type": "markdown",
   "id": "d318cb4c",
   "metadata": {},
   "source": [
    "### 2.1. Подготовка данных"
   ]
  },
  {
   "cell_type": "markdown",
   "id": "6dc4bb39",
   "metadata": {},
   "source": [
    "Датасет https://www.kaggle.com/datasets/coolonce/recipes-and-interpretation-dim"
   ]
  },
  {
   "cell_type": "code",
   "execution_count": 20,
   "id": "0db7ed7b",
   "metadata": {},
   "outputs": [],
   "source": [
    "df_rec = pd.read_csv('./data/all_recepies_inter.csv', sep='\\t')"
   ]
  },
  {
   "cell_type": "code",
   "execution_count": 21,
   "id": "cc1035ab",
   "metadata": {},
   "outputs": [
    {
     "data": {
      "text/html": [
       "<div>\n",
       "<style scoped>\n",
       "    .dataframe tbody tr th:only-of-type {\n",
       "        vertical-align: middle;\n",
       "    }\n",
       "\n",
       "    .dataframe tbody tr th {\n",
       "        vertical-align: top;\n",
       "    }\n",
       "\n",
       "    .dataframe thead th {\n",
       "        text-align: right;\n",
       "    }\n",
       "</style>\n",
       "<table border=\"1\" class=\"dataframe\">\n",
       "  <thead>\n",
       "    <tr style=\"text-align: right;\">\n",
       "      <th></th>\n",
       "      <th>Unnamed: 0</th>\n",
       "      <th>name</th>\n",
       "      <th>composition</th>\n",
       "      <th>cooking_type</th>\n",
       "      <th>Инструкции</th>\n",
       "      <th>dish_type</th>\n",
       "      <th>Дата</th>\n",
       "      <th>photo</th>\n",
       "      <th>source</th>\n",
       "      <th>composition_inter</th>\n",
       "    </tr>\n",
       "  </thead>\n",
       "  <tbody>\n",
       "    <tr>\n",
       "      <th>0</th>\n",
       "      <td>0</td>\n",
       "      <td>рассольник классический с перловкой и солеными...</td>\n",
       "      <td>[{'Перловка': 0.1, 'unit': 'стак. (200 мл)'}, ...</td>\n",
       "      <td>варка,жарка</td>\n",
       "      <td>Подготовить указанные ингредиенты для приготов...</td>\n",
       "      <td>первое</td>\n",
       "      <td>05.06.2015</td>\n",
       "      <td>photo_1000menu_1.jpg</td>\n",
       "      <td>https://1000.menu/cooking/33395-rassolnik-s-pe...</td>\n",
       "      <td>[{'product_id': 4253, 'name_source': 'Перловая...</td>\n",
       "    </tr>\n",
       "    <tr>\n",
       "      <th>1</th>\n",
       "      <td>1</td>\n",
       "      <td>Суп пюре из белокочаной капусты</td>\n",
       "      <td>[{'Капуста белокочанная': 50.0, 'unit': 'гр'},...</td>\n",
       "      <td>варка</td>\n",
       "      <td>Необходимые ингредиенты\\r\\nНарезаем лук, морко...</td>\n",
       "      <td>первое</td>\n",
       "      <td>27.06.2015</td>\n",
       "      <td>photo_1000menu_2.jpg</td>\n",
       "      <td>https://1000.menu/cooking/25399-sup-pure-iz-be...</td>\n",
       "      <td>[{'product_id': 2286, 'name_source': 'Капуста ...</td>\n",
       "    </tr>\n",
       "    <tr>\n",
       "      <th>2</th>\n",
       "      <td>2</td>\n",
       "      <td>Постные щи из квашеной капусты</td>\n",
       "      <td>[{'Капуста квашеная': 116.7, 'unit': 'гр'}, {'...</td>\n",
       "      <td>варка,жарка,тушение</td>\n",
       "      <td>Честно признаюсь, у меня не было репы на момен...</td>\n",
       "      <td>первое</td>\n",
       "      <td>12.02.2013</td>\n",
       "      <td>photo_1000menu_3.jpg</td>\n",
       "      <td>https://1000.menu/cooking/5159-postnje-shchi</td>\n",
       "      <td>[{'product_id': 0, 'name_source': 'Капуста ква...</td>\n",
       "    </tr>\n",
       "    <tr>\n",
       "      <th>3</th>\n",
       "      <td>3</td>\n",
       "      <td>Тюря- простой суп быстро и вкусно</td>\n",
       "      <td>[{'Квас': 0.2, 'unit': 'л'}, {'Лук репчатый': ...</td>\n",
       "      <td>сырое</td>\n",
       "      <td>\\r\\nНачинаем мы приготовление тюри с того, что...</td>\n",
       "      <td>первое</td>\n",
       "      <td>02.03.2011</td>\n",
       "      <td>photo_1000menu_4.jpg</td>\n",
       "      <td>https://1000.menu/cooking/5085-turya</td>\n",
       "      <td>[{'product_id': 0, 'name_source': 'Квас', 'uni...</td>\n",
       "    </tr>\n",
       "    <tr>\n",
       "      <th>4</th>\n",
       "      <td>4</td>\n",
       "      <td>Фасолевый суп из красной фасоли</td>\n",
       "      <td>[{'Вода': 0.3, 'unit': 'л'}, {'Картошка': 0.3,...</td>\n",
       "      <td>варка</td>\n",
       "      <td>Подготовить ингредиенты. Для приготовления суп...</td>\n",
       "      <td>первое</td>\n",
       "      <td>28.01.2013</td>\n",
       "      <td>photo_1000menu_5.jpg</td>\n",
       "      <td>https://1000.menu/cooking/38765-fasolevyi-sup-...</td>\n",
       "      <td>[{'product_id': 828, 'name_source': 'Вода', 'u...</td>\n",
       "    </tr>\n",
       "  </tbody>\n",
       "</table>\n",
       "</div>"
      ],
      "text/plain": [
       "   Unnamed: 0                                               name  \\\n",
       "0           0  рассольник классический с перловкой и солеными...   \n",
       "1           1                    Суп пюре из белокочаной капусты   \n",
       "2           2                     Постные щи из квашеной капусты   \n",
       "3           3                  Тюря- простой суп быстро и вкусно   \n",
       "4           4                    Фасолевый суп из красной фасоли   \n",
       "\n",
       "                                         composition         cooking_type  \\\n",
       "0  [{'Перловка': 0.1, 'unit': 'стак. (200 мл)'}, ...          варка,жарка   \n",
       "1  [{'Капуста белокочанная': 50.0, 'unit': 'гр'},...                варка   \n",
       "2  [{'Капуста квашеная': 116.7, 'unit': 'гр'}, {'...  варка,жарка,тушение   \n",
       "3  [{'Квас': 0.2, 'unit': 'л'}, {'Лук репчатый': ...                сырое   \n",
       "4  [{'Вода': 0.3, 'unit': 'л'}, {'Картошка': 0.3,...                варка   \n",
       "\n",
       "                                          Инструкции dish_type        Дата  \\\n",
       "0  Подготовить указанные ингредиенты для приготов...    первое  05.06.2015   \n",
       "1  Необходимые ингредиенты\\r\\nНарезаем лук, морко...    первое  27.06.2015   \n",
       "2  Честно признаюсь, у меня не было репы на момен...    первое  12.02.2013   \n",
       "3  \\r\\nНачинаем мы приготовление тюри с того, что...    первое  02.03.2011   \n",
       "4  Подготовить ингредиенты. Для приготовления суп...    первое  28.01.2013   \n",
       "\n",
       "                  photo                                             source  \\\n",
       "0  photo_1000menu_1.jpg  https://1000.menu/cooking/33395-rassolnik-s-pe...   \n",
       "1  photo_1000menu_2.jpg  https://1000.menu/cooking/25399-sup-pure-iz-be...   \n",
       "2  photo_1000menu_3.jpg       https://1000.menu/cooking/5159-postnje-shchi   \n",
       "3  photo_1000menu_4.jpg               https://1000.menu/cooking/5085-turya   \n",
       "4  photo_1000menu_5.jpg  https://1000.menu/cooking/38765-fasolevyi-sup-...   \n",
       "\n",
       "                                   composition_inter  \n",
       "0  [{'product_id': 4253, 'name_source': 'Перловая...  \n",
       "1  [{'product_id': 2286, 'name_source': 'Капуста ...  \n",
       "2  [{'product_id': 0, 'name_source': 'Капуста ква...  \n",
       "3  [{'product_id': 0, 'name_source': 'Квас', 'uni...  \n",
       "4  [{'product_id': 828, 'name_source': 'Вода', 'u...  "
      ]
     },
     "execution_count": 21,
     "metadata": {},
     "output_type": "execute_result"
    }
   ],
   "source": [
    "df_rec.head()"
   ]
  },
  {
   "cell_type": "code",
   "execution_count": 22,
   "id": "3231a78b",
   "metadata": {},
   "outputs": [
    {
     "name": "stdout",
     "output_type": "stream",
     "text": [
      "<class 'pandas.core.frame.DataFrame'>\n",
      "RangeIndex: 27884 entries, 0 to 27883\n",
      "Data columns (total 10 columns):\n",
      " #   Column             Non-Null Count  Dtype \n",
      "---  ------             --------------  ----- \n",
      " 0   Unnamed: 0         27884 non-null  int64 \n",
      " 1   name               27884 non-null  object\n",
      " 2   composition        27884 non-null  object\n",
      " 3   cooking_type       27884 non-null  object\n",
      " 4   Инструкции         27884 non-null  object\n",
      " 5   dish_type          27884 non-null  object\n",
      " 6   Дата               27884 non-null  object\n",
      " 7   photo              27884 non-null  object\n",
      " 8   source             27884 non-null  object\n",
      " 9   composition_inter  27884 non-null  object\n",
      "dtypes: int64(1), object(9)\n",
      "memory usage: 2.1+ MB\n"
     ]
    }
   ],
   "source": [
    "df_rec.info()"
   ]
  },
  {
   "cell_type": "code",
   "execution_count": 23,
   "id": "43be1f32",
   "metadata": {},
   "outputs": [],
   "source": [
    "data = df_rec.loc[:10000, 'Инструкции']"
   ]
  },
  {
   "cell_type": "code",
   "execution_count": 24,
   "id": "e34cdf01",
   "metadata": {},
   "outputs": [],
   "source": [
    "def build_text_files(data_json, dest_path):\n",
    "    f = open(dest_path, 'w', encoding='utf-8')\n",
    "    data = ''\n",
    "    for texts in data_json:\n",
    "        summary = str(texts).strip()\n",
    "        summary = re.sub(r\"\\s\", \" \", summary)\n",
    "        data += summary + \"  \"\n",
    "    f.write(data)"
   ]
  },
  {
   "cell_type": "code",
   "execution_count": 25,
   "id": "fda30162",
   "metadata": {},
   "outputs": [],
   "source": [
    "train, test = train_test_split(data, test_size=0.2)\n",
    "\n",
    "build_text_files(train,'./data/train_dataset.txt')\n",
    "build_text_files(test,'./data/test_dataset.txt')"
   ]
  },
  {
   "cell_type": "markdown",
   "id": "e8730f07",
   "metadata": {},
   "source": [
    "### 2.2. Токенайзер, пайплайн данных, модель"
   ]
  },
  {
   "cell_type": "code",
   "execution_count": 26,
   "id": "3a9cad01",
   "metadata": {},
   "outputs": [
    {
     "name": "stderr",
     "output_type": "stream",
     "text": [
      "Special tokens have been added in the vocabulary, make sure the associated word embeddings are fine-tuned or trained.\n"
     ]
    }
   ],
   "source": [
    "tokenizer = AutoTokenizer.from_pretrained(\"sberbank-ai/rugpt3small_based_on_gpt2\")"
   ]
  },
  {
   "cell_type": "code",
   "execution_count": 27,
   "id": "1a7c2adc",
   "metadata": {},
   "outputs": [],
   "source": [
    "def load_dataset(train_path, test_path, tokenizer):\n",
    "    train_dataset = TextDataset(\n",
    "          tokenizer=tokenizer,\n",
    "          file_path='./data/train_dataset.txt',\n",
    "          block_size=128)\n",
    "\n",
    "    test_dataset = TextDataset(\n",
    "          tokenizer=tokenizer,\n",
    "          file_path='./data/test_dataset.txt',\n",
    "          block_size=128)\n",
    "\n",
    "    data_collator = DataCollatorForLanguageModeling(\n",
    "        tokenizer=tokenizer, mlm=False,\n",
    "    )\n",
    "    return train_dataset, test_dataset, data_collator"
   ]
  },
  {
   "cell_type": "code",
   "execution_count": 28,
   "id": "41c5b3b8",
   "metadata": {},
   "outputs": [
    {
     "name": "stderr",
     "output_type": "stream",
     "text": [
      "C:\\Users\\Kartsev.ES\\Anaconda3\\lib\\site-packages\\transformers\\data\\datasets\\language_modeling.py:54: FutureWarning: This dataset will be removed from the library soon, preprocessing should be handled with the 🤗 Datasets library. You can have a look at this example script for pointers: https://github.com/huggingface/transformers/blob/master/examples/pytorch/language-modeling/run_mlm.py\n",
      "  warnings.warn(\n"
     ]
    }
   ],
   "source": [
    "train_dataset, test_dataset, data_collator = load_dataset('./data/train_dataset.txt',\n",
    "                                                          './data/test_dataset.txt',\n",
    "                                                          tokenizer)"
   ]
  },
  {
   "cell_type": "code",
   "execution_count": 29,
   "id": "08957c77",
   "metadata": {},
   "outputs": [],
   "source": [
    "model = AutoModelForCausalLM.from_pretrained(\"sberbank-ai/rugpt3small_based_on_gpt2\")"
   ]
  },
  {
   "cell_type": "markdown",
   "id": "4312378f",
   "metadata": {},
   "source": [
    "### 2.3. Fine-tuning модели"
   ]
  },
  {
   "cell_type": "code",
   "execution_count": 30,
   "id": "0efffbf2",
   "metadata": {},
   "outputs": [],
   "source": [
    "training_args = TrainingArguments(\n",
    "    output_dir=\"./models/gpt2-chief\", #The output directory\n",
    "    overwrite_output_dir=True, #overwrite the content of the output directory\n",
    "    num_train_epochs=3, # number of training epochs\n",
    "    per_device_train_batch_size=4, # batch size for training\n",
    "    per_device_eval_batch_size=4,  # batch size for evaluation\n",
    "    eval_steps = 400, # Number of update steps between two evaluations.\n",
    "    save_steps=800, # after # steps model is saved\n",
    "    warmup_steps=500,# number of warmup steps for learning rate scheduler\n",
    "    )"
   ]
  },
  {
   "cell_type": "code",
   "execution_count": 31,
   "id": "4504f1b7",
   "metadata": {},
   "outputs": [],
   "source": [
    "trainer = Trainer(\n",
    "    model=model,\n",
    "    args=training_args,\n",
    "    data_collator=data_collator,\n",
    "    train_dataset=train_dataset,\n",
    "    eval_dataset=test_dataset\n",
    ")"
   ]
  },
  {
   "cell_type": "code",
   "execution_count": 32,
   "id": "70d676f6",
   "metadata": {},
   "outputs": [
    {
     "name": "stderr",
     "output_type": "stream",
     "text": [
      "C:\\Users\\Kartsev.ES\\Anaconda3\\lib\\site-packages\\transformers\\optimization.py:306: FutureWarning: This implementation of AdamW is deprecated and will be removed in a future version. Use the PyTorch implementation torch.optim.AdamW instead, or set `no_deprecation_warning=True` to disable this warning\n",
      "  warnings.warn(\n",
      "***** Running training *****\n",
      "  Num examples = 12207\n",
      "  Num Epochs = 3\n",
      "  Instantaneous batch size per device = 4\n",
      "  Total train batch size (w. parallel, distributed & accumulation) = 4\n",
      "  Gradient Accumulation steps = 1\n",
      "  Total optimization steps = 9156\n"
     ]
    },
    {
     "data": {
      "text/html": [
       "\n",
       "    <div>\n",
       "      \n",
       "      <progress value='9156' max='9156' style='width:300px; height:20px; vertical-align: middle;'></progress>\n",
       "      [9156/9156 9:47:45, Epoch 3/3]\n",
       "    </div>\n",
       "    <table border=\"1\" class=\"dataframe\">\n",
       "  <thead>\n",
       " <tr style=\"text-align: left;\">\n",
       "      <th>Step</th>\n",
       "      <th>Training Loss</th>\n",
       "    </tr>\n",
       "  </thead>\n",
       "  <tbody>\n",
       "    <tr>\n",
       "      <td>500</td>\n",
       "      <td>2.505600</td>\n",
       "    </tr>\n",
       "    <tr>\n",
       "      <td>1000</td>\n",
       "      <td>2.414500</td>\n",
       "    </tr>\n",
       "    <tr>\n",
       "      <td>1500</td>\n",
       "      <td>2.370700</td>\n",
       "    </tr>\n",
       "    <tr>\n",
       "      <td>2000</td>\n",
       "      <td>2.317800</td>\n",
       "    </tr>\n",
       "    <tr>\n",
       "      <td>2500</td>\n",
       "      <td>2.273900</td>\n",
       "    </tr>\n",
       "    <tr>\n",
       "      <td>3000</td>\n",
       "      <td>2.255900</td>\n",
       "    </tr>\n",
       "    <tr>\n",
       "      <td>3500</td>\n",
       "      <td>2.119800</td>\n",
       "    </tr>\n",
       "    <tr>\n",
       "      <td>4000</td>\n",
       "      <td>2.095200</td>\n",
       "    </tr>\n",
       "    <tr>\n",
       "      <td>4500</td>\n",
       "      <td>2.078400</td>\n",
       "    </tr>\n",
       "    <tr>\n",
       "      <td>5000</td>\n",
       "      <td>2.079800</td>\n",
       "    </tr>\n",
       "    <tr>\n",
       "      <td>5500</td>\n",
       "      <td>2.065900</td>\n",
       "    </tr>\n",
       "    <tr>\n",
       "      <td>6000</td>\n",
       "      <td>2.077000</td>\n",
       "    </tr>\n",
       "    <tr>\n",
       "      <td>6500</td>\n",
       "      <td>1.951800</td>\n",
       "    </tr>\n",
       "    <tr>\n",
       "      <td>7000</td>\n",
       "      <td>1.940200</td>\n",
       "    </tr>\n",
       "    <tr>\n",
       "      <td>7500</td>\n",
       "      <td>1.918900</td>\n",
       "    </tr>\n",
       "    <tr>\n",
       "      <td>8000</td>\n",
       "      <td>1.937800</td>\n",
       "    </tr>\n",
       "    <tr>\n",
       "      <td>8500</td>\n",
       "      <td>1.931200</td>\n",
       "    </tr>\n",
       "    <tr>\n",
       "      <td>9000</td>\n",
       "      <td>1.923500</td>\n",
       "    </tr>\n",
       "  </tbody>\n",
       "</table><p>"
      ],
      "text/plain": [
       "<IPython.core.display.HTML object>"
      ]
     },
     "metadata": {},
     "output_type": "display_data"
    },
    {
     "name": "stderr",
     "output_type": "stream",
     "text": [
      "Saving model checkpoint to ./models/gpt2-chief\\checkpoint-800\n",
      "Configuration saved in ./models/gpt2-chief\\checkpoint-800\\config.json\n",
      "Model weights saved in ./models/gpt2-chief\\checkpoint-800\\pytorch_model.bin\n",
      "Saving model checkpoint to ./models/gpt2-chief\\checkpoint-1600\n",
      "Configuration saved in ./models/gpt2-chief\\checkpoint-1600\\config.json\n",
      "Model weights saved in ./models/gpt2-chief\\checkpoint-1600\\pytorch_model.bin\n",
      "Saving model checkpoint to ./models/gpt2-chief\\checkpoint-2400\n",
      "Configuration saved in ./models/gpt2-chief\\checkpoint-2400\\config.json\n",
      "Model weights saved in ./models/gpt2-chief\\checkpoint-2400\\pytorch_model.bin\n",
      "Saving model checkpoint to ./models/gpt2-chief\\checkpoint-3200\n",
      "Configuration saved in ./models/gpt2-chief\\checkpoint-3200\\config.json\n",
      "Model weights saved in ./models/gpt2-chief\\checkpoint-3200\\pytorch_model.bin\n",
      "Saving model checkpoint to ./models/gpt2-chief\\checkpoint-4000\n",
      "Configuration saved in ./models/gpt2-chief\\checkpoint-4000\\config.json\n",
      "Model weights saved in ./models/gpt2-chief\\checkpoint-4000\\pytorch_model.bin\n",
      "Saving model checkpoint to ./models/gpt2-chief\\checkpoint-4800\n",
      "Configuration saved in ./models/gpt2-chief\\checkpoint-4800\\config.json\n",
      "Model weights saved in ./models/gpt2-chief\\checkpoint-4800\\pytorch_model.bin\n",
      "Saving model checkpoint to ./models/gpt2-chief\\checkpoint-5600\n",
      "Configuration saved in ./models/gpt2-chief\\checkpoint-5600\\config.json\n",
      "Model weights saved in ./models/gpt2-chief\\checkpoint-5600\\pytorch_model.bin\n",
      "Saving model checkpoint to ./models/gpt2-chief\\checkpoint-6400\n",
      "Configuration saved in ./models/gpt2-chief\\checkpoint-6400\\config.json\n",
      "Model weights saved in ./models/gpt2-chief\\checkpoint-6400\\pytorch_model.bin\n",
      "Saving model checkpoint to ./models/gpt2-chief\\checkpoint-7200\n",
      "Configuration saved in ./models/gpt2-chief\\checkpoint-7200\\config.json\n",
      "Model weights saved in ./models/gpt2-chief\\checkpoint-7200\\pytorch_model.bin\n",
      "Saving model checkpoint to ./models/gpt2-chief\\checkpoint-8000\n",
      "Configuration saved in ./models/gpt2-chief\\checkpoint-8000\\config.json\n",
      "Model weights saved in ./models/gpt2-chief\\checkpoint-8000\\pytorch_model.bin\n",
      "Saving model checkpoint to ./models/gpt2-chief\\checkpoint-8800\n",
      "Configuration saved in ./models/gpt2-chief\\checkpoint-8800\\config.json\n",
      "Model weights saved in ./models/gpt2-chief\\checkpoint-8800\\pytorch_model.bin\n",
      "\n",
      "\n",
      "Training completed. Do not forget to share your model on huggingface.co/models =)\n",
      "\n",
      "\n"
     ]
    },
    {
     "data": {
      "text/plain": [
       "TrainOutput(global_step=9156, training_loss=2.1218886102532237, metrics={'train_runtime': 35271.0296, 'train_samples_per_second': 1.038, 'train_steps_per_second': 0.26, 'total_flos': 2392193875968000.0, 'train_loss': 2.1218886102532237, 'epoch': 3.0})"
      ]
     },
     "execution_count": 32,
     "metadata": {},
     "output_type": "execute_result"
    }
   ],
   "source": [
    "trainer.train()"
   ]
  },
  {
   "cell_type": "markdown",
   "id": "148b3fdc",
   "metadata": {},
   "source": [
    "#### Сохраним результаты"
   ]
  },
  {
   "cell_type": "code",
   "execution_count": 33,
   "id": "09f1e499",
   "metadata": {},
   "outputs": [
    {
     "name": "stderr",
     "output_type": "stream",
     "text": [
      "tokenizer config file saved in ./models/gpt_chf\\tokenizer_config.json\n",
      "Special tokens file saved in ./models/gpt_chf\\special_tokens_map.json\n",
      "Configuration saved in ./models/model_gpt_chf\\config.json\n",
      "Model weights saved in ./models/model_gpt_chf\\pytorch_model.bin\n"
     ]
    }
   ],
   "source": [
    "tokenizer.save_pretrained('./models/gpt_chf')\n",
    "model.save_pretrained('./models/model_gpt_chf')"
   ]
  },
  {
   "cell_type": "markdown",
   "id": "9eef2e6c",
   "metadata": {},
   "source": [
    "### 2.4. Загрузка сохранённых объектов (опционально)"
   ]
  },
  {
   "cell_type": "code",
   "execution_count": 34,
   "id": "9dabf7f9",
   "metadata": {},
   "outputs": [],
   "source": [
    "if 0:\n",
    "    tokenizer = AutoTokenizer.from_pretrained('./models/gpt_chf')\n",
    "    model = AutoModelForCausalLM.from_pretrained('./models/model_gpt_chf')"
   ]
  },
  {
   "cell_type": "markdown",
   "id": "fbad10ed",
   "metadata": {},
   "source": [
    "### 2.5. Тест модели"
   ]
  },
  {
   "cell_type": "code",
   "execution_count": 35,
   "id": "8b543808",
   "metadata": {},
   "outputs": [],
   "source": [
    "def gpt_generate(inp_txt):\n",
    "    tokens = tokenizer(inp_txt, return_tensors='pt')\n",
    "    size = tokens['input_ids'].shape[1]\n",
    "    output = model.generate(\n",
    "        **tokens,\n",
    "        #end_token=end_token_id,\n",
    "        do_sample=False,\n",
    "        max_length=size+100,\n",
    "        repetition_penalty=5.,\n",
    "        temperature=0.5,\n",
    "        num_beams=2,\n",
    "    )\n",
    "    \n",
    "    decoded = tokenizer.decode(output[0])\n",
    "    result = decoded[len(inp_txt):]\n",
    "    return result"
   ]
  },
  {
   "cell_type": "code",
   "execution_count": 36,
   "id": "492db2b1",
   "metadata": {},
   "outputs": [
    {
     "name": "stderr",
     "output_type": "stream",
     "text": [
      "Setting `pad_token_id` to `eos_token_id`:50256 for open-end generation.\n"
     ]
    },
    {
     "name": "stdout",
     "output_type": "stream",
     "text": [
      "Что сделать из рыбы?\n",
      "  2. Натереть рыбу солью и перцем, положить в кастрюлю с кипящей подсоленной водой на 1–1,5 часа (время зависит от размера рыбы).  3. Рыба должна быть не очень мягкой, но и не слишком прожаренной.  4. Когда рыба будет готова, вынуть ее шумовкой из кастрюли и дать немного остыть.  5. Разогреть духовку до 180 градусов.  6. В сковороде разогреть оливковое масло\n"
     ]
    }
   ],
   "source": [
    "inp_txt = 'Что сделать из рыбы?'\n",
    "print(inp_txt)\n",
    "print(gpt_generate(inp_txt))"
   ]
  },
  {
   "cell_type": "markdown",
   "id": "5e741bf0",
   "metadata": {},
   "source": [
    "## 3. Классификация интентов"
   ]
  },
  {
   "cell_type": "markdown",
   "id": "a4365ad8",
   "metadata": {},
   "source": [
    "### 3.1. Подготовка данных"
   ]
  },
  {
   "cell_type": "code",
   "execution_count": 37,
   "id": "dd090949",
   "metadata": {},
   "outputs": [
    {
     "name": "stdout",
     "output_type": "stream",
     "text": [
      "Wall time: 6min 10s\n"
     ]
    },
    {
     "data": {
      "text/plain": [
       "0    [подготавливать, указывать, ингредиент, для, п...\n",
       "1    [необходимый, ингредиент, нарезать, лук, морко...\n",
       "2    [честно, признаваться, у, я, не, быть, репа, н...\n",
       "3    [начинать, мы, приготовление, тюря, с, то, что...\n",
       "4    [подготавливать, ингредиент, для, приготовлени...\n",
       "Name: Инструкции, dtype: object"
      ]
     },
     "execution_count": 37,
     "metadata": {},
     "output_type": "execute_result"
    }
   ],
   "source": [
    "%%time\n",
    "data_prep = data[:5000].apply(preprocess_text, keep_pos=False)\n",
    "data_prep.head()"
   ]
  },
  {
   "cell_type": "code",
   "execution_count": 38,
   "id": "71adb36d",
   "metadata": {},
   "outputs": [],
   "source": [
    "positive_texts = [\" \".join(val) for val in data_prep.values]"
   ]
  },
  {
   "cell_type": "code",
   "execution_count": 39,
   "id": "a161dadf",
   "metadata": {},
   "outputs": [
    {
     "data": {
      "text/plain": [
       "'подготавливать указывать ингредиент для приготовление рассольник с перловый крупа мясной бульон сварить заранее из говядина или из курица также можно сварить и вегетарианский суп на вода обычно я рассольник варить без томатный паста но тут для разнообразие решать добавлять это по желание из специя соль черный перец горошек душистый перец перловый крупа промывать до чистый вода в горячий бульон добавлять промытой перловка и варить на среднее огонь для рассольник хорошо брать кислый очень соленый огурец если же огурец обычный то рекомендовать в рассольник добавлять из сам рассол от огурец соленый огурец доставать из рассол и натереть на крупный терка картофель помыть обсушить очищать нарезать кубик пока очередь картофель не подходить класть он в вода морковь лук чеснок очищать морковь натереть на крупный терка лук сельдерей чеснок мелко порезать обжарить в масло овощ добавлять томатный паста томатный паста по желание минута через двадцать добавлять к перловый крупа нарезать картофель и продолжать варить на среднее огонь добавлять через десять минута в суп обжаренный овощ посолить по вкус еще через десять минута добавлять натереть соленый огурец класть в суп черный перец и душистый горошек проварить рассольник с огурец пять минута выключать нагрев добавлять нарезать свежий зелень давать постоять суп на плита минута xx xx и можно подавать при подача в рассольник в каждый тарелка класть свежий сметана и зелень'"
      ]
     },
     "execution_count": 39,
     "metadata": {},
     "output_type": "execute_result"
    }
   ],
   "source": [
    "positive_texts[0]"
   ]
  },
  {
   "cell_type": "code",
   "execution_count": 40,
   "id": "374560ef",
   "metadata": {},
   "outputs": [],
   "source": [
    "negative_samples = np.random.choice(np.array(sentences, dtype=object), size=len(positive_texts), replace=False)"
   ]
  },
  {
   "cell_type": "code",
   "execution_count": 41,
   "id": "da7d5713",
   "metadata": {
    "scrolled": true
   },
   "outputs": [],
   "source": [
    "negative_texts = [\" \".join(sentence) for sentence in negative_samples]"
   ]
  },
  {
   "cell_type": "code",
   "execution_count": 42,
   "id": "b3326b24",
   "metadata": {},
   "outputs": [
    {
     "data": {
      "text/plain": [
       "'я бы просто идиот называть судить по вопросамя'"
      ]
     },
     "execution_count": 42,
     "metadata": {},
     "output_type": "execute_result"
    }
   ],
   "source": [
    "negative_texts[0]"
   ]
  },
  {
   "cell_type": "code",
   "execution_count": 43,
   "id": "028bb774",
   "metadata": {},
   "outputs": [],
   "source": [
    "dataset = negative_texts + positive_texts\n",
    "labels = np.zeros(len(dataset))\n",
    "labels[len(negative_texts):] = np.ones(len(positive_texts))"
   ]
  },
  {
   "cell_type": "code",
   "execution_count": 44,
   "id": "77a1bfd7",
   "metadata": {},
   "outputs": [],
   "source": [
    "X_train, X_test, y_train, y_test = train_test_split(dataset, labels, test_size=0.2, stratify=labels,\n",
    "                                                    random_state=42)"
   ]
  },
  {
   "cell_type": "code",
   "execution_count": 45,
   "id": "2b8017f3",
   "metadata": {},
   "outputs": [
    {
     "data": {
      "text/plain": [
       "['за что сильный все в мир можно полюбить человек не любить же кто-то исключительно изз внешность или изз деньги или изз он помощи даже изз он ум тогда за что за что можно любить сильно все на свет',\n",
       " 'x нарезать капуста картофель и бросать вариться x нарезать лук и натереть на терка морковь x когда вода с капуста и картофель закипеть добавлять в кастрюля лук с морковью x специя зелень и масло добавлять когда овощ все свариться поварить пара минута и снимать с огонь']"
      ]
     },
     "execution_count": 45,
     "metadata": {},
     "output_type": "execute_result"
    }
   ],
   "source": [
    "X_train[:2]"
   ]
  },
  {
   "cell_type": "code",
   "execution_count": 46,
   "id": "24894df5",
   "metadata": {},
   "outputs": [
    {
     "data": {
      "text/plain": [
       "4000.0"
      ]
     },
     "execution_count": 46,
     "metadata": {},
     "output_type": "execute_result"
    }
   ],
   "source": [
    "np.sum(y_train)"
   ]
  },
  {
   "cell_type": "code",
   "execution_count": 47,
   "id": "12042ced",
   "metadata": {},
   "outputs": [
    {
     "data": {
      "text/plain": [
       "8000"
      ]
     },
     "execution_count": 47,
     "metadata": {},
     "output_type": "execute_result"
    }
   ],
   "source": [
    "len(y_train)"
   ]
  },
  {
   "cell_type": "markdown",
   "id": "10f2c749",
   "metadata": {},
   "source": [
    "### 3.2. Обучение модели классификатора"
   ]
  },
  {
   "cell_type": "code",
   "execution_count": 48,
   "id": "9d2119f8",
   "metadata": {},
   "outputs": [],
   "source": [
    "from sklearn.feature_extraction.text import TfidfVectorizer\n",
    "from catboost import CatBoostClassifier"
   ]
  },
  {
   "cell_type": "code",
   "execution_count": 50,
   "id": "3b359fd1",
   "metadata": {
    "scrolled": true
   },
   "outputs": [
    {
     "name": "stdout",
     "output_type": "stream",
     "text": [
      "Learning rate set to 0.025035\n",
      "0:\tlearn: 0.6437870\ttotal: 1.11s\tremaining: 18m 34s\n",
      "1:\tlearn: 0.5998836\ttotal: 2.18s\tremaining: 18m 10s\n",
      "2:\tlearn: 0.5609188\ttotal: 3.08s\tremaining: 17m 5s\n",
      "3:\tlearn: 0.5225950\ttotal: 3.96s\tremaining: 16m 26s\n",
      "4:\tlearn: 0.4876022\ttotal: 4.71s\tremaining: 15m 37s\n",
      "5:\tlearn: 0.4558181\ttotal: 5.44s\tremaining: 15m\n",
      "6:\tlearn: 0.4281055\ttotal: 6.15s\tremaining: 14m 32s\n",
      "7:\tlearn: 0.3999046\ttotal: 6.88s\tremaining: 14m 13s\n",
      "8:\tlearn: 0.3747137\ttotal: 7.61s\tremaining: 13m 58s\n",
      "9:\tlearn: 0.3513087\ttotal: 8.33s\tremaining: 13m 44s\n",
      "10:\tlearn: 0.3305317\ttotal: 9.05s\tremaining: 13m 34s\n",
      "11:\tlearn: 0.3120839\ttotal: 9.75s\tremaining: 13m 22s\n",
      "12:\tlearn: 0.2939754\ttotal: 10.5s\tremaining: 13m 14s\n",
      "13:\tlearn: 0.2770522\ttotal: 11.2s\tremaining: 13m 6s\n",
      "14:\tlearn: 0.2617006\ttotal: 11.9s\tremaining: 13m 1s\n",
      "15:\tlearn: 0.2488514\ttotal: 12.6s\tremaining: 12m 55s\n",
      "16:\tlearn: 0.2354862\ttotal: 13.3s\tremaining: 12m 50s\n",
      "17:\tlearn: 0.2245671\ttotal: 14.1s\tremaining: 12m 50s\n",
      "18:\tlearn: 0.2133910\ttotal: 14.9s\tremaining: 12m 49s\n",
      "19:\tlearn: 0.2010505\ttotal: 15.7s\tremaining: 12m 48s\n",
      "20:\tlearn: 0.1904131\ttotal: 16.5s\tremaining: 12m 47s\n",
      "21:\tlearn: 0.1807189\ttotal: 17.2s\tremaining: 12m 46s\n",
      "22:\tlearn: 0.1722786\ttotal: 18s\tremaining: 12m 44s\n",
      "23:\tlearn: 0.1642454\ttotal: 18.8s\tremaining: 12m 43s\n",
      "24:\tlearn: 0.1568215\ttotal: 19.6s\tremaining: 12m 43s\n",
      "25:\tlearn: 0.1499204\ttotal: 20.4s\tremaining: 12m 44s\n",
      "26:\tlearn: 0.1422248\ttotal: 21.2s\tremaining: 12m 43s\n",
      "27:\tlearn: 0.1363533\ttotal: 22s\tremaining: 12m 43s\n",
      "28:\tlearn: 0.1310712\ttotal: 22.9s\tremaining: 12m 46s\n",
      "29:\tlearn: 0.1256183\ttotal: 23.8s\tremaining: 12m 49s\n",
      "30:\tlearn: 0.1209175\ttotal: 24.6s\tremaining: 12m 49s\n",
      "31:\tlearn: 0.1165410\ttotal: 25.4s\tremaining: 12m 48s\n",
      "32:\tlearn: 0.1115159\ttotal: 26.1s\tremaining: 12m 46s\n",
      "33:\tlearn: 0.1071961\ttotal: 26.9s\tremaining: 12m 44s\n",
      "34:\tlearn: 0.1038437\ttotal: 27.6s\tremaining: 12m 42s\n",
      "35:\tlearn: 0.1001912\ttotal: 28.5s\tremaining: 12m 42s\n",
      "36:\tlearn: 0.0966902\ttotal: 29.3s\tremaining: 12m 41s\n",
      "37:\tlearn: 0.0932434\ttotal: 30s\tremaining: 12m 40s\n",
      "38:\tlearn: 0.0905860\ttotal: 30.8s\tremaining: 12m 38s\n",
      "39:\tlearn: 0.0876801\ttotal: 31.5s\tremaining: 12m 36s\n",
      "40:\tlearn: 0.0849924\ttotal: 32.3s\tremaining: 12m 34s\n",
      "41:\tlearn: 0.0827556\ttotal: 33s\tremaining: 12m 33s\n",
      "42:\tlearn: 0.0799157\ttotal: 33.8s\tremaining: 12m 31s\n",
      "43:\tlearn: 0.0776659\ttotal: 34.5s\tremaining: 12m 30s\n",
      "44:\tlearn: 0.0751502\ttotal: 35.3s\tremaining: 12m 28s\n",
      "45:\tlearn: 0.0731296\ttotal: 36s\tremaining: 12m 26s\n",
      "46:\tlearn: 0.0713102\ttotal: 36.7s\tremaining: 12m 24s\n",
      "47:\tlearn: 0.0693468\ttotal: 37.5s\tremaining: 12m 23s\n",
      "48:\tlearn: 0.0676451\ttotal: 38.2s\tremaining: 12m 21s\n",
      "49:\tlearn: 0.0659432\ttotal: 39.2s\tremaining: 12m 25s\n",
      "50:\tlearn: 0.0639990\ttotal: 40s\tremaining: 12m 23s\n",
      "51:\tlearn: 0.0625919\ttotal: 40.7s\tremaining: 12m 22s\n",
      "52:\tlearn: 0.0610830\ttotal: 41.5s\tremaining: 12m 21s\n",
      "53:\tlearn: 0.0597207\ttotal: 42.3s\tremaining: 12m 20s\n",
      "54:\tlearn: 0.0583207\ttotal: 43s\tremaining: 12m 19s\n",
      "55:\tlearn: 0.0571411\ttotal: 43.8s\tremaining: 12m 17s\n",
      "56:\tlearn: 0.0558608\ttotal: 44.5s\tremaining: 12m 16s\n",
      "57:\tlearn: 0.0546629\ttotal: 45.2s\tremaining: 12m 14s\n",
      "58:\tlearn: 0.0536625\ttotal: 45.9s\tremaining: 12m 12s\n",
      "59:\tlearn: 0.0527867\ttotal: 46.7s\tremaining: 12m 11s\n",
      "60:\tlearn: 0.0516936\ttotal: 47.4s\tremaining: 12m 9s\n",
      "61:\tlearn: 0.0507037\ttotal: 48.1s\tremaining: 12m 7s\n",
      "62:\tlearn: 0.0499416\ttotal: 48.8s\tremaining: 12m 6s\n",
      "63:\tlearn: 0.0490714\ttotal: 49.5s\tremaining: 12m 4s\n",
      "64:\tlearn: 0.0481555\ttotal: 50.2s\tremaining: 12m 2s\n",
      "65:\tlearn: 0.0472749\ttotal: 50.9s\tremaining: 12m\n",
      "66:\tlearn: 0.0466009\ttotal: 51.7s\tremaining: 11m 59s\n",
      "67:\tlearn: 0.0462333\ttotal: 52.4s\tremaining: 11m 57s\n",
      "68:\tlearn: 0.0455179\ttotal: 53.1s\tremaining: 11m 56s\n",
      "69:\tlearn: 0.0451357\ttotal: 53.8s\tremaining: 11m 55s\n",
      "70:\tlearn: 0.0444528\ttotal: 54.6s\tremaining: 11m 53s\n",
      "71:\tlearn: 0.0439024\ttotal: 55.3s\tremaining: 11m 52s\n",
      "72:\tlearn: 0.0436003\ttotal: 56s\tremaining: 11m 51s\n",
      "73:\tlearn: 0.0434973\ttotal: 56.7s\tremaining: 11m 49s\n",
      "74:\tlearn: 0.0433882\ttotal: 57.4s\tremaining: 11m 48s\n",
      "75:\tlearn: 0.0429853\ttotal: 58.2s\tremaining: 11m 47s\n",
      "76:\tlearn: 0.0428085\ttotal: 59s\tremaining: 11m 46s\n",
      "77:\tlearn: 0.0423865\ttotal: 59.7s\tremaining: 11m 46s\n",
      "78:\tlearn: 0.0421031\ttotal: 1m\tremaining: 11m 45s\n",
      "79:\tlearn: 0.0417527\ttotal: 1m 1s\tremaining: 11m 45s\n",
      "80:\tlearn: 0.0416554\ttotal: 1m 2s\tremaining: 11m 45s\n",
      "81:\tlearn: 0.0415799\ttotal: 1m 2s\tremaining: 11m 45s\n",
      "82:\tlearn: 0.0414970\ttotal: 1m 3s\tremaining: 11m 45s\n",
      "83:\tlearn: 0.0414260\ttotal: 1m 4s\tremaining: 11m 45s\n",
      "84:\tlearn: 0.0413053\ttotal: 1m 5s\tremaining: 11m 43s\n",
      "85:\tlearn: 0.0412275\ttotal: 1m 6s\tremaining: 11m 42s\n",
      "86:\tlearn: 0.0406252\ttotal: 1m 6s\tremaining: 11m 41s\n",
      "87:\tlearn: 0.0405404\ttotal: 1m 7s\tremaining: 11m 40s\n",
      "88:\tlearn: 0.0399877\ttotal: 1m 8s\tremaining: 11m 39s\n",
      "89:\tlearn: 0.0397689\ttotal: 1m 9s\tremaining: 11m 38s\n",
      "90:\tlearn: 0.0391195\ttotal: 1m 9s\tremaining: 11m 36s\n",
      "91:\tlearn: 0.0388780\ttotal: 1m 10s\tremaining: 11m 35s\n",
      "92:\tlearn: 0.0387896\ttotal: 1m 11s\tremaining: 11m 34s\n",
      "93:\tlearn: 0.0381932\ttotal: 1m 11s\tremaining: 11m 33s\n",
      "94:\tlearn: 0.0376723\ttotal: 1m 12s\tremaining: 11m 31s\n",
      "95:\tlearn: 0.0371089\ttotal: 1m 13s\tremaining: 11m 30s\n",
      "96:\tlearn: 0.0367729\ttotal: 1m 14s\tremaining: 11m 29s\n",
      "97:\tlearn: 0.0367206\ttotal: 1m 14s\tremaining: 11m 28s\n",
      "98:\tlearn: 0.0366647\ttotal: 1m 15s\tremaining: 11m 27s\n",
      "99:\tlearn: 0.0366128\ttotal: 1m 16s\tremaining: 11m 25s\n",
      "100:\tlearn: 0.0365429\ttotal: 1m 16s\tremaining: 11m 24s\n",
      "101:\tlearn: 0.0363169\ttotal: 1m 17s\tremaining: 11m 23s\n",
      "102:\tlearn: 0.0362613\ttotal: 1m 18s\tremaining: 11m 22s\n",
      "103:\tlearn: 0.0357349\ttotal: 1m 19s\tremaining: 11m 21s\n",
      "104:\tlearn: 0.0356778\ttotal: 1m 19s\tremaining: 11m 19s\n",
      "105:\tlearn: 0.0356192\ttotal: 1m 20s\tremaining: 11m 18s\n",
      "106:\tlearn: 0.0355734\ttotal: 1m 21s\tremaining: 11m 17s\n",
      "107:\tlearn: 0.0355274\ttotal: 1m 21s\tremaining: 11m 16s\n",
      "108:\tlearn: 0.0353806\ttotal: 1m 22s\tremaining: 11m 15s\n",
      "109:\tlearn: 0.0351978\ttotal: 1m 23s\tremaining: 11m 14s\n",
      "110:\tlearn: 0.0350005\ttotal: 1m 24s\tremaining: 11m 13s\n",
      "111:\tlearn: 0.0349491\ttotal: 1m 24s\tremaining: 11m 12s\n",
      "112:\tlearn: 0.0349056\ttotal: 1m 25s\tremaining: 11m 10s\n",
      "113:\tlearn: 0.0348641\ttotal: 1m 26s\tremaining: 11m 9s\n",
      "114:\tlearn: 0.0348250\ttotal: 1m 26s\tremaining: 11m 8s\n",
      "115:\tlearn: 0.0347834\ttotal: 1m 27s\tremaining: 11m 7s\n",
      "116:\tlearn: 0.0347437\ttotal: 1m 28s\tremaining: 11m 6s\n",
      "117:\tlearn: 0.0347009\ttotal: 1m 29s\tremaining: 11m 5s\n",
      "118:\tlearn: 0.0346620\ttotal: 1m 29s\tremaining: 11m 4s\n",
      "119:\tlearn: 0.0346238\ttotal: 1m 30s\tremaining: 11m 3s\n",
      "120:\tlearn: 0.0345887\ttotal: 1m 31s\tremaining: 11m 2s\n",
      "121:\tlearn: 0.0344916\ttotal: 1m 31s\tremaining: 11m 1s\n",
      "122:\tlearn: 0.0344452\ttotal: 1m 32s\tremaining: 11m\n",
      "123:\tlearn: 0.0344013\ttotal: 1m 33s\tremaining: 10m 59s\n",
      "124:\tlearn: 0.0343671\ttotal: 1m 34s\tremaining: 10m 58s\n",
      "125:\tlearn: 0.0343160\ttotal: 1m 34s\tremaining: 10m 57s\n",
      "126:\tlearn: 0.0342808\ttotal: 1m 35s\tremaining: 10m 56s\n",
      "127:\tlearn: 0.0342469\ttotal: 1m 36s\tremaining: 10m 55s\n",
      "128:\tlearn: 0.0342128\ttotal: 1m 36s\tremaining: 10m 54s\n",
      "129:\tlearn: 0.0341813\ttotal: 1m 37s\tremaining: 10m 53s\n",
      "130:\tlearn: 0.0341397\ttotal: 1m 38s\tremaining: 10m 52s\n",
      "131:\tlearn: 0.0341050\ttotal: 1m 39s\tremaining: 10m 52s\n",
      "132:\tlearn: 0.0340583\ttotal: 1m 40s\tremaining: 10m 51s\n",
      "133:\tlearn: 0.0338123\ttotal: 1m 40s\tremaining: 10m 51s\n",
      "134:\tlearn: 0.0337791\ttotal: 1m 41s\tremaining: 10m 50s\n",
      "135:\tlearn: 0.0337248\ttotal: 1m 42s\tremaining: 10m 50s\n",
      "136:\tlearn: 0.0336837\ttotal: 1m 43s\tremaining: 10m 50s\n",
      "137:\tlearn: 0.0334644\ttotal: 1m 44s\tremaining: 10m 49s\n",
      "138:\tlearn: 0.0331739\ttotal: 1m 44s\tremaining: 10m 49s\n",
      "139:\tlearn: 0.0331411\ttotal: 1m 45s\tremaining: 10m 48s\n",
      "140:\tlearn: 0.0331115\ttotal: 1m 46s\tremaining: 10m 47s\n",
      "141:\tlearn: 0.0330805\ttotal: 1m 47s\tremaining: 10m 47s\n",
      "142:\tlearn: 0.0330525\ttotal: 1m 47s\tremaining: 10m 46s\n",
      "143:\tlearn: 0.0330232\ttotal: 1m 48s\tremaining: 10m 45s\n",
      "144:\tlearn: 0.0329947\ttotal: 1m 49s\tremaining: 10m 44s\n",
      "145:\tlearn: 0.0329670\ttotal: 1m 49s\tremaining: 10m 43s\n",
      "146:\tlearn: 0.0329437\ttotal: 1m 50s\tremaining: 10m 42s\n",
      "147:\tlearn: 0.0329146\ttotal: 1m 51s\tremaining: 10m 41s\n",
      "148:\tlearn: 0.0328938\ttotal: 1m 52s\tremaining: 10m 40s\n",
      "149:\tlearn: 0.0328671\ttotal: 1m 52s\tremaining: 10m 39s\n",
      "150:\tlearn: 0.0328414\ttotal: 1m 53s\tremaining: 10m 38s\n",
      "151:\tlearn: 0.0328071\ttotal: 1m 54s\tremaining: 10m 37s\n",
      "152:\tlearn: 0.0327842\ttotal: 1m 54s\tremaining: 10m 36s\n"
     ]
    },
    {
     "name": "stdout",
     "output_type": "stream",
     "text": [
      "153:\tlearn: 0.0327616\ttotal: 1m 55s\tremaining: 10m 35s\n",
      "154:\tlearn: 0.0325805\ttotal: 1m 56s\tremaining: 10m 34s\n",
      "155:\tlearn: 0.0325532\ttotal: 1m 57s\tremaining: 10m 33s\n",
      "156:\tlearn: 0.0325187\ttotal: 1m 57s\tremaining: 10m 31s\n",
      "157:\tlearn: 0.0324955\ttotal: 1m 58s\tremaining: 10m 31s\n",
      "158:\tlearn: 0.0324712\ttotal: 1m 59s\tremaining: 10m 30s\n",
      "159:\tlearn: 0.0324459\ttotal: 1m 59s\tremaining: 10m 29s\n",
      "160:\tlearn: 0.0324151\ttotal: 2m\tremaining: 10m 28s\n",
      "161:\tlearn: 0.0323925\ttotal: 2m 1s\tremaining: 10m 27s\n",
      "162:\tlearn: 0.0323647\ttotal: 2m 1s\tremaining: 10m 26s\n",
      "163:\tlearn: 0.0323268\ttotal: 2m 2s\tremaining: 10m 25s\n",
      "164:\tlearn: 0.0319227\ttotal: 2m 3s\tremaining: 10m 24s\n",
      "165:\tlearn: 0.0319008\ttotal: 2m 4s\tremaining: 10m 23s\n",
      "166:\tlearn: 0.0318761\ttotal: 2m 4s\tremaining: 10m 22s\n",
      "167:\tlearn: 0.0314997\ttotal: 2m 5s\tremaining: 10m 21s\n",
      "168:\tlearn: 0.0314753\ttotal: 2m 6s\tremaining: 10m 20s\n",
      "169:\tlearn: 0.0312656\ttotal: 2m 6s\tremaining: 10m 19s\n",
      "170:\tlearn: 0.0312206\ttotal: 2m 7s\tremaining: 10m 18s\n",
      "171:\tlearn: 0.0307801\ttotal: 2m 8s\tremaining: 10m 17s\n",
      "172:\tlearn: 0.0307574\ttotal: 2m 9s\tremaining: 10m 16s\n",
      "173:\tlearn: 0.0307253\ttotal: 2m 9s\tremaining: 10m 15s\n",
      "174:\tlearn: 0.0307051\ttotal: 2m 10s\tremaining: 10m 14s\n",
      "175:\tlearn: 0.0306769\ttotal: 2m 11s\tremaining: 10m 14s\n",
      "176:\tlearn: 0.0306557\ttotal: 2m 11s\tremaining: 10m 13s\n",
      "177:\tlearn: 0.0306345\ttotal: 2m 12s\tremaining: 10m 12s\n",
      "178:\tlearn: 0.0303497\ttotal: 2m 13s\tremaining: 10m 11s\n",
      "179:\tlearn: 0.0303296\ttotal: 2m 14s\tremaining: 10m 10s\n",
      "180:\tlearn: 0.0303098\ttotal: 2m 14s\tremaining: 10m 9s\n",
      "181:\tlearn: 0.0302844\ttotal: 2m 15s\tremaining: 10m 9s\n",
      "182:\tlearn: 0.0302546\ttotal: 2m 16s\tremaining: 10m 9s\n",
      "183:\tlearn: 0.0302350\ttotal: 2m 17s\tremaining: 10m 9s\n",
      "184:\tlearn: 0.0302146\ttotal: 2m 18s\tremaining: 10m 9s\n",
      "185:\tlearn: 0.0298986\ttotal: 2m 19s\tremaining: 10m 8s\n",
      "186:\tlearn: 0.0298623\ttotal: 2m 19s\tremaining: 10m 8s\n",
      "187:\tlearn: 0.0298239\ttotal: 2m 20s\tremaining: 10m 7s\n",
      "188:\tlearn: 0.0298007\ttotal: 2m 21s\tremaining: 10m 6s\n",
      "189:\tlearn: 0.0297826\ttotal: 2m 22s\tremaining: 10m 6s\n",
      "190:\tlearn: 0.0297512\ttotal: 2m 23s\tremaining: 10m 5s\n",
      "191:\tlearn: 0.0297314\ttotal: 2m 23s\tremaining: 10m 5s\n",
      "192:\tlearn: 0.0295048\ttotal: 2m 24s\tremaining: 10m 4s\n",
      "193:\tlearn: 0.0292607\ttotal: 2m 25s\tremaining: 10m 3s\n",
      "194:\tlearn: 0.0292310\ttotal: 2m 26s\tremaining: 10m 2s\n",
      "195:\tlearn: 0.0292129\ttotal: 2m 26s\tremaining: 10m 1s\n",
      "196:\tlearn: 0.0291939\ttotal: 2m 27s\tremaining: 10m 1s\n",
      "197:\tlearn: 0.0291763\ttotal: 2m 28s\tremaining: 10m\n",
      "198:\tlearn: 0.0287982\ttotal: 2m 28s\tremaining: 9m 59s\n",
      "199:\tlearn: 0.0287807\ttotal: 2m 29s\tremaining: 9m 58s\n",
      "200:\tlearn: 0.0287490\ttotal: 2m 30s\tremaining: 9m 57s\n",
      "201:\tlearn: 0.0287320\ttotal: 2m 30s\tremaining: 9m 56s\n",
      "202:\tlearn: 0.0287138\ttotal: 2m 31s\tremaining: 9m 55s\n",
      "203:\tlearn: 0.0283302\ttotal: 2m 32s\tremaining: 9m 54s\n",
      "204:\tlearn: 0.0283132\ttotal: 2m 33s\tremaining: 9m 53s\n",
      "205:\tlearn: 0.0282756\ttotal: 2m 33s\tremaining: 9m 52s\n",
      "206:\tlearn: 0.0282586\ttotal: 2m 34s\tremaining: 9m 51s\n",
      "207:\tlearn: 0.0282403\ttotal: 2m 35s\tremaining: 9m 50s\n",
      "208:\tlearn: 0.0282197\ttotal: 2m 35s\tremaining: 9m 49s\n",
      "209:\tlearn: 0.0281966\ttotal: 2m 36s\tremaining: 9m 49s\n",
      "210:\tlearn: 0.0277993\ttotal: 2m 37s\tremaining: 9m 48s\n",
      "211:\tlearn: 0.0277826\ttotal: 2m 37s\tremaining: 9m 47s\n",
      "212:\tlearn: 0.0277686\ttotal: 2m 38s\tremaining: 9m 46s\n",
      "213:\tlearn: 0.0277524\ttotal: 2m 39s\tremaining: 9m 45s\n",
      "214:\tlearn: 0.0277330\ttotal: 2m 40s\tremaining: 9m 44s\n",
      "215:\tlearn: 0.0277173\ttotal: 2m 40s\tremaining: 9m 43s\n",
      "216:\tlearn: 0.0277011\ttotal: 2m 41s\tremaining: 9m 43s\n",
      "217:\tlearn: 0.0276863\ttotal: 2m 42s\tremaining: 9m 42s\n",
      "218:\tlearn: 0.0276602\ttotal: 2m 43s\tremaining: 9m 41s\n",
      "219:\tlearn: 0.0273380\ttotal: 2m 43s\tremaining: 9m 40s\n",
      "220:\tlearn: 0.0273178\ttotal: 2m 44s\tremaining: 9m 39s\n",
      "221:\tlearn: 0.0273026\ttotal: 2m 45s\tremaining: 9m 38s\n",
      "222:\tlearn: 0.0272860\ttotal: 2m 45s\tremaining: 9m 38s\n",
      "223:\tlearn: 0.0272677\ttotal: 2m 46s\tremaining: 9m 37s\n",
      "224:\tlearn: 0.0272537\ttotal: 2m 47s\tremaining: 9m 36s\n",
      "225:\tlearn: 0.0272281\ttotal: 2m 48s\tremaining: 9m 35s\n",
      "226:\tlearn: 0.0272145\ttotal: 2m 48s\tremaining: 9m 34s\n",
      "227:\tlearn: 0.0268962\ttotal: 2m 49s\tremaining: 9m 33s\n",
      "228:\tlearn: 0.0268761\ttotal: 2m 50s\tremaining: 9m 33s\n",
      "229:\tlearn: 0.0268613\ttotal: 2m 50s\tremaining: 9m 32s\n",
      "230:\tlearn: 0.0265846\ttotal: 2m 51s\tremaining: 9m 31s\n",
      "231:\tlearn: 0.0265699\ttotal: 2m 52s\tremaining: 9m 30s\n",
      "232:\tlearn: 0.0265534\ttotal: 2m 53s\tremaining: 9m 29s\n",
      "233:\tlearn: 0.0265326\ttotal: 2m 53s\tremaining: 9m 29s\n",
      "234:\tlearn: 0.0265128\ttotal: 2m 54s\tremaining: 9m 28s\n",
      "235:\tlearn: 0.0264991\ttotal: 2m 55s\tremaining: 9m 27s\n",
      "236:\tlearn: 0.0264815\ttotal: 2m 56s\tremaining: 9m 26s\n",
      "237:\tlearn: 0.0264586\ttotal: 2m 56s\tremaining: 9m 26s\n",
      "238:\tlearn: 0.0262244\ttotal: 2m 57s\tremaining: 9m 25s\n",
      "239:\tlearn: 0.0262100\ttotal: 2m 58s\tremaining: 9m 24s\n",
      "240:\tlearn: 0.0261961\ttotal: 2m 59s\tremaining: 9m 24s\n",
      "241:\tlearn: 0.0261829\ttotal: 2m 59s\tremaining: 9m 23s\n",
      "242:\tlearn: 0.0261693\ttotal: 3m\tremaining: 9m 23s\n",
      "243:\tlearn: 0.0261467\ttotal: 3m 1s\tremaining: 9m 22s\n",
      "244:\tlearn: 0.0261297\ttotal: 3m 2s\tremaining: 9m 22s\n",
      "245:\tlearn: 0.0261156\ttotal: 3m 3s\tremaining: 9m 21s\n",
      "246:\tlearn: 0.0260910\ttotal: 3m 4s\tremaining: 9m 21s\n",
      "247:\tlearn: 0.0260761\ttotal: 3m 4s\tremaining: 9m 20s\n",
      "248:\tlearn: 0.0260633\ttotal: 3m 5s\tremaining: 9m 19s\n",
      "249:\tlearn: 0.0260500\ttotal: 3m 6s\tremaining: 9m 18s\n",
      "250:\tlearn: 0.0260290\ttotal: 3m 7s\tremaining: 9m 18s\n",
      "251:\tlearn: 0.0260109\ttotal: 3m 7s\tremaining: 9m 17s\n",
      "252:\tlearn: 0.0259890\ttotal: 3m 8s\tremaining: 9m 16s\n",
      "253:\tlearn: 0.0259679\ttotal: 3m 9s\tremaining: 9m 15s\n",
      "254:\tlearn: 0.0259542\ttotal: 3m 9s\tremaining: 9m 14s\n",
      "255:\tlearn: 0.0258329\ttotal: 3m 10s\tremaining: 9m 13s\n",
      "256:\tlearn: 0.0258193\ttotal: 3m 11s\tremaining: 9m 13s\n",
      "257:\tlearn: 0.0258074\ttotal: 3m 12s\tremaining: 9m 12s\n",
      "258:\tlearn: 0.0257962\ttotal: 3m 12s\tremaining: 9m 11s\n",
      "259:\tlearn: 0.0255530\ttotal: 3m 13s\tremaining: 9m 10s\n",
      "260:\tlearn: 0.0255408\ttotal: 3m 14s\tremaining: 9m 9s\n",
      "261:\tlearn: 0.0255284\ttotal: 3m 14s\tremaining: 9m 9s\n",
      "262:\tlearn: 0.0255071\ttotal: 3m 15s\tremaining: 9m 8s\n",
      "263:\tlearn: 0.0254872\ttotal: 3m 16s\tremaining: 9m 7s\n",
      "264:\tlearn: 0.0254731\ttotal: 3m 17s\tremaining: 9m 6s\n",
      "265:\tlearn: 0.0254565\ttotal: 3m 17s\tremaining: 9m 5s\n",
      "266:\tlearn: 0.0254437\ttotal: 3m 18s\tremaining: 9m 5s\n",
      "267:\tlearn: 0.0254260\ttotal: 3m 19s\tremaining: 9m 4s\n",
      "268:\tlearn: 0.0254096\ttotal: 3m 19s\tremaining: 9m 3s\n",
      "269:\tlearn: 0.0253974\ttotal: 3m 20s\tremaining: 9m 2s\n",
      "270:\tlearn: 0.0253864\ttotal: 3m 21s\tremaining: 9m 1s\n",
      "271:\tlearn: 0.0253613\ttotal: 3m 22s\tremaining: 9m 1s\n",
      "272:\tlearn: 0.0252892\ttotal: 3m 22s\tremaining: 9m\n",
      "273:\tlearn: 0.0252730\ttotal: 3m 23s\tremaining: 8m 59s\n",
      "274:\tlearn: 0.0252602\ttotal: 3m 24s\tremaining: 8m 58s\n",
      "275:\tlearn: 0.0252417\ttotal: 3m 25s\tremaining: 8m 57s\n",
      "276:\tlearn: 0.0252293\ttotal: 3m 25s\tremaining: 8m 57s\n",
      "277:\tlearn: 0.0252175\ttotal: 3m 26s\tremaining: 8m 56s\n",
      "278:\tlearn: 0.0252042\ttotal: 3m 27s\tremaining: 8m 55s\n",
      "279:\tlearn: 0.0251907\ttotal: 3m 27s\tremaining: 8m 54s\n",
      "280:\tlearn: 0.0251637\ttotal: 3m 28s\tremaining: 8m 53s\n",
      "281:\tlearn: 0.0248898\ttotal: 3m 29s\tremaining: 8m 52s\n",
      "282:\tlearn: 0.0245460\ttotal: 3m 30s\tremaining: 8m 52s\n",
      "283:\tlearn: 0.0245350\ttotal: 3m 30s\tremaining: 8m 51s\n",
      "284:\tlearn: 0.0245236\ttotal: 3m 31s\tremaining: 8m 50s\n",
      "285:\tlearn: 0.0245036\ttotal: 3m 32s\tremaining: 8m 49s\n",
      "286:\tlearn: 0.0243579\ttotal: 3m 32s\tremaining: 8m 48s\n",
      "287:\tlearn: 0.0243475\ttotal: 3m 33s\tremaining: 8m 47s\n",
      "288:\tlearn: 0.0243358\ttotal: 3m 34s\tremaining: 8m 47s\n",
      "289:\tlearn: 0.0243220\ttotal: 3m 35s\tremaining: 8m 46s\n",
      "290:\tlearn: 0.0243115\ttotal: 3m 35s\tremaining: 8m 45s\n",
      "291:\tlearn: 0.0240461\ttotal: 3m 36s\tremaining: 8m 44s\n",
      "292:\tlearn: 0.0240352\ttotal: 3m 37s\tremaining: 8m 44s\n",
      "293:\tlearn: 0.0240236\ttotal: 3m 38s\tremaining: 8m 43s\n",
      "294:\tlearn: 0.0240071\ttotal: 3m 38s\tremaining: 8m 42s\n",
      "295:\tlearn: 0.0238841\ttotal: 3m 39s\tremaining: 8m 42s\n",
      "296:\tlearn: 0.0237570\ttotal: 3m 40s\tremaining: 8m 41s\n",
      "297:\tlearn: 0.0236252\ttotal: 3m 41s\tremaining: 8m 41s\n",
      "298:\tlearn: 0.0236061\ttotal: 3m 42s\tremaining: 8m 40s\n",
      "299:\tlearn: 0.0235918\ttotal: 3m 43s\tremaining: 8m 40s\n",
      "300:\tlearn: 0.0235816\ttotal: 3m 44s\tremaining: 8m 40s\n",
      "301:\tlearn: 0.0235648\ttotal: 3m 44s\tremaining: 8m 39s\n",
      "302:\tlearn: 0.0233019\ttotal: 3m 45s\tremaining: 8m 39s\n",
      "303:\tlearn: 0.0231927\ttotal: 3m 46s\tremaining: 8m 38s\n",
      "304:\tlearn: 0.0231822\ttotal: 3m 47s\tremaining: 8m 37s\n",
      "305:\tlearn: 0.0231638\ttotal: 3m 48s\tremaining: 8m 37s\n"
     ]
    },
    {
     "name": "stdout",
     "output_type": "stream",
     "text": [
      "306:\tlearn: 0.0231348\ttotal: 3m 48s\tremaining: 8m 36s\n",
      "307:\tlearn: 0.0231211\ttotal: 3m 49s\tremaining: 8m 35s\n",
      "308:\tlearn: 0.0231069\ttotal: 3m 50s\tremaining: 8m 34s\n",
      "309:\tlearn: 0.0230945\ttotal: 3m 50s\tremaining: 8m 34s\n",
      "310:\tlearn: 0.0230787\ttotal: 3m 51s\tremaining: 8m 33s\n",
      "311:\tlearn: 0.0229681\ttotal: 3m 52s\tremaining: 8m 32s\n",
      "312:\tlearn: 0.0229488\ttotal: 3m 53s\tremaining: 8m 31s\n",
      "313:\tlearn: 0.0226783\ttotal: 3m 53s\tremaining: 8m 30s\n",
      "314:\tlearn: 0.0226653\ttotal: 3m 54s\tremaining: 8m 30s\n",
      "315:\tlearn: 0.0226513\ttotal: 3m 55s\tremaining: 8m 29s\n",
      "316:\tlearn: 0.0226406\ttotal: 3m 55s\tremaining: 8m 28s\n",
      "317:\tlearn: 0.0226283\ttotal: 3m 56s\tremaining: 8m 27s\n",
      "318:\tlearn: 0.0226191\ttotal: 3m 57s\tremaining: 8m 26s\n",
      "319:\tlearn: 0.0226072\ttotal: 3m 58s\tremaining: 8m 25s\n",
      "320:\tlearn: 0.0225932\ttotal: 3m 58s\tremaining: 8m 25s\n",
      "321:\tlearn: 0.0225840\ttotal: 3m 59s\tremaining: 8m 24s\n",
      "322:\tlearn: 0.0225737\ttotal: 4m\tremaining: 8m 23s\n",
      "323:\tlearn: 0.0225640\ttotal: 4m 1s\tremaining: 8m 23s\n",
      "324:\tlearn: 0.0223342\ttotal: 4m 1s\tremaining: 8m 22s\n",
      "325:\tlearn: 0.0223196\ttotal: 4m 2s\tremaining: 8m 21s\n",
      "326:\tlearn: 0.0223088\ttotal: 4m 3s\tremaining: 8m 20s\n",
      "327:\tlearn: 0.0220407\ttotal: 4m 4s\tremaining: 8m 20s\n",
      "328:\tlearn: 0.0220317\ttotal: 4m 4s\tremaining: 8m 19s\n",
      "329:\tlearn: 0.0217545\ttotal: 4m 5s\tremaining: 8m 18s\n",
      "330:\tlearn: 0.0215910\ttotal: 4m 6s\tremaining: 8m 17s\n",
      "331:\tlearn: 0.0215816\ttotal: 4m 6s\tremaining: 8m 16s\n",
      "332:\tlearn: 0.0215648\ttotal: 4m 7s\tremaining: 8m 16s\n",
      "333:\tlearn: 0.0215508\ttotal: 4m 8s\tremaining: 8m 15s\n",
      "334:\tlearn: 0.0215340\ttotal: 4m 9s\tremaining: 8m 14s\n",
      "335:\tlearn: 0.0215182\ttotal: 4m 9s\tremaining: 8m 13s\n",
      "336:\tlearn: 0.0215078\ttotal: 4m 10s\tremaining: 8m 12s\n",
      "337:\tlearn: 0.0212520\ttotal: 4m 11s\tremaining: 8m 11s\n",
      "338:\tlearn: 0.0212411\ttotal: 4m 11s\tremaining: 8m 11s\n",
      "339:\tlearn: 0.0212310\ttotal: 4m 12s\tremaining: 8m 10s\n",
      "340:\tlearn: 0.0210006\ttotal: 4m 13s\tremaining: 8m 9s\n",
      "341:\tlearn: 0.0209916\ttotal: 4m 14s\tremaining: 8m 8s\n",
      "342:\tlearn: 0.0209810\ttotal: 4m 14s\tremaining: 8m 8s\n",
      "343:\tlearn: 0.0207373\ttotal: 4m 15s\tremaining: 8m 7s\n",
      "344:\tlearn: 0.0207088\ttotal: 4m 16s\tremaining: 8m 6s\n",
      "345:\tlearn: 0.0206991\ttotal: 4m 17s\tremaining: 8m 5s\n",
      "346:\tlearn: 0.0206709\ttotal: 4m 17s\tremaining: 8m 5s\n",
      "347:\tlearn: 0.0206587\ttotal: 4m 18s\tremaining: 8m 4s\n",
      "348:\tlearn: 0.0206483\ttotal: 4m 19s\tremaining: 8m 3s\n",
      "349:\tlearn: 0.0203721\ttotal: 4m 20s\tremaining: 8m 3s\n",
      "350:\tlearn: 0.0203633\ttotal: 4m 20s\tremaining: 8m 2s\n",
      "351:\tlearn: 0.0203540\ttotal: 4m 21s\tremaining: 8m 1s\n",
      "352:\tlearn: 0.0203444\ttotal: 4m 22s\tremaining: 8m\n",
      "353:\tlearn: 0.0203347\ttotal: 4m 23s\tremaining: 8m\n",
      "354:\tlearn: 0.0200982\ttotal: 4m 23s\tremaining: 7m 59s\n",
      "355:\tlearn: 0.0200900\ttotal: 4m 24s\tremaining: 7m 58s\n",
      "356:\tlearn: 0.0200774\ttotal: 4m 25s\tremaining: 7m 57s\n",
      "357:\tlearn: 0.0198399\ttotal: 4m 26s\tremaining: 7m 57s\n",
      "358:\tlearn: 0.0196941\ttotal: 4m 26s\tremaining: 7m 56s\n",
      "359:\tlearn: 0.0196860\ttotal: 4m 27s\tremaining: 7m 55s\n",
      "360:\tlearn: 0.0196725\ttotal: 4m 28s\tremaining: 7m 54s\n",
      "361:\tlearn: 0.0194489\ttotal: 4m 28s\tremaining: 7m 54s\n",
      "362:\tlearn: 0.0194373\ttotal: 4m 29s\tremaining: 7m 53s\n",
      "363:\tlearn: 0.0194281\ttotal: 4m 30s\tremaining: 7m 52s\n",
      "364:\tlearn: 0.0194148\ttotal: 4m 31s\tremaining: 7m 51s\n",
      "365:\tlearn: 0.0194047\ttotal: 4m 31s\tremaining: 7m 50s\n",
      "366:\tlearn: 0.0193913\ttotal: 4m 32s\tremaining: 7m 49s\n",
      "367:\tlearn: 0.0193744\ttotal: 4m 33s\tremaining: 7m 49s\n",
      "368:\tlearn: 0.0193563\ttotal: 4m 33s\tremaining: 7m 48s\n",
      "369:\tlearn: 0.0191318\ttotal: 4m 34s\tremaining: 7m 47s\n",
      "370:\tlearn: 0.0191233\ttotal: 4m 35s\tremaining: 7m 46s\n",
      "371:\tlearn: 0.0191145\ttotal: 4m 35s\tremaining: 7m 45s\n",
      "372:\tlearn: 0.0191065\ttotal: 4m 36s\tremaining: 7m 45s\n",
      "373:\tlearn: 0.0190981\ttotal: 4m 37s\tremaining: 7m 44s\n",
      "374:\tlearn: 0.0188738\ttotal: 4m 38s\tremaining: 7m 43s\n",
      "375:\tlearn: 0.0188598\ttotal: 4m 38s\tremaining: 7m 42s\n",
      "376:\tlearn: 0.0188442\ttotal: 4m 39s\tremaining: 7m 41s\n",
      "377:\tlearn: 0.0186518\ttotal: 4m 40s\tremaining: 7m 41s\n",
      "378:\tlearn: 0.0186432\ttotal: 4m 40s\tremaining: 7m 40s\n",
      "379:\tlearn: 0.0186276\ttotal: 4m 41s\tremaining: 7m 39s\n",
      "380:\tlearn: 0.0184959\ttotal: 4m 42s\tremaining: 7m 38s\n",
      "381:\tlearn: 0.0184798\ttotal: 4m 42s\tremaining: 7m 37s\n",
      "382:\tlearn: 0.0184707\ttotal: 4m 43s\tremaining: 7m 36s\n",
      "383:\tlearn: 0.0182718\ttotal: 4m 44s\tremaining: 7m 36s\n",
      "384:\tlearn: 0.0182617\ttotal: 4m 45s\tremaining: 7m 35s\n",
      "385:\tlearn: 0.0182539\ttotal: 4m 45s\tremaining: 7m 34s\n",
      "386:\tlearn: 0.0182454\ttotal: 4m 46s\tremaining: 7m 33s\n",
      "387:\tlearn: 0.0182372\ttotal: 4m 47s\tremaining: 7m 32s\n",
      "388:\tlearn: 0.0181610\ttotal: 4m 47s\tremaining: 7m 32s\n",
      "389:\tlearn: 0.0181537\ttotal: 4m 48s\tremaining: 7m 31s\n",
      "390:\tlearn: 0.0181455\ttotal: 4m 49s\tremaining: 7m 30s\n",
      "391:\tlearn: 0.0181379\ttotal: 4m 49s\tremaining: 7m 29s\n",
      "392:\tlearn: 0.0181271\ttotal: 4m 50s\tremaining: 7m 28s\n",
      "393:\tlearn: 0.0180885\ttotal: 4m 51s\tremaining: 7m 28s\n",
      "394:\tlearn: 0.0180643\ttotal: 4m 52s\tremaining: 7m 27s\n",
      "395:\tlearn: 0.0180517\ttotal: 4m 52s\tremaining: 7m 26s\n",
      "396:\tlearn: 0.0178385\ttotal: 4m 53s\tremaining: 7m 25s\n",
      "397:\tlearn: 0.0176358\ttotal: 4m 54s\tremaining: 7m 24s\n",
      "398:\tlearn: 0.0176284\ttotal: 4m 54s\tremaining: 7m 24s\n",
      "399:\tlearn: 0.0176214\ttotal: 4m 55s\tremaining: 7m 23s\n",
      "400:\tlearn: 0.0176133\ttotal: 4m 56s\tremaining: 7m 22s\n",
      "401:\tlearn: 0.0174800\ttotal: 4m 57s\tremaining: 7m 21s\n",
      "402:\tlearn: 0.0174696\ttotal: 4m 57s\tremaining: 7m 21s\n",
      "403:\tlearn: 0.0172822\ttotal: 4m 58s\tremaining: 7m 20s\n",
      "404:\tlearn: 0.0172671\ttotal: 4m 59s\tremaining: 7m 19s\n",
      "405:\tlearn: 0.0172596\ttotal: 5m\tremaining: 7m 19s\n",
      "406:\tlearn: 0.0170787\ttotal: 5m 1s\tremaining: 7m 18s\n",
      "407:\tlearn: 0.0170653\ttotal: 5m 1s\tremaining: 7m 17s\n",
      "408:\tlearn: 0.0170499\ttotal: 5m 2s\tremaining: 7m 17s\n",
      "409:\tlearn: 0.0170406\ttotal: 5m 3s\tremaining: 7m 16s\n",
      "410:\tlearn: 0.0170341\ttotal: 5m 4s\tremaining: 7m 15s\n",
      "411:\tlearn: 0.0170257\ttotal: 5m 4s\tremaining: 7m 15s\n",
      "412:\tlearn: 0.0168428\ttotal: 5m 5s\tremaining: 7m 14s\n",
      "413:\tlearn: 0.0168241\ttotal: 5m 6s\tremaining: 7m 13s\n",
      "414:\tlearn: 0.0168113\ttotal: 5m 6s\tremaining: 7m 12s\n",
      "415:\tlearn: 0.0168047\ttotal: 5m 7s\tremaining: 7m 11s\n",
      "416:\tlearn: 0.0167963\ttotal: 5m 8s\tremaining: 7m 11s\n",
      "417:\tlearn: 0.0167853\ttotal: 5m 9s\tremaining: 7m 10s\n",
      "418:\tlearn: 0.0166818\ttotal: 5m 9s\tremaining: 7m 9s\n",
      "419:\tlearn: 0.0166751\ttotal: 5m 10s\tremaining: 7m 8s\n",
      "420:\tlearn: 0.0165441\ttotal: 5m 11s\tremaining: 7m 7s\n",
      "421:\tlearn: 0.0164499\ttotal: 5m 11s\tremaining: 7m 7s\n",
      "422:\tlearn: 0.0164421\ttotal: 5m 12s\tremaining: 7m 6s\n",
      "423:\tlearn: 0.0164350\ttotal: 5m 13s\tremaining: 7m 5s\n",
      "424:\tlearn: 0.0164280\ttotal: 5m 14s\tremaining: 7m 4s\n",
      "425:\tlearn: 0.0164215\ttotal: 5m 14s\tremaining: 7m 4s\n",
      "426:\tlearn: 0.0164139\ttotal: 5m 15s\tremaining: 7m 3s\n",
      "427:\tlearn: 0.0162822\ttotal: 5m 16s\tremaining: 7m 2s\n",
      "428:\tlearn: 0.0162706\ttotal: 5m 16s\tremaining: 7m 1s\n",
      "429:\tlearn: 0.0162636\ttotal: 5m 17s\tremaining: 7m\n",
      "430:\tlearn: 0.0161301\ttotal: 5m 18s\tremaining: 7m\n",
      "431:\tlearn: 0.0161232\ttotal: 5m 18s\tremaining: 6m 59s\n",
      "432:\tlearn: 0.0159967\ttotal: 5m 19s\tremaining: 6m 58s\n",
      "433:\tlearn: 0.0159688\ttotal: 5m 20s\tremaining: 6m 57s\n",
      "434:\tlearn: 0.0159622\ttotal: 5m 21s\tremaining: 6m 57s\n",
      "435:\tlearn: 0.0158210\ttotal: 5m 21s\tremaining: 6m 56s\n",
      "436:\tlearn: 0.0158064\ttotal: 5m 22s\tremaining: 6m 55s\n",
      "437:\tlearn: 0.0157995\ttotal: 5m 23s\tremaining: 6m 54s\n",
      "438:\tlearn: 0.0157896\ttotal: 5m 23s\tremaining: 6m 54s\n",
      "439:\tlearn: 0.0157828\ttotal: 5m 24s\tremaining: 6m 53s\n",
      "440:\tlearn: 0.0157709\ttotal: 5m 25s\tremaining: 6m 52s\n",
      "441:\tlearn: 0.0157648\ttotal: 5m 26s\tremaining: 6m 51s\n",
      "442:\tlearn: 0.0157068\ttotal: 5m 26s\tremaining: 6m 51s\n",
      "443:\tlearn: 0.0157005\ttotal: 5m 27s\tremaining: 6m 50s\n",
      "444:\tlearn: 0.0156893\ttotal: 5m 28s\tremaining: 6m 49s\n",
      "445:\tlearn: 0.0155398\ttotal: 5m 29s\tremaining: 6m 48s\n",
      "446:\tlearn: 0.0155332\ttotal: 5m 29s\tremaining: 6m 47s\n",
      "447:\tlearn: 0.0155269\ttotal: 5m 30s\tremaining: 6m 47s\n",
      "448:\tlearn: 0.0155198\ttotal: 5m 31s\tremaining: 6m 46s\n",
      "449:\tlearn: 0.0153519\ttotal: 5m 31s\tremaining: 6m 45s\n",
      "450:\tlearn: 0.0153382\ttotal: 5m 32s\tremaining: 6m 44s\n",
      "451:\tlearn: 0.0152677\ttotal: 5m 33s\tremaining: 6m 44s\n",
      "452:\tlearn: 0.0151457\ttotal: 5m 34s\tremaining: 6m 43s\n",
      "453:\tlearn: 0.0151398\ttotal: 5m 34s\tremaining: 6m 42s\n",
      "454:\tlearn: 0.0151335\ttotal: 5m 35s\tremaining: 6m 41s\n",
      "455:\tlearn: 0.0151270\ttotal: 5m 36s\tremaining: 6m 41s\n",
      "456:\tlearn: 0.0151098\ttotal: 5m 36s\tremaining: 6m 40s\n",
      "457:\tlearn: 0.0150986\ttotal: 5m 37s\tremaining: 6m 39s\n",
      "458:\tlearn: 0.0150925\ttotal: 5m 38s\tremaining: 6m 38s\n",
      "459:\tlearn: 0.0149423\ttotal: 5m 39s\tremaining: 6m 38s\n"
     ]
    },
    {
     "name": "stdout",
     "output_type": "stream",
     "text": [
      "460:\tlearn: 0.0149361\ttotal: 5m 40s\tremaining: 6m 37s\n",
      "461:\tlearn: 0.0149235\ttotal: 5m 40s\tremaining: 6m 37s\n",
      "462:\tlearn: 0.0149176\ttotal: 5m 41s\tremaining: 6m 36s\n",
      "463:\tlearn: 0.0149105\ttotal: 5m 42s\tremaining: 6m 35s\n",
      "464:\tlearn: 0.0148966\ttotal: 5m 43s\tremaining: 6m 35s\n",
      "465:\tlearn: 0.0148846\ttotal: 5m 44s\tremaining: 6m 34s\n",
      "466:\tlearn: 0.0148653\ttotal: 5m 45s\tremaining: 6m 33s\n",
      "467:\tlearn: 0.0147998\ttotal: 5m 45s\tremaining: 6m 33s\n",
      "468:\tlearn: 0.0147872\ttotal: 5m 46s\tremaining: 6m 32s\n",
      "469:\tlearn: 0.0147813\ttotal: 5m 47s\tremaining: 6m 31s\n",
      "470:\tlearn: 0.0146120\ttotal: 5m 47s\tremaining: 6m 30s\n",
      "471:\tlearn: 0.0146016\ttotal: 5m 48s\tremaining: 6m 29s\n",
      "472:\tlearn: 0.0145950\ttotal: 5m 49s\tremaining: 6m 29s\n",
      "473:\tlearn: 0.0145891\ttotal: 5m 49s\tremaining: 6m 28s\n",
      "474:\tlearn: 0.0145836\ttotal: 5m 50s\tremaining: 6m 27s\n",
      "475:\tlearn: 0.0144869\ttotal: 5m 51s\tremaining: 6m 26s\n",
      "476:\tlearn: 0.0144767\ttotal: 5m 52s\tremaining: 6m 26s\n",
      "477:\tlearn: 0.0143542\ttotal: 5m 52s\tremaining: 6m 25s\n",
      "478:\tlearn: 0.0143486\ttotal: 5m 53s\tremaining: 6m 24s\n",
      "479:\tlearn: 0.0142305\ttotal: 5m 54s\tremaining: 6m 23s\n",
      "480:\tlearn: 0.0141608\ttotal: 5m 54s\tremaining: 6m 23s\n",
      "481:\tlearn: 0.0141538\ttotal: 5m 55s\tremaining: 6m 22s\n",
      "482:\tlearn: 0.0141425\ttotal: 5m 56s\tremaining: 6m 21s\n",
      "483:\tlearn: 0.0141361\ttotal: 5m 57s\tremaining: 6m 20s\n",
      "484:\tlearn: 0.0140050\ttotal: 5m 57s\tremaining: 6m 19s\n",
      "485:\tlearn: 0.0139991\ttotal: 5m 58s\tremaining: 6m 19s\n",
      "486:\tlearn: 0.0139934\ttotal: 5m 59s\tremaining: 6m 18s\n",
      "487:\tlearn: 0.0139866\ttotal: 5m 59s\tremaining: 6m 17s\n",
      "488:\tlearn: 0.0139600\ttotal: 6m\tremaining: 6m 16s\n",
      "489:\tlearn: 0.0139544\ttotal: 6m 1s\tremaining: 6m 16s\n",
      "490:\tlearn: 0.0139490\ttotal: 6m 2s\tremaining: 6m 15s\n",
      "491:\tlearn: 0.0139393\ttotal: 6m 2s\tremaining: 6m 14s\n",
      "492:\tlearn: 0.0138835\ttotal: 6m 3s\tremaining: 6m 13s\n",
      "493:\tlearn: 0.0138777\ttotal: 6m 4s\tremaining: 6m 13s\n",
      "494:\tlearn: 0.0138724\ttotal: 6m 4s\tremaining: 6m 12s\n",
      "495:\tlearn: 0.0138661\ttotal: 6m 5s\tremaining: 6m 11s\n",
      "496:\tlearn: 0.0138566\ttotal: 6m 6s\tremaining: 6m 10s\n",
      "497:\tlearn: 0.0138256\ttotal: 6m 7s\tremaining: 6m 9s\n",
      "498:\tlearn: 0.0137580\ttotal: 6m 7s\tremaining: 6m 9s\n",
      "499:\tlearn: 0.0136684\ttotal: 6m 8s\tremaining: 6m 8s\n",
      "500:\tlearn: 0.0136574\ttotal: 6m 9s\tremaining: 6m 7s\n",
      "501:\tlearn: 0.0136452\ttotal: 6m 9s\tremaining: 6m 6s\n",
      "502:\tlearn: 0.0136400\ttotal: 6m 10s\tremaining: 6m 6s\n",
      "503:\tlearn: 0.0136337\ttotal: 6m 11s\tremaining: 6m 5s\n",
      "504:\tlearn: 0.0136280\ttotal: 6m 12s\tremaining: 6m 4s\n",
      "505:\tlearn: 0.0136218\ttotal: 6m 12s\tremaining: 6m 3s\n",
      "506:\tlearn: 0.0134962\ttotal: 6m 13s\tremaining: 6m 3s\n",
      "507:\tlearn: 0.0134859\ttotal: 6m 14s\tremaining: 6m 2s\n",
      "508:\tlearn: 0.0134804\ttotal: 6m 15s\tremaining: 6m 1s\n",
      "509:\tlearn: 0.0134752\ttotal: 6m 15s\tremaining: 6m 1s\n",
      "510:\tlearn: 0.0134700\ttotal: 6m 16s\tremaining: 6m\n",
      "511:\tlearn: 0.0134605\ttotal: 6m 17s\tremaining: 5m 59s\n",
      "512:\tlearn: 0.0134552\ttotal: 6m 18s\tremaining: 5m 58s\n",
      "513:\tlearn: 0.0134501\ttotal: 6m 18s\tremaining: 5m 58s\n",
      "514:\tlearn: 0.0134448\ttotal: 6m 19s\tremaining: 5m 57s\n",
      "515:\tlearn: 0.0134357\ttotal: 6m 20s\tremaining: 5m 56s\n",
      "516:\tlearn: 0.0132926\ttotal: 6m 21s\tremaining: 5m 56s\n",
      "517:\tlearn: 0.0132832\ttotal: 6m 21s\tremaining: 5m 55s\n",
      "518:\tlearn: 0.0132742\ttotal: 6m 22s\tremaining: 5m 54s\n",
      "519:\tlearn: 0.0132658\ttotal: 6m 23s\tremaining: 5m 54s\n",
      "520:\tlearn: 0.0132598\ttotal: 6m 24s\tremaining: 5m 53s\n",
      "521:\tlearn: 0.0132359\ttotal: 6m 25s\tremaining: 5m 52s\n",
      "522:\tlearn: 0.0130940\ttotal: 6m 25s\tremaining: 5m 51s\n",
      "523:\tlearn: 0.0130861\ttotal: 6m 26s\tremaining: 5m 51s\n",
      "524:\tlearn: 0.0130812\ttotal: 6m 27s\tremaining: 5m 50s\n",
      "525:\tlearn: 0.0130761\ttotal: 6m 27s\tremaining: 5m 49s\n",
      "526:\tlearn: 0.0130701\ttotal: 6m 28s\tremaining: 5m 48s\n",
      "527:\tlearn: 0.0130656\ttotal: 6m 29s\tremaining: 5m 48s\n",
      "528:\tlearn: 0.0130611\ttotal: 6m 30s\tremaining: 5m 47s\n",
      "529:\tlearn: 0.0130564\ttotal: 6m 30s\tremaining: 5m 46s\n",
      "530:\tlearn: 0.0130513\ttotal: 6m 31s\tremaining: 5m 45s\n",
      "531:\tlearn: 0.0130465\ttotal: 6m 32s\tremaining: 5m 45s\n",
      "532:\tlearn: 0.0129673\ttotal: 6m 33s\tremaining: 5m 44s\n",
      "533:\tlearn: 0.0129562\ttotal: 6m 33s\tremaining: 5m 43s\n",
      "534:\tlearn: 0.0129515\ttotal: 6m 34s\tremaining: 5m 42s\n",
      "535:\tlearn: 0.0129470\ttotal: 6m 35s\tremaining: 5m 42s\n",
      "536:\tlearn: 0.0129380\ttotal: 6m 36s\tremaining: 5m 41s\n",
      "537:\tlearn: 0.0129299\ttotal: 6m 36s\tremaining: 5m 40s\n",
      "538:\tlearn: 0.0129242\ttotal: 6m 37s\tremaining: 5m 40s\n",
      "539:\tlearn: 0.0128322\ttotal: 6m 38s\tremaining: 5m 39s\n",
      "540:\tlearn: 0.0128206\ttotal: 6m 39s\tremaining: 5m 38s\n",
      "541:\tlearn: 0.0127136\ttotal: 6m 39s\tremaining: 5m 37s\n",
      "542:\tlearn: 0.0126992\ttotal: 6m 40s\tremaining: 5m 37s\n",
      "543:\tlearn: 0.0126947\ttotal: 6m 41s\tremaining: 5m 36s\n",
      "544:\tlearn: 0.0126228\ttotal: 6m 41s\tremaining: 5m 35s\n",
      "545:\tlearn: 0.0126183\ttotal: 6m 42s\tremaining: 5m 34s\n",
      "546:\tlearn: 0.0126137\ttotal: 6m 43s\tremaining: 5m 34s\n",
      "547:\tlearn: 0.0126089\ttotal: 6m 44s\tremaining: 5m 33s\n",
      "548:\tlearn: 0.0125239\ttotal: 6m 44s\tremaining: 5m 32s\n",
      "549:\tlearn: 0.0125195\ttotal: 6m 45s\tremaining: 5m 31s\n",
      "550:\tlearn: 0.0125109\ttotal: 6m 46s\tremaining: 5m 31s\n",
      "551:\tlearn: 0.0124625\ttotal: 6m 46s\tremaining: 5m 30s\n",
      "552:\tlearn: 0.0124537\ttotal: 6m 47s\tremaining: 5m 29s\n",
      "553:\tlearn: 0.0123465\ttotal: 6m 48s\tremaining: 5m 28s\n",
      "554:\tlearn: 0.0123420\ttotal: 6m 49s\tremaining: 5m 28s\n",
      "555:\tlearn: 0.0123196\ttotal: 6m 49s\tremaining: 5m 27s\n",
      "556:\tlearn: 0.0123145\ttotal: 6m 50s\tremaining: 5m 26s\n",
      "557:\tlearn: 0.0123103\ttotal: 6m 51s\tremaining: 5m 25s\n",
      "558:\tlearn: 0.0123055\ttotal: 6m 51s\tremaining: 5m 24s\n",
      "559:\tlearn: 0.0122967\ttotal: 6m 52s\tremaining: 5m 24s\n",
      "560:\tlearn: 0.0122860\ttotal: 6m 53s\tremaining: 5m 23s\n",
      "561:\tlearn: 0.0121952\ttotal: 6m 54s\tremaining: 5m 22s\n",
      "562:\tlearn: 0.0121902\ttotal: 6m 54s\tremaining: 5m 21s\n",
      "563:\tlearn: 0.0120645\ttotal: 6m 55s\tremaining: 5m 21s\n",
      "564:\tlearn: 0.0120540\ttotal: 6m 56s\tremaining: 5m 20s\n",
      "565:\tlearn: 0.0120497\ttotal: 6m 56s\tremaining: 5m 19s\n",
      "566:\tlearn: 0.0120453\ttotal: 6m 57s\tremaining: 5m 18s\n",
      "567:\tlearn: 0.0120411\ttotal: 6m 58s\tremaining: 5m 18s\n",
      "568:\tlearn: 0.0119186\ttotal: 6m 59s\tremaining: 5m 17s\n",
      "569:\tlearn: 0.0119087\ttotal: 6m 59s\tremaining: 5m 16s\n",
      "570:\tlearn: 0.0118994\ttotal: 7m\tremaining: 5m 16s\n",
      "571:\tlearn: 0.0118954\ttotal: 7m 1s\tremaining: 5m 15s\n",
      "572:\tlearn: 0.0118912\ttotal: 7m 2s\tremaining: 5m 14s\n",
      "573:\tlearn: 0.0118870\ttotal: 7m 2s\tremaining: 5m 13s\n",
      "574:\tlearn: 0.0118440\ttotal: 7m 3s\tremaining: 5m 13s\n",
      "575:\tlearn: 0.0118399\ttotal: 7m 4s\tremaining: 5m 12s\n",
      "576:\tlearn: 0.0118321\ttotal: 7m 5s\tremaining: 5m 11s\n",
      "577:\tlearn: 0.0118239\ttotal: 7m 5s\tremaining: 5m 10s\n",
      "578:\tlearn: 0.0118200\ttotal: 7m 6s\tremaining: 5m 10s\n",
      "579:\tlearn: 0.0117128\ttotal: 7m 7s\tremaining: 5m 9s\n",
      "580:\tlearn: 0.0117049\ttotal: 7m 8s\tremaining: 5m 8s\n",
      "581:\tlearn: 0.0117008\ttotal: 7m 8s\tremaining: 5m 7s\n",
      "582:\tlearn: 0.0116968\ttotal: 7m 9s\tremaining: 5m 7s\n",
      "583:\tlearn: 0.0116918\ttotal: 7m 10s\tremaining: 5m 6s\n",
      "584:\tlearn: 0.0116877\ttotal: 7m 10s\tremaining: 5m 5s\n",
      "585:\tlearn: 0.0116845\ttotal: 7m 11s\tremaining: 5m 4s\n",
      "586:\tlearn: 0.0116806\ttotal: 7m 12s\tremaining: 5m 4s\n",
      "587:\tlearn: 0.0116567\ttotal: 7m 13s\tremaining: 5m 3s\n",
      "588:\tlearn: 0.0116482\ttotal: 7m 13s\tremaining: 5m 2s\n",
      "589:\tlearn: 0.0116418\ttotal: 7m 14s\tremaining: 5m 1s\n",
      "590:\tlearn: 0.0115638\ttotal: 7m 15s\tremaining: 5m 1s\n",
      "591:\tlearn: 0.0115305\ttotal: 7m 15s\tremaining: 5m\n",
      "592:\tlearn: 0.0115215\ttotal: 7m 16s\tremaining: 4m 59s\n",
      "593:\tlearn: 0.0115167\ttotal: 7m 17s\tremaining: 4m 58s\n",
      "594:\tlearn: 0.0115129\ttotal: 7m 18s\tremaining: 4m 58s\n",
      "595:\tlearn: 0.0113977\ttotal: 7m 18s\tremaining: 4m 57s\n",
      "596:\tlearn: 0.0113904\ttotal: 7m 19s\tremaining: 4m 56s\n",
      "597:\tlearn: 0.0113819\ttotal: 7m 20s\tremaining: 4m 55s\n",
      "598:\tlearn: 0.0113721\ttotal: 7m 20s\tremaining: 4m 55s\n",
      "599:\tlearn: 0.0113412\ttotal: 7m 21s\tremaining: 4m 54s\n",
      "600:\tlearn: 0.0113374\ttotal: 7m 22s\tremaining: 4m 53s\n",
      "601:\tlearn: 0.0113335\ttotal: 7m 23s\tremaining: 4m 52s\n",
      "602:\tlearn: 0.0113265\ttotal: 7m 23s\tremaining: 4m 52s\n",
      "603:\tlearn: 0.0113228\ttotal: 7m 24s\tremaining: 4m 51s\n",
      "604:\tlearn: 0.0112207\ttotal: 7m 25s\tremaining: 4m 50s\n",
      "605:\tlearn: 0.0112169\ttotal: 7m 25s\tremaining: 4m 49s\n",
      "606:\tlearn: 0.0112131\ttotal: 7m 26s\tremaining: 4m 49s\n",
      "607:\tlearn: 0.0112092\ttotal: 7m 27s\tremaining: 4m 48s\n",
      "608:\tlearn: 0.0112031\ttotal: 7m 27s\tremaining: 4m 47s\n",
      "609:\tlearn: 0.0111994\ttotal: 7m 28s\tremaining: 4m 46s\n",
      "610:\tlearn: 0.0111957\ttotal: 7m 29s\tremaining: 4m 46s\n",
      "611:\tlearn: 0.0111920\ttotal: 7m 30s\tremaining: 4m 45s\n",
      "612:\tlearn: 0.0111884\ttotal: 7m 30s\tremaining: 4m 44s\n"
     ]
    },
    {
     "name": "stdout",
     "output_type": "stream",
     "text": [
      "613:\tlearn: 0.0111124\ttotal: 7m 31s\tremaining: 4m 43s\n",
      "614:\tlearn: 0.0111045\ttotal: 7m 32s\tremaining: 4m 43s\n",
      "615:\tlearn: 0.0111010\ttotal: 7m 32s\tremaining: 4m 42s\n",
      "616:\tlearn: 0.0110975\ttotal: 7m 33s\tremaining: 4m 41s\n",
      "617:\tlearn: 0.0110929\ttotal: 7m 34s\tremaining: 4m 40s\n",
      "618:\tlearn: 0.0110894\ttotal: 7m 35s\tremaining: 4m 40s\n",
      "619:\tlearn: 0.0110524\ttotal: 7m 35s\tremaining: 4m 39s\n",
      "620:\tlearn: 0.0109356\ttotal: 7m 36s\tremaining: 4m 38s\n",
      "621:\tlearn: 0.0109288\ttotal: 7m 37s\tremaining: 4m 37s\n",
      "622:\tlearn: 0.0109206\ttotal: 7m 37s\tremaining: 4m 37s\n",
      "623:\tlearn: 0.0109171\ttotal: 7m 38s\tremaining: 4m 36s\n",
      "624:\tlearn: 0.0108984\ttotal: 7m 39s\tremaining: 4m 35s\n",
      "625:\tlearn: 0.0108912\ttotal: 7m 40s\tremaining: 4m 34s\n",
      "626:\tlearn: 0.0108839\ttotal: 7m 41s\tremaining: 4m 34s\n",
      "627:\tlearn: 0.0108545\ttotal: 7m 41s\tremaining: 4m 33s\n",
      "628:\tlearn: 0.0108470\ttotal: 7m 42s\tremaining: 4m 32s\n",
      "629:\tlearn: 0.0108394\ttotal: 7m 43s\tremaining: 4m 32s\n",
      "630:\tlearn: 0.0108360\ttotal: 7m 44s\tremaining: 4m 31s\n",
      "631:\tlearn: 0.0107558\ttotal: 7m 45s\tremaining: 4m 30s\n",
      "632:\tlearn: 0.0107446\ttotal: 7m 46s\tremaining: 4m 30s\n",
      "633:\tlearn: 0.0107411\ttotal: 7m 46s\tremaining: 4m 29s\n",
      "634:\tlearn: 0.0107341\ttotal: 7m 47s\tremaining: 4m 28s\n",
      "635:\tlearn: 0.0107305\ttotal: 7m 48s\tremaining: 4m 28s\n",
      "636:\tlearn: 0.0106511\ttotal: 7m 48s\tremaining: 4m 27s\n",
      "637:\tlearn: 0.0106427\ttotal: 7m 49s\tremaining: 4m 26s\n",
      "638:\tlearn: 0.0106383\ttotal: 7m 50s\tremaining: 4m 25s\n",
      "639:\tlearn: 0.0106315\ttotal: 7m 51s\tremaining: 4m 24s\n",
      "640:\tlearn: 0.0106247\ttotal: 7m 51s\tremaining: 4m 24s\n",
      "641:\tlearn: 0.0106133\ttotal: 7m 52s\tremaining: 4m 23s\n",
      "642:\tlearn: 0.0106067\ttotal: 7m 53s\tremaining: 4m 22s\n",
      "643:\tlearn: 0.0105060\ttotal: 7m 53s\tremaining: 4m 21s\n",
      "644:\tlearn: 0.0104954\ttotal: 7m 54s\tremaining: 4m 21s\n",
      "645:\tlearn: 0.0104919\ttotal: 7m 55s\tremaining: 4m 20s\n",
      "646:\tlearn: 0.0103950\ttotal: 7m 56s\tremaining: 4m 19s\n",
      "647:\tlearn: 0.0103915\ttotal: 7m 56s\tremaining: 4m 18s\n",
      "648:\tlearn: 0.0103881\ttotal: 7m 57s\tremaining: 4m 18s\n",
      "649:\tlearn: 0.0103848\ttotal: 7m 58s\tremaining: 4m 17s\n",
      "650:\tlearn: 0.0103815\ttotal: 7m 58s\tremaining: 4m 16s\n",
      "651:\tlearn: 0.0102999\ttotal: 7m 59s\tremaining: 4m 15s\n",
      "652:\tlearn: 0.0102923\ttotal: 8m\tremaining: 4m 15s\n",
      "653:\tlearn: 0.0102896\ttotal: 8m\tremaining: 4m 14s\n",
      "654:\tlearn: 0.0102855\ttotal: 8m 1s\tremaining: 4m 13s\n",
      "655:\tlearn: 0.0102822\ttotal: 8m 2s\tremaining: 4m 12s\n",
      "656:\tlearn: 0.0102728\ttotal: 8m 3s\tremaining: 4m 12s\n",
      "657:\tlearn: 0.0102658\ttotal: 8m 3s\tremaining: 4m 11s\n",
      "658:\tlearn: 0.0101738\ttotal: 8m 4s\tremaining: 4m 10s\n",
      "659:\tlearn: 0.0101684\ttotal: 8m 5s\tremaining: 4m 9s\n",
      "660:\tlearn: 0.0101641\ttotal: 8m 5s\tremaining: 4m 9s\n",
      "661:\tlearn: 0.0101620\ttotal: 8m 6s\tremaining: 4m 8s\n",
      "662:\tlearn: 0.0101588\ttotal: 8m 7s\tremaining: 4m 7s\n",
      "663:\tlearn: 0.0101556\ttotal: 8m 8s\tremaining: 4m 6s\n",
      "664:\tlearn: 0.0101522\ttotal: 8m 8s\tremaining: 4m 6s\n",
      "665:\tlearn: 0.0101156\ttotal: 8m 9s\tremaining: 4m 5s\n",
      "666:\tlearn: 0.0101126\ttotal: 8m 10s\tremaining: 4m 4s\n",
      "667:\tlearn: 0.0101095\ttotal: 8m 10s\tremaining: 4m 4s\n",
      "668:\tlearn: 0.0100200\ttotal: 8m 11s\tremaining: 4m 3s\n",
      "669:\tlearn: 0.0100130\ttotal: 8m 12s\tremaining: 4m 2s\n",
      "670:\tlearn: 0.0099793\ttotal: 8m 13s\tremaining: 4m 1s\n",
      "671:\tlearn: 0.0099763\ttotal: 8m 13s\tremaining: 4m 1s\n",
      "672:\tlearn: 0.0099733\ttotal: 8m 14s\tremaining: 4m\n",
      "673:\tlearn: 0.0099664\ttotal: 8m 15s\tremaining: 3m 59s\n",
      "674:\tlearn: 0.0098818\ttotal: 8m 16s\tremaining: 3m 58s\n",
      "675:\tlearn: 0.0098745\ttotal: 8m 16s\tremaining: 3m 58s\n",
      "676:\tlearn: 0.0098676\ttotal: 8m 17s\tremaining: 3m 57s\n",
      "677:\tlearn: 0.0098642\ttotal: 8m 18s\tremaining: 3m 56s\n",
      "678:\tlearn: 0.0098570\ttotal: 8m 19s\tremaining: 3m 55s\n",
      "679:\tlearn: 0.0097843\ttotal: 8m 19s\tremaining: 3m 55s\n",
      "680:\tlearn: 0.0097788\ttotal: 8m 20s\tremaining: 3m 54s\n",
      "681:\tlearn: 0.0097757\ttotal: 8m 21s\tremaining: 3m 53s\n",
      "682:\tlearn: 0.0097727\ttotal: 8m 22s\tremaining: 3m 53s\n",
      "683:\tlearn: 0.0097695\ttotal: 8m 22s\tremaining: 3m 52s\n",
      "684:\tlearn: 0.0097646\ttotal: 8m 23s\tremaining: 3m 51s\n",
      "685:\tlearn: 0.0097573\ttotal: 8m 24s\tremaining: 3m 50s\n",
      "686:\tlearn: 0.0097509\ttotal: 8m 24s\tremaining: 3m 50s\n",
      "687:\tlearn: 0.0097479\ttotal: 8m 25s\tremaining: 3m 49s\n",
      "688:\tlearn: 0.0097452\ttotal: 8m 26s\tremaining: 3m 48s\n",
      "689:\tlearn: 0.0096736\ttotal: 8m 27s\tremaining: 3m 47s\n",
      "690:\tlearn: 0.0096376\ttotal: 8m 27s\tremaining: 3m 47s\n",
      "691:\tlearn: 0.0096346\ttotal: 8m 28s\tremaining: 3m 46s\n",
      "692:\tlearn: 0.0096226\ttotal: 8m 29s\tremaining: 3m 45s\n",
      "693:\tlearn: 0.0096157\ttotal: 8m 29s\tremaining: 3m 44s\n",
      "694:\tlearn: 0.0096103\ttotal: 8m 30s\tremaining: 3m 44s\n",
      "695:\tlearn: 0.0096073\ttotal: 8m 31s\tremaining: 3m 43s\n",
      "696:\tlearn: 0.0096043\ttotal: 8m 32s\tremaining: 3m 42s\n",
      "697:\tlearn: 0.0096014\ttotal: 8m 32s\tremaining: 3m 41s\n",
      "698:\tlearn: 0.0095966\ttotal: 8m 33s\tremaining: 3m 41s\n",
      "699:\tlearn: 0.0095934\ttotal: 8m 34s\tremaining: 3m 40s\n",
      "700:\tlearn: 0.0095903\ttotal: 8m 35s\tremaining: 3m 39s\n",
      "701:\tlearn: 0.0095583\ttotal: 8m 35s\tremaining: 3m 39s\n",
      "702:\tlearn: 0.0095524\ttotal: 8m 36s\tremaining: 3m 38s\n",
      "703:\tlearn: 0.0095494\ttotal: 8m 37s\tremaining: 3m 37s\n",
      "704:\tlearn: 0.0095465\ttotal: 8m 38s\tremaining: 3m 36s\n",
      "705:\tlearn: 0.0095311\ttotal: 8m 38s\tremaining: 3m 36s\n",
      "706:\tlearn: 0.0095285\ttotal: 8m 39s\tremaining: 3m 35s\n",
      "707:\tlearn: 0.0095257\ttotal: 8m 40s\tremaining: 3m 34s\n",
      "708:\tlearn: 0.0094745\ttotal: 8m 40s\tremaining: 3m 33s\n",
      "709:\tlearn: 0.0094717\ttotal: 8m 41s\tremaining: 3m 33s\n",
      "710:\tlearn: 0.0094686\ttotal: 8m 42s\tremaining: 3m 32s\n",
      "711:\tlearn: 0.0094040\ttotal: 8m 43s\tremaining: 3m 31s\n",
      "712:\tlearn: 0.0093982\ttotal: 8m 43s\tremaining: 3m 30s\n",
      "713:\tlearn: 0.0093955\ttotal: 8m 44s\tremaining: 3m 30s\n",
      "714:\tlearn: 0.0093927\ttotal: 8m 45s\tremaining: 3m 29s\n",
      "715:\tlearn: 0.0093910\ttotal: 8m 45s\tremaining: 3m 28s\n",
      "716:\tlearn: 0.0093881\ttotal: 8m 46s\tremaining: 3m 27s\n",
      "717:\tlearn: 0.0093715\ttotal: 8m 47s\tremaining: 3m 27s\n",
      "718:\tlearn: 0.0093688\ttotal: 8m 47s\tremaining: 3m 26s\n",
      "719:\tlearn: 0.0093652\ttotal: 8m 48s\tremaining: 3m 25s\n",
      "720:\tlearn: 0.0093120\ttotal: 8m 49s\tremaining: 3m 24s\n",
      "721:\tlearn: 0.0093077\ttotal: 8m 50s\tremaining: 3m 24s\n",
      "722:\tlearn: 0.0093049\ttotal: 8m 50s\tremaining: 3m 23s\n",
      "723:\tlearn: 0.0093023\ttotal: 8m 51s\tremaining: 3m 22s\n",
      "724:\tlearn: 0.0092949\ttotal: 8m 52s\tremaining: 3m 21s\n",
      "725:\tlearn: 0.0092922\ttotal: 8m 53s\tremaining: 3m 21s\n",
      "726:\tlearn: 0.0092187\ttotal: 8m 53s\tremaining: 3m 20s\n",
      "727:\tlearn: 0.0092125\ttotal: 8m 54s\tremaining: 3m 19s\n",
      "728:\tlearn: 0.0091979\ttotal: 8m 55s\tremaining: 3m 19s\n",
      "729:\tlearn: 0.0091953\ttotal: 8m 56s\tremaining: 3m 18s\n",
      "730:\tlearn: 0.0091926\ttotal: 8m 57s\tremaining: 3m 17s\n",
      "731:\tlearn: 0.0091900\ttotal: 8m 57s\tremaining: 3m 16s\n",
      "732:\tlearn: 0.0091556\ttotal: 8m 58s\tremaining: 3m 16s\n",
      "733:\tlearn: 0.0091484\ttotal: 8m 59s\tremaining: 3m 15s\n",
      "734:\tlearn: 0.0091456\ttotal: 9m\tremaining: 3m 14s\n",
      "735:\tlearn: 0.0091432\ttotal: 9m\tremaining: 3m 13s\n",
      "736:\tlearn: 0.0091406\ttotal: 9m 1s\tremaining: 3m 13s\n",
      "737:\tlearn: 0.0090829\ttotal: 9m 2s\tremaining: 3m 12s\n",
      "738:\tlearn: 0.0090803\ttotal: 9m 3s\tremaining: 3m 11s\n",
      "739:\tlearn: 0.0090778\ttotal: 9m 3s\tremaining: 3m 11s\n",
      "740:\tlearn: 0.0090752\ttotal: 9m 4s\tremaining: 3m 10s\n",
      "741:\tlearn: 0.0090727\ttotal: 9m 5s\tremaining: 3m 9s\n",
      "742:\tlearn: 0.0090702\ttotal: 9m 6s\tremaining: 3m 8s\n",
      "743:\tlearn: 0.0090390\ttotal: 9m 6s\tremaining: 3m 8s\n",
      "744:\tlearn: 0.0090367\ttotal: 9m 7s\tremaining: 3m 7s\n",
      "745:\tlearn: 0.0090342\ttotal: 9m 8s\tremaining: 3m 6s\n",
      "746:\tlearn: 0.0089790\ttotal: 9m 8s\tremaining: 3m 5s\n",
      "747:\tlearn: 0.0089735\ttotal: 9m 9s\tremaining: 3m 5s\n",
      "748:\tlearn: 0.0089687\ttotal: 9m 10s\tremaining: 3m 4s\n",
      "749:\tlearn: 0.0089374\ttotal: 9m 11s\tremaining: 3m 3s\n",
      "750:\tlearn: 0.0089317\ttotal: 9m 11s\tremaining: 3m 2s\n",
      "751:\tlearn: 0.0089292\ttotal: 9m 12s\tremaining: 3m 2s\n",
      "752:\tlearn: 0.0089232\ttotal: 9m 13s\tremaining: 3m 1s\n",
      "753:\tlearn: 0.0089209\ttotal: 9m 13s\tremaining: 3m\n",
      "754:\tlearn: 0.0088470\ttotal: 9m 14s\tremaining: 2m 59s\n",
      "755:\tlearn: 0.0088445\ttotal: 9m 15s\tremaining: 2m 59s\n",
      "756:\tlearn: 0.0088394\ttotal: 9m 15s\tremaining: 2m 58s\n",
      "757:\tlearn: 0.0088369\ttotal: 9m 16s\tremaining: 2m 57s\n",
      "758:\tlearn: 0.0088343\ttotal: 9m 17s\tremaining: 2m 56s\n",
      "759:\tlearn: 0.0088327\ttotal: 9m 18s\tremaining: 2m 56s\n",
      "760:\tlearn: 0.0088303\ttotal: 9m 18s\tremaining: 2m 55s\n",
      "761:\tlearn: 0.0087972\ttotal: 9m 19s\tremaining: 2m 54s\n",
      "762:\tlearn: 0.0087948\ttotal: 9m 20s\tremaining: 2m 54s\n",
      "763:\tlearn: 0.0087791\ttotal: 9m 20s\tremaining: 2m 53s\n",
      "764:\tlearn: 0.0087536\ttotal: 9m 21s\tremaining: 2m 52s\n",
      "765:\tlearn: 0.0087505\ttotal: 9m 22s\tremaining: 2m 51s\n",
      "766:\tlearn: 0.0087032\ttotal: 9m 22s\tremaining: 2m 51s\n"
     ]
    },
    {
     "name": "stdout",
     "output_type": "stream",
     "text": [
      "767:\tlearn: 0.0086997\ttotal: 9m 23s\tremaining: 2m 50s\n",
      "768:\tlearn: 0.0086975\ttotal: 9m 24s\tremaining: 2m 49s\n",
      "769:\tlearn: 0.0086951\ttotal: 9m 25s\tremaining: 2m 48s\n",
      "770:\tlearn: 0.0086928\ttotal: 9m 26s\tremaining: 2m 48s\n",
      "771:\tlearn: 0.0086905\ttotal: 9m 26s\tremaining: 2m 47s\n",
      "772:\tlearn: 0.0086857\ttotal: 9m 27s\tremaining: 2m 46s\n",
      "773:\tlearn: 0.0086681\ttotal: 9m 28s\tremaining: 2m 45s\n",
      "774:\tlearn: 0.0086616\ttotal: 9m 29s\tremaining: 2m 45s\n",
      "775:\tlearn: 0.0086144\ttotal: 9m 30s\tremaining: 2m 44s\n",
      "776:\tlearn: 0.0086113\ttotal: 9m 31s\tremaining: 2m 43s\n",
      "777:\tlearn: 0.0086090\ttotal: 9m 31s\tremaining: 2m 43s\n",
      "778:\tlearn: 0.0086072\ttotal: 9m 32s\tremaining: 2m 42s\n",
      "779:\tlearn: 0.0086050\ttotal: 9m 33s\tremaining: 2m 41s\n",
      "780:\tlearn: 0.0085771\ttotal: 9m 33s\tremaining: 2m 40s\n",
      "781:\tlearn: 0.0085304\ttotal: 9m 34s\tremaining: 2m 40s\n",
      "782:\tlearn: 0.0085262\ttotal: 9m 35s\tremaining: 2m 39s\n",
      "783:\tlearn: 0.0085241\ttotal: 9m 36s\tremaining: 2m 38s\n",
      "784:\tlearn: 0.0085218\ttotal: 9m 37s\tremaining: 2m 38s\n",
      "785:\tlearn: 0.0085178\ttotal: 9m 38s\tremaining: 2m 37s\n",
      "786:\tlearn: 0.0085155\ttotal: 9m 38s\tremaining: 2m 36s\n",
      "787:\tlearn: 0.0085131\ttotal: 9m 39s\tremaining: 2m 35s\n",
      "788:\tlearn: 0.0084714\ttotal: 9m 40s\tremaining: 2m 35s\n",
      "789:\tlearn: 0.0084714\ttotal: 9m 41s\tremaining: 2m 34s\n",
      "790:\tlearn: 0.0084701\ttotal: 9m 41s\tremaining: 2m 33s\n",
      "791:\tlearn: 0.0084678\ttotal: 9m 42s\tremaining: 2m 32s\n",
      "792:\tlearn: 0.0084655\ttotal: 9m 43s\tremaining: 2m 32s\n",
      "793:\tlearn: 0.0084632\ttotal: 9m 44s\tremaining: 2m 31s\n",
      "794:\tlearn: 0.0084585\ttotal: 9m 44s\tremaining: 2m 30s\n",
      "795:\tlearn: 0.0084562\ttotal: 9m 45s\tremaining: 2m 30s\n",
      "796:\tlearn: 0.0084562\ttotal: 9m 46s\tremaining: 2m 29s\n",
      "797:\tlearn: 0.0084292\ttotal: 9m 46s\tremaining: 2m 28s\n",
      "798:\tlearn: 0.0084240\ttotal: 9m 47s\tremaining: 2m 27s\n",
      "799:\tlearn: 0.0084218\ttotal: 9m 48s\tremaining: 2m 27s\n",
      "800:\tlearn: 0.0083062\ttotal: 9m 48s\tremaining: 2m 26s\n",
      "801:\tlearn: 0.0082977\ttotal: 9m 49s\tremaining: 2m 25s\n",
      "802:\tlearn: 0.0082501\ttotal: 9m 50s\tremaining: 2m 24s\n",
      "803:\tlearn: 0.0082486\ttotal: 9m 51s\tremaining: 2m 24s\n",
      "804:\tlearn: 0.0082456\ttotal: 9m 51s\tremaining: 2m 23s\n",
      "805:\tlearn: 0.0082456\ttotal: 9m 52s\tremaining: 2m 22s\n",
      "806:\tlearn: 0.0082445\ttotal: 9m 53s\tremaining: 2m 21s\n",
      "807:\tlearn: 0.0082423\ttotal: 9m 53s\tremaining: 2m 21s\n",
      "808:\tlearn: 0.0082393\ttotal: 9m 54s\tremaining: 2m 20s\n",
      "809:\tlearn: 0.0082344\ttotal: 9m 55s\tremaining: 2m 19s\n",
      "810:\tlearn: 0.0082344\ttotal: 9m 56s\tremaining: 2m 18s\n",
      "811:\tlearn: 0.0082306\ttotal: 9m 56s\tremaining: 2m 18s\n",
      "812:\tlearn: 0.0081721\ttotal: 9m 57s\tremaining: 2m 17s\n",
      "813:\tlearn: 0.0081715\ttotal: 9m 58s\tremaining: 2m 16s\n",
      "814:\tlearn: 0.0080762\ttotal: 9m 59s\tremaining: 2m 15s\n",
      "815:\tlearn: 0.0080762\ttotal: 9m 59s\tremaining: 2m 15s\n",
      "816:\tlearn: 0.0080761\ttotal: 10m\tremaining: 2m 14s\n",
      "817:\tlearn: 0.0080762\ttotal: 10m 1s\tremaining: 2m 13s\n",
      "818:\tlearn: 0.0080762\ttotal: 10m 1s\tremaining: 2m 12s\n",
      "819:\tlearn: 0.0080762\ttotal: 10m 2s\tremaining: 2m 12s\n",
      "820:\tlearn: 0.0080762\ttotal: 10m 3s\tremaining: 2m 11s\n",
      "821:\tlearn: 0.0080762\ttotal: 10m 3s\tremaining: 2m 10s\n",
      "822:\tlearn: 0.0080753\ttotal: 10m 4s\tremaining: 2m 10s\n",
      "823:\tlearn: 0.0080753\ttotal: 10m 5s\tremaining: 2m 9s\n",
      "824:\tlearn: 0.0080752\ttotal: 10m 6s\tremaining: 2m 8s\n",
      "825:\tlearn: 0.0080752\ttotal: 10m 6s\tremaining: 2m 7s\n",
      "826:\tlearn: 0.0080742\ttotal: 10m 7s\tremaining: 2m 7s\n",
      "827:\tlearn: 0.0080228\ttotal: 10m 8s\tremaining: 2m 6s\n",
      "828:\tlearn: 0.0080228\ttotal: 10m 8s\tremaining: 2m 5s\n",
      "829:\tlearn: 0.0080218\ttotal: 10m 9s\tremaining: 2m 4s\n",
      "830:\tlearn: 0.0080218\ttotal: 10m 10s\tremaining: 2m 4s\n",
      "831:\tlearn: 0.0080203\ttotal: 10m 10s\tremaining: 2m 3s\n",
      "832:\tlearn: 0.0080203\ttotal: 10m 11s\tremaining: 2m 2s\n",
      "833:\tlearn: 0.0080202\ttotal: 10m 12s\tremaining: 2m 1s\n",
      "834:\tlearn: 0.0080185\ttotal: 10m 12s\tremaining: 2m 1s\n",
      "835:\tlearn: 0.0080167\ttotal: 10m 13s\tremaining: 2m\n",
      "836:\tlearn: 0.0080167\ttotal: 10m 14s\tremaining: 1m 59s\n",
      "837:\tlearn: 0.0080128\ttotal: 10m 15s\tremaining: 1m 58s\n",
      "838:\tlearn: 0.0080122\ttotal: 10m 15s\tremaining: 1m 58s\n",
      "839:\tlearn: 0.0080106\ttotal: 10m 16s\tremaining: 1m 57s\n",
      "840:\tlearn: 0.0080084\ttotal: 10m 17s\tremaining: 1m 56s\n",
      "841:\tlearn: 0.0080047\ttotal: 10m 18s\tremaining: 1m 55s\n",
      "842:\tlearn: 0.0080027\ttotal: 10m 18s\tremaining: 1m 55s\n",
      "843:\tlearn: 0.0079984\ttotal: 10m 19s\tremaining: 1m 54s\n",
      "844:\tlearn: 0.0079984\ttotal: 10m 20s\tremaining: 1m 53s\n",
      "845:\tlearn: 0.0079963\ttotal: 10m 20s\tremaining: 1m 53s\n",
      "846:\tlearn: 0.0079950\ttotal: 10m 21s\tremaining: 1m 52s\n",
      "847:\tlearn: 0.0079919\ttotal: 10m 22s\tremaining: 1m 51s\n",
      "848:\tlearn: 0.0079225\ttotal: 10m 23s\tremaining: 1m 50s\n",
      "849:\tlearn: 0.0079190\ttotal: 10m 23s\tremaining: 1m 50s\n",
      "850:\tlearn: 0.0079171\ttotal: 10m 24s\tremaining: 1m 49s\n",
      "851:\tlearn: 0.0079151\ttotal: 10m 25s\tremaining: 1m 48s\n",
      "852:\tlearn: 0.0079151\ttotal: 10m 26s\tremaining: 1m 47s\n",
      "853:\tlearn: 0.0079132\ttotal: 10m 26s\tremaining: 1m 47s\n",
      "854:\tlearn: 0.0079124\ttotal: 10m 27s\tremaining: 1m 46s\n",
      "855:\tlearn: 0.0079076\ttotal: 10m 28s\tremaining: 1m 45s\n",
      "856:\tlearn: 0.0079026\ttotal: 10m 28s\tremaining: 1m 44s\n",
      "857:\tlearn: 0.0079026\ttotal: 10m 29s\tremaining: 1m 44s\n",
      "858:\tlearn: 0.0079006\ttotal: 10m 30s\tremaining: 1m 43s\n",
      "859:\tlearn: 0.0078985\ttotal: 10m 31s\tremaining: 1m 42s\n",
      "860:\tlearn: 0.0078965\ttotal: 10m 31s\tremaining: 1m 41s\n",
      "861:\tlearn: 0.0078514\ttotal: 10m 32s\tremaining: 1m 41s\n",
      "862:\tlearn: 0.0078483\ttotal: 10m 33s\tremaining: 1m 40s\n",
      "863:\tlearn: 0.0078447\ttotal: 10m 33s\tremaining: 1m 39s\n",
      "864:\tlearn: 0.0078144\ttotal: 10m 34s\tremaining: 1m 39s\n",
      "865:\tlearn: 0.0078092\ttotal: 10m 35s\tremaining: 1m 38s\n",
      "866:\tlearn: 0.0078073\ttotal: 10m 35s\tremaining: 1m 37s\n",
      "867:\tlearn: 0.0078052\ttotal: 10m 36s\tremaining: 1m 36s\n",
      "868:\tlearn: 0.0078032\ttotal: 10m 37s\tremaining: 1m 36s\n",
      "869:\tlearn: 0.0077354\ttotal: 10m 38s\tremaining: 1m 35s\n",
      "870:\tlearn: 0.0077334\ttotal: 10m 38s\tremaining: 1m 34s\n",
      "871:\tlearn: 0.0077314\ttotal: 10m 39s\tremaining: 1m 33s\n",
      "872:\tlearn: 0.0077111\ttotal: 10m 40s\tremaining: 1m 33s\n",
      "873:\tlearn: 0.0077091\ttotal: 10m 40s\tremaining: 1m 32s\n",
      "874:\tlearn: 0.0077082\ttotal: 10m 41s\tremaining: 1m 31s\n",
      "875:\tlearn: 0.0077063\ttotal: 10m 42s\tremaining: 1m 30s\n",
      "876:\tlearn: 0.0077043\ttotal: 10m 42s\tremaining: 1m 30s\n",
      "877:\tlearn: 0.0077043\ttotal: 10m 43s\tremaining: 1m 29s\n",
      "878:\tlearn: 0.0077024\ttotal: 10m 44s\tremaining: 1m 28s\n",
      "879:\tlearn: 0.0077006\ttotal: 10m 45s\tremaining: 1m 27s\n",
      "880:\tlearn: 0.0076996\ttotal: 10m 45s\tremaining: 1m 27s\n",
      "881:\tlearn: 0.0076985\ttotal: 10m 46s\tremaining: 1m 26s\n",
      "882:\tlearn: 0.0076985\ttotal: 10m 47s\tremaining: 1m 25s\n",
      "883:\tlearn: 0.0076985\ttotal: 10m 47s\tremaining: 1m 25s\n",
      "884:\tlearn: 0.0076554\ttotal: 10m 48s\tremaining: 1m 24s\n",
      "885:\tlearn: 0.0076533\ttotal: 10m 49s\tremaining: 1m 23s\n",
      "886:\tlearn: 0.0076503\ttotal: 10m 50s\tremaining: 1m 22s\n",
      "887:\tlearn: 0.0076482\ttotal: 10m 50s\tremaining: 1m 22s\n",
      "888:\tlearn: 0.0075731\ttotal: 10m 51s\tremaining: 1m 21s\n",
      "889:\tlearn: 0.0075712\ttotal: 10m 52s\tremaining: 1m 20s\n",
      "890:\tlearn: 0.0075712\ttotal: 10m 52s\tremaining: 1m 19s\n",
      "891:\tlearn: 0.0075713\ttotal: 10m 53s\tremaining: 1m 19s\n",
      "892:\tlearn: 0.0075713\ttotal: 10m 54s\tremaining: 1m 18s\n",
      "893:\tlearn: 0.0075688\ttotal: 10m 55s\tremaining: 1m 17s\n",
      "894:\tlearn: 0.0075688\ttotal: 10m 55s\tremaining: 1m 16s\n",
      "895:\tlearn: 0.0075688\ttotal: 10m 56s\tremaining: 1m 16s\n",
      "896:\tlearn: 0.0075686\ttotal: 10m 57s\tremaining: 1m 15s\n",
      "897:\tlearn: 0.0075668\ttotal: 10m 58s\tremaining: 1m 14s\n",
      "898:\tlearn: 0.0075668\ttotal: 10m 58s\tremaining: 1m 14s\n",
      "899:\tlearn: 0.0075660\ttotal: 10m 59s\tremaining: 1m 13s\n",
      "900:\tlearn: 0.0075643\ttotal: 11m\tremaining: 1m 12s\n",
      "901:\tlearn: 0.0075643\ttotal: 11m 1s\tremaining: 1m 11s\n",
      "902:\tlearn: 0.0075613\ttotal: 11m 2s\tremaining: 1m 11s\n",
      "903:\tlearn: 0.0075613\ttotal: 11m 3s\tremaining: 1m 10s\n",
      "904:\tlearn: 0.0075613\ttotal: 11m 3s\tremaining: 1m 9s\n",
      "905:\tlearn: 0.0075596\ttotal: 11m 4s\tremaining: 1m 8s\n",
      "906:\tlearn: 0.0075557\ttotal: 11m 5s\tremaining: 1m 8s\n",
      "907:\tlearn: 0.0075553\ttotal: 11m 5s\tremaining: 1m 7s\n",
      "908:\tlearn: 0.0075532\ttotal: 11m 6s\tremaining: 1m 6s\n",
      "909:\tlearn: 0.0075514\ttotal: 11m 7s\tremaining: 1m 6s\n",
      "910:\tlearn: 0.0075514\ttotal: 11m 8s\tremaining: 1m 5s\n",
      "911:\tlearn: 0.0075495\ttotal: 11m 8s\tremaining: 1m 4s\n",
      "912:\tlearn: 0.0075438\ttotal: 11m 9s\tremaining: 1m 3s\n",
      "913:\tlearn: 0.0075418\ttotal: 11m 10s\tremaining: 1m 3s\n",
      "914:\tlearn: 0.0075404\ttotal: 11m 11s\tremaining: 1m 2s\n",
      "915:\tlearn: 0.0075375\ttotal: 11m 11s\tremaining: 1m 1s\n",
      "916:\tlearn: 0.0075366\ttotal: 11m 12s\tremaining: 1m\n",
      "917:\tlearn: 0.0075349\ttotal: 11m 13s\tremaining: 1m\n",
      "918:\tlearn: 0.0074711\ttotal: 11m 13s\tremaining: 59.4s\n"
     ]
    },
    {
     "name": "stdout",
     "output_type": "stream",
     "text": [
      "919:\tlearn: 0.0074676\ttotal: 11m 14s\tremaining: 58.7s\n",
      "920:\tlearn: 0.0074659\ttotal: 11m 15s\tremaining: 57.9s\n",
      "921:\tlearn: 0.0074133\ttotal: 11m 15s\tremaining: 57.2s\n",
      "922:\tlearn: 0.0074116\ttotal: 11m 16s\tremaining: 56.4s\n",
      "923:\tlearn: 0.0074097\ttotal: 11m 17s\tremaining: 55.7s\n",
      "924:\tlearn: 0.0074080\ttotal: 11m 18s\tremaining: 55s\n",
      "925:\tlearn: 0.0073903\ttotal: 11m 18s\tremaining: 54.2s\n",
      "926:\tlearn: 0.0073854\ttotal: 11m 19s\tremaining: 53.5s\n",
      "927:\tlearn: 0.0073821\ttotal: 11m 20s\tremaining: 52.8s\n",
      "928:\tlearn: 0.0073796\ttotal: 11m 20s\tremaining: 52s\n",
      "929:\tlearn: 0.0073364\ttotal: 11m 21s\tremaining: 51.3s\n",
      "930:\tlearn: 0.0073206\ttotal: 11m 22s\tremaining: 50.6s\n",
      "931:\tlearn: 0.0073180\ttotal: 11m 23s\tremaining: 49.8s\n",
      "932:\tlearn: 0.0073162\ttotal: 11m 23s\tremaining: 49.1s\n",
      "933:\tlearn: 0.0073145\ttotal: 11m 24s\tremaining: 48.4s\n",
      "934:\tlearn: 0.0072901\ttotal: 11m 25s\tremaining: 47.6s\n",
      "935:\tlearn: 0.0072901\ttotal: 11m 25s\tremaining: 46.9s\n",
      "936:\tlearn: 0.0072884\ttotal: 11m 26s\tremaining: 46.2s\n",
      "937:\tlearn: 0.0072845\ttotal: 11m 27s\tremaining: 45.4s\n",
      "938:\tlearn: 0.0072800\ttotal: 11m 28s\tremaining: 44.7s\n",
      "939:\tlearn: 0.0072800\ttotal: 11m 28s\tremaining: 44s\n",
      "940:\tlearn: 0.0072782\ttotal: 11m 29s\tremaining: 43.2s\n",
      "941:\tlearn: 0.0072765\ttotal: 11m 30s\tremaining: 42.5s\n",
      "942:\tlearn: 0.0072748\ttotal: 11m 30s\tremaining: 41.8s\n",
      "943:\tlearn: 0.0072709\ttotal: 11m 31s\tremaining: 41s\n",
      "944:\tlearn: 0.0072692\ttotal: 11m 32s\tremaining: 40.3s\n",
      "945:\tlearn: 0.0072692\ttotal: 11m 33s\tremaining: 39.6s\n",
      "946:\tlearn: 0.0072148\ttotal: 11m 33s\tremaining: 38.8s\n",
      "947:\tlearn: 0.0071936\ttotal: 11m 34s\tremaining: 38.1s\n",
      "948:\tlearn: 0.0071936\ttotal: 11m 35s\tremaining: 37.4s\n",
      "949:\tlearn: 0.0071919\ttotal: 11m 36s\tremaining: 36.6s\n",
      "950:\tlearn: 0.0071919\ttotal: 11m 36s\tremaining: 35.9s\n",
      "951:\tlearn: 0.0071689\ttotal: 11m 37s\tremaining: 35.2s\n",
      "952:\tlearn: 0.0071689\ttotal: 11m 38s\tremaining: 34.4s\n",
      "953:\tlearn: 0.0071671\ttotal: 11m 38s\tremaining: 33.7s\n",
      "954:\tlearn: 0.0071662\ttotal: 11m 39s\tremaining: 33s\n",
      "955:\tlearn: 0.0071655\ttotal: 11m 40s\tremaining: 32.2s\n",
      "956:\tlearn: 0.0071639\ttotal: 11m 41s\tremaining: 31.5s\n",
      "957:\tlearn: 0.0071638\ttotal: 11m 41s\tremaining: 30.8s\n",
      "958:\tlearn: 0.0071567\ttotal: 11m 42s\tremaining: 30s\n",
      "959:\tlearn: 0.0071560\ttotal: 11m 43s\tremaining: 29.3s\n",
      "960:\tlearn: 0.0071025\ttotal: 11m 44s\tremaining: 28.6s\n",
      "961:\tlearn: 0.0070994\ttotal: 11m 44s\tremaining: 27.8s\n",
      "962:\tlearn: 0.0070993\ttotal: 11m 45s\tremaining: 27.1s\n",
      "963:\tlearn: 0.0070976\ttotal: 11m 46s\tremaining: 26.4s\n",
      "964:\tlearn: 0.0070961\ttotal: 11m 47s\tremaining: 25.6s\n",
      "965:\tlearn: 0.0070946\ttotal: 11m 47s\tremaining: 24.9s\n",
      "966:\tlearn: 0.0070812\ttotal: 11m 48s\tremaining: 24.2s\n",
      "967:\tlearn: 0.0070794\ttotal: 11m 49s\tremaining: 23.4s\n",
      "968:\tlearn: 0.0070794\ttotal: 11m 49s\tremaining: 22.7s\n",
      "969:\tlearn: 0.0070752\ttotal: 11m 50s\tremaining: 22s\n",
      "970:\tlearn: 0.0070723\ttotal: 11m 51s\tremaining: 21.2s\n",
      "971:\tlearn: 0.0070715\ttotal: 11m 51s\tremaining: 20.5s\n",
      "972:\tlearn: 0.0070699\ttotal: 11m 52s\tremaining: 19.8s\n",
      "973:\tlearn: 0.0070485\ttotal: 11m 53s\tremaining: 19s\n",
      "974:\tlearn: 0.0070445\ttotal: 11m 54s\tremaining: 18.3s\n",
      "975:\tlearn: 0.0070428\ttotal: 11m 54s\tremaining: 17.6s\n",
      "976:\tlearn: 0.0070411\ttotal: 11m 55s\tremaining: 16.8s\n",
      "977:\tlearn: 0.0070411\ttotal: 11m 56s\tremaining: 16.1s\n",
      "978:\tlearn: 0.0070393\ttotal: 11m 56s\tremaining: 15.4s\n",
      "979:\tlearn: 0.0069890\ttotal: 11m 57s\tremaining: 14.6s\n",
      "980:\tlearn: 0.0069457\ttotal: 11m 58s\tremaining: 13.9s\n",
      "981:\tlearn: 0.0069427\ttotal: 11m 58s\tremaining: 13.2s\n",
      "982:\tlearn: 0.0069409\ttotal: 11m 59s\tremaining: 12.4s\n",
      "983:\tlearn: 0.0069166\ttotal: 12m\tremaining: 11.7s\n",
      "984:\tlearn: 0.0069151\ttotal: 12m 1s\tremaining: 11s\n",
      "985:\tlearn: 0.0069134\ttotal: 12m 1s\tremaining: 10.2s\n",
      "986:\tlearn: 0.0069117\ttotal: 12m 2s\tremaining: 9.51s\n",
      "987:\tlearn: 0.0069103\ttotal: 12m 3s\tremaining: 8.78s\n",
      "988:\tlearn: 0.0069086\ttotal: 12m 3s\tremaining: 8.05s\n",
      "989:\tlearn: 0.0069086\ttotal: 12m 4s\tremaining: 7.32s\n",
      "990:\tlearn: 0.0068554\ttotal: 12m 5s\tremaining: 6.59s\n",
      "991:\tlearn: 0.0068514\ttotal: 12m 5s\tremaining: 5.85s\n",
      "992:\tlearn: 0.0068514\ttotal: 12m 6s\tremaining: 5.12s\n",
      "993:\tlearn: 0.0068506\ttotal: 12m 7s\tremaining: 4.39s\n",
      "994:\tlearn: 0.0068470\ttotal: 12m 8s\tremaining: 3.66s\n",
      "995:\tlearn: 0.0068455\ttotal: 12m 8s\tremaining: 2.93s\n",
      "996:\tlearn: 0.0068439\ttotal: 12m 9s\tremaining: 2.19s\n",
      "997:\tlearn: 0.0068398\ttotal: 12m 10s\tremaining: 1.46s\n",
      "998:\tlearn: 0.0068381\ttotal: 12m 10s\tremaining: 732ms\n",
      "999:\tlearn: 0.0068374\ttotal: 12m 11s\tremaining: 0us\n"
     ]
    },
    {
     "data": {
      "text/plain": [
       "<catboost.core.CatBoostClassifier at 0x279d46fc910>"
      ]
     },
     "execution_count": 50,
     "metadata": {},
     "output_type": "execute_result"
    }
   ],
   "source": [
    "vectorizer = TfidfVectorizer(ngram_range=(1, 2))\n",
    "classifier = CatBoostClassifier()\n",
    "\n",
    "x_train_vec = vectorizer.fit_transform(X_train)\n",
    "x_test_vec = vectorizer.transform(X_test)\n",
    "\n",
    "classifier.fit(x_train_vec, y_train)"
   ]
  },
  {
   "cell_type": "code",
   "execution_count": 51,
   "id": "e7dbd5ec",
   "metadata": {},
   "outputs": [],
   "source": [
    "from sklearn.metrics import accuracy_score"
   ]
  },
  {
   "cell_type": "code",
   "execution_count": 52,
   "id": "04e2e3e1",
   "metadata": {},
   "outputs": [
    {
     "data": {
      "text/plain": [
       "0.9975"
      ]
     },
     "execution_count": 52,
     "metadata": {},
     "output_type": "execute_result"
    }
   ],
   "source": [
    "accuracy_score(y_true=y_test, y_pred=classifier.predict(x_test_vec))"
   ]
  },
  {
   "cell_type": "markdown",
   "id": "8a17bb3a",
   "metadata": {},
   "source": [
    "#### Сохраним результаты"
   ]
  },
  {
   "cell_type": "code",
   "execution_count": 53,
   "id": "b52c1713",
   "metadata": {},
   "outputs": [],
   "source": [
    "with open('./models/classifier_cb.pkl', 'wb') as f:\n",
    "    pickle.dump(classifier, f)"
   ]
  },
  {
   "cell_type": "markdown",
   "id": "b94fe5e7",
   "metadata": {},
   "source": [
    "### 3.3. Загрузка сохранённых объектов (опционально)"
   ]
  },
  {
   "cell_type": "code",
   "execution_count": 54,
   "id": "ffd315a8",
   "metadata": {},
   "outputs": [],
   "source": [
    "if 0:\n",
    "    with open('./models/classifier_cb.pkl', 'rb') as f:\n",
    "        classifier = pickle.load(f)"
   ]
  },
  {
   "cell_type": "markdown",
   "id": "cbd28cdc",
   "metadata": {},
   "source": [
    "## 4. Подключение чат-бота"
   ]
  },
  {
   "cell_type": "markdown",
   "id": "6560028b",
   "metadata": {},
   "source": [
    "### 4.1 Добавление базовых интентов"
   ]
  },
  {
   "cell_type": "code",
   "execution_count": 55,
   "id": "7272e354",
   "metadata": {},
   "outputs": [],
   "source": [
    "import datetime"
   ]
  },
  {
   "cell_type": "code",
   "execution_count": 56,
   "id": "4f0004f8",
   "metadata": {},
   "outputs": [],
   "source": [
    "set_1 = set(['спасибо', 'пока'])\n",
    "set_2 = set(['час', 'время'])"
   ]
  },
  {
   "cell_type": "code",
   "execution_count": 57,
   "id": "a64f02f0",
   "metadata": {},
   "outputs": [],
   "source": [
    "def check_base_intent(input_txt):\n",
    "    if set_1.intersection(set(input_txt)):\n",
    "        return 'Обращайтесь, всегда готов помочь!'\n",
    "    elif set_2.intersection(set(input_txt)):\n",
    "        return datetime.datetime.now().strftime(\"%d-%m-%Y %H:%M\")\n",
    "    else:\n",
    "        return None"
   ]
  },
  {
   "cell_type": "markdown",
   "id": "881ca107",
   "metadata": {},
   "source": [
    "### 4.2. Проверка работы функции"
   ]
  },
  {
   "cell_type": "code",
   "execution_count": 58,
   "id": "86265d0b",
   "metadata": {},
   "outputs": [],
   "source": [
    "def get_speaker_answer(input_txt, var_count=1):\n",
    "    input_txt = preprocess_text(input_txt, keep_pos=False)\n",
    "    vect_ft = embed_txt(input_txt, {}, 1)\n",
    "    ft_index_val, distances = ft_index.get_nns_by_vector(vect_ft, var_count, include_distances=True)\n",
    "    if distances[0] > 0.35:\n",
    "        return \"Моя твоя не понимать\"\n",
    "    return index_map[np.random.choice(ft_index_val)]"
   ]
  },
  {
   "cell_type": "code",
   "execution_count": 59,
   "id": "cd14d76e",
   "metadata": {},
   "outputs": [],
   "source": [
    "def textMessage(text):\n",
    "    input_txt = preprocess_text(text, keep_pos=False)\n",
    "    print(f'Предобработанная последовательность:\\n{input_txt}')\n",
    "    \n",
    "    base_answer = check_base_intent(input_txt)\n",
    "    if base_answer:\n",
    "        print(f'Базовый интент')\n",
    "        print(f'{base_answer}')\n",
    "        return\n",
    "    \n",
    "    vect = vectorizer.transform([\" \".join(input_txt)])\n",
    "    prediction = classifier.predict(vect)\n",
    "    predict_pr = classifier.predict_proba(vect)\n",
    "    print(f'Предсказание классификатора:\\n{prediction}')\n",
    "    print(f'Вероятности:\\n{predict_pr}')\n",
    "    print(f'Ответ чат-бота:')\n",
    "    if prediction == 0:\n",
    "        print(f'{get_speaker_answer(text)}')\n",
    "        return\n",
    "\n",
    "    gpt_generate(text)\n",
    "    return"
   ]
  },
  {
   "cell_type": "code",
   "execution_count": 60,
   "id": "9bba8d13",
   "metadata": {},
   "outputs": [
    {
     "name": "stdout",
     "output_type": "stream",
     "text": [
      "Предобработанная последовательность:\n",
      "['где', 'можно', 'отлично', 'отдыхать']\n",
      "Предсказание классификатора:\n",
      "[0.]\n",
      "Вероятности:\n",
      "[[0.99665022 0.00334978]]\n",
      "Ответ чат-бота:\n",
      "на хорошей работе !!!. \n",
      "\n"
     ]
    }
   ],
   "source": [
    "textMessage('Где можно отлично отдохнуть?')"
   ]
  },
  {
   "cell_type": "code",
   "execution_count": 61,
   "id": "94504d1d",
   "metadata": {},
   "outputs": [
    {
     "name": "stdout",
     "output_type": "stream",
     "text": [
      "Предобработанная последовательность:\n",
      "['хотеться', 'салат', 'из', 'помидор', 'с', 'сыр', 'быть', 'рецепт']\n",
      "Предсказание классификатора:\n",
      "[0.]\n",
      "Вероятности:\n",
      "[[0.99665022 0.00334978]]\n",
      "Ответ чат-бота:\n",
      "Для приготовления пирога из лаваша с мясом, сыром и помидорами черри обжарьте 500 грамм любого фарша, можно по вкусу добавить лук или чеснок. Смажьте форму для пирога сливочным маслом. Выложите на дно лаваш, так, чтобы его края заходили на бортики формы. Если лаваш тонкий, можно положить несколько слоев. Затем на лаваш выложите обжаренный фарш, сверху порезанные на половинки помидоры черри. Посыпьте пирог тертым твердым сыром и отправьте запекаться на 15-20 минут в духовку, на температуре 180 градусов Цельсия.. \n",
      "\n"
     ]
    }
   ],
   "source": [
    "textMessage('Хочется салат из помидор с сыром, есть рецепт?')"
   ]
  },
  {
   "cell_type": "code",
   "execution_count": 62,
   "id": "282f7e68",
   "metadata": {},
   "outputs": [
    {
     "name": "stdout",
     "output_type": "stream",
     "text": [
      "Предобработанная последовательность:\n",
      "['брать', 'сахар', 'масло', 'мука', 'яйцо', 'как', 'испекать', 'торт']\n",
      "Предсказание классификатора:\n",
      "[0.]\n",
      "Вероятности:\n",
      "[[0.99665022 0.00334978]]\n",
      "Ответ чат-бота:\n",
      "Моя твоя не понимать\n"
     ]
    }
   ],
   "source": [
    "textMessage('Беру сахар, масло, муку, яйца. Как испечь торт?')"
   ]
  },
  {
   "cell_type": "code",
   "execution_count": 63,
   "id": "9aa5a3cf",
   "metadata": {},
   "outputs": [
    {
     "name": "stdout",
     "output_type": "stream",
     "text": [
      "Предобработанная последовательность:\n",
      "['сколько', 'время']\n",
      "Базовый интент\n",
      "08-08-2022 17:44\n"
     ]
    }
   ],
   "source": [
    "textMessage('Сколько время?')"
   ]
  },
  {
   "cell_type": "code",
   "execution_count": 64,
   "id": "2dd88b69",
   "metadata": {},
   "outputs": [
    {
     "name": "stdout",
     "output_type": "stream",
     "text": [
      "Предобработанная последовательность:\n",
      "['который', 'час']\n",
      "Базовый интент\n",
      "08-08-2022 17:44\n"
     ]
    }
   ],
   "source": [
    "textMessage('Который час?')"
   ]
  },
  {
   "cell_type": "code",
   "execution_count": 65,
   "id": "30fe0bf1",
   "metadata": {},
   "outputs": [
    {
     "name": "stdout",
     "output_type": "stream",
     "text": [
      "Предобработанная последовательность:\n",
      "['спасибо', 'быть', 'здоровый']\n",
      "Базовый интент\n",
      "Обращайтесь, всегда готов помочь!\n"
     ]
    }
   ],
   "source": [
    "textMessage('Спасибо, будь здоров')"
   ]
  },
  {
   "cell_type": "markdown",
   "id": "44fac88e",
   "metadata": {},
   "source": [
    "Похоже в примерах текстов, на которых обучалась \"болталка\", есть немало рецептов, или текстов о продуктах. Потому классификатор не очень хорошо детектирует интент шеф-повара."
   ]
  },
  {
   "cell_type": "markdown",
   "id": "240bb4d8",
   "metadata": {},
   "source": [
    "### 4.3. Чат-бот"
   ]
  },
  {
   "cell_type": "markdown",
   "id": "d0d8fa41",
   "metadata": {},
   "source": [
    "Технической возможности запуска бота к сожалению нет, согласно материалам консультаций должно работать как-то так:"
   ]
  },
  {
   "cell_type": "code",
   "execution_count": 66,
   "id": "54629830",
   "metadata": {},
   "outputs": [],
   "source": [
    "import os\n",
    "import logging\n",
    "from telegram import Update\n",
    "from telegram.ext import Updater, CommandHandler, MessageHandler, Filters, CallbackContext"
   ]
  },
  {
   "cell_type": "code",
   "execution_count": 67,
   "id": "b40cbc1a",
   "metadata": {},
   "outputs": [],
   "source": [
    "updater = Updater(token='1058946299:AAFn0ESsBoqdzscvF-tYo0wcZvAUS_iJMCw') # Токен API к Telegram\n",
    "dispatcher = updater.dispatcher"
   ]
  },
  {
   "cell_type": "code",
   "execution_count": 68,
   "id": "7f884948",
   "metadata": {},
   "outputs": [],
   "source": [
    "def startCommand(update: Update, context: CallbackContext):\n",
    "    update.message.reply_text('Привет! Я бот шеф-повар. Расскажу рецепт, могу просто поболтать ни о чём.')\n",
    "\n",
    "def textMessage(update: Update, context: CallbackContext):\n",
    "    input_txt = preprocess_text(update.message.text, keep_pos=False)\n",
    "    \n",
    "    base_answer = check_base_intent(input_txt)\n",
    "    if base_answer:\n",
    "        update.message.reply_text(base_answer)\n",
    "        return\n",
    "    \n",
    "    vect = vectorizer.transform([\" \".join(input_txt)])\n",
    "    prediction = classifier.predict(vect)\n",
    "    if prediction == 0:\n",
    "        update.message.reply_text(get_speaker_answer(text))\n",
    "        return\n",
    "\n",
    "    update.message.reply_text(gpt_generate(update.message.text))\n",
    "    return"
   ]
  },
  {
   "cell_type": "code",
   "execution_count": 69,
   "id": "b6bc9060",
   "metadata": {},
   "outputs": [
    {
     "name": "stderr",
     "output_type": "stream",
     "text": [
      "C:\\Users\\Kartsev.ES\\AppData\\Local\\Temp/ipykernel_48336/2364210538.py:5: TelegramDeprecationWarning: The argument `clean` of `start_polling` is deprecated. Please use `drop_pending_updates` instead.\n",
      "  updater.start_polling(clean=True)\n"
     ]
    },
    {
     "ename": "NetworkError",
     "evalue": "urllib3 HTTPError HTTPSConnectionPool(host='api.telegram.org', port=443): Max retries exceeded with url: /bot1058946299:AAFn0ESsBoqdzscvF-tYo0wcZvAUS_iJMCw/getMe (Caused by ConnectTimeoutError(<telegram.vendor.ptb_urllib3.urllib3.connection.VerifiedHTTPSConnection object at 0x000001F1839686A0>, 'Connection to api.telegram.org timed out. (connect timeout=5.0)'))",
     "output_type": "error",
     "traceback": [
      "\u001b[1;31m---------------------------------------------------------------------------\u001b[0m",
      "\u001b[1;31mtimeout\u001b[0m                                   Traceback (most recent call last)",
      "\u001b[1;32m~\\Anaconda3\\lib\\site-packages\\telegram\\vendor\\ptb_urllib3\\urllib3\\connection.py\u001b[0m in \u001b[0;36m_new_conn\u001b[1;34m(self)\u001b[0m\n\u001b[0;32m    139\u001b[0m         \u001b[1;32mtry\u001b[0m\u001b[1;33m:\u001b[0m\u001b[1;33m\u001b[0m\u001b[1;33m\u001b[0m\u001b[0m\n\u001b[1;32m--> 140\u001b[1;33m             conn = connection.create_connection(\n\u001b[0m\u001b[0;32m    141\u001b[0m                 (self.host, self.port), self.timeout, **extra_kw)\n",
      "\u001b[1;32m~\\Anaconda3\\lib\\site-packages\\telegram\\vendor\\ptb_urllib3\\urllib3\\util\\connection.py\u001b[0m in \u001b[0;36mcreate_connection\u001b[1;34m(address, timeout, source_address, socket_options)\u001b[0m\n\u001b[0;32m     82\u001b[0m     \u001b[1;32mif\u001b[0m \u001b[0merr\u001b[0m \u001b[1;32mis\u001b[0m \u001b[1;32mnot\u001b[0m \u001b[1;32mNone\u001b[0m\u001b[1;33m:\u001b[0m\u001b[1;33m\u001b[0m\u001b[1;33m\u001b[0m\u001b[0m\n\u001b[1;32m---> 83\u001b[1;33m         \u001b[1;32mraise\u001b[0m \u001b[0merr\u001b[0m\u001b[1;33m\u001b[0m\u001b[1;33m\u001b[0m\u001b[0m\n\u001b[0m\u001b[0;32m     84\u001b[0m \u001b[1;33m\u001b[0m\u001b[0m\n",
      "\u001b[1;32m~\\Anaconda3\\lib\\site-packages\\telegram\\vendor\\ptb_urllib3\\urllib3\\util\\connection.py\u001b[0m in \u001b[0;36mcreate_connection\u001b[1;34m(address, timeout, source_address, socket_options)\u001b[0m\n\u001b[0;32m     72\u001b[0m                 \u001b[0msock\u001b[0m\u001b[1;33m.\u001b[0m\u001b[0mbind\u001b[0m\u001b[1;33m(\u001b[0m\u001b[0msource_address\u001b[0m\u001b[1;33m)\u001b[0m\u001b[1;33m\u001b[0m\u001b[1;33m\u001b[0m\u001b[0m\n\u001b[1;32m---> 73\u001b[1;33m             \u001b[0msock\u001b[0m\u001b[1;33m.\u001b[0m\u001b[0mconnect\u001b[0m\u001b[1;33m(\u001b[0m\u001b[0msa\u001b[0m\u001b[1;33m)\u001b[0m\u001b[1;33m\u001b[0m\u001b[1;33m\u001b[0m\u001b[0m\n\u001b[0m\u001b[0;32m     74\u001b[0m             \u001b[1;32mreturn\u001b[0m \u001b[0msock\u001b[0m\u001b[1;33m\u001b[0m\u001b[1;33m\u001b[0m\u001b[0m\n",
      "\u001b[1;31mtimeout\u001b[0m: timed out",
      "\nDuring handling of the above exception, another exception occurred:\n",
      "\u001b[1;31mConnectTimeoutError\u001b[0m                       Traceback (most recent call last)",
      "\u001b[1;32m~\\Anaconda3\\lib\\site-packages\\telegram\\vendor\\ptb_urllib3\\urllib3\\connectionpool.py\u001b[0m in \u001b[0;36murlopen\u001b[1;34m(self, method, url, body, headers, retries, redirect, assert_same_host, timeout, pool_timeout, release_conn, chunked, body_pos, **response_kw)\u001b[0m\n\u001b[0;32m    613\u001b[0m             \u001b[1;31m# Make the request on the httplib connection object.\u001b[0m\u001b[1;33m\u001b[0m\u001b[1;33m\u001b[0m\u001b[1;33m\u001b[0m\u001b[0m\n\u001b[1;32m--> 614\u001b[1;33m             httplib_response = self._make_request(conn, method, url,\n\u001b[0m\u001b[0;32m    615\u001b[0m                                                   \u001b[0mtimeout\u001b[0m\u001b[1;33m=\u001b[0m\u001b[0mtimeout_obj\u001b[0m\u001b[1;33m,\u001b[0m\u001b[1;33m\u001b[0m\u001b[1;33m\u001b[0m\u001b[0m\n",
      "\u001b[1;32m~\\Anaconda3\\lib\\site-packages\\telegram\\vendor\\ptb_urllib3\\urllib3\\connectionpool.py\u001b[0m in \u001b[0;36m_make_request\u001b[1;34m(self, conn, method, url, timeout, chunked, **httplib_request_kw)\u001b[0m\n\u001b[0;32m    359\u001b[0m         \u001b[1;32mtry\u001b[0m\u001b[1;33m:\u001b[0m\u001b[1;33m\u001b[0m\u001b[1;33m\u001b[0m\u001b[0m\n\u001b[1;32m--> 360\u001b[1;33m             \u001b[0mself\u001b[0m\u001b[1;33m.\u001b[0m\u001b[0m_validate_conn\u001b[0m\u001b[1;33m(\u001b[0m\u001b[0mconn\u001b[0m\u001b[1;33m)\u001b[0m\u001b[1;33m\u001b[0m\u001b[1;33m\u001b[0m\u001b[0m\n\u001b[0m\u001b[0;32m    361\u001b[0m         \u001b[1;32mexcept\u001b[0m \u001b[1;33m(\u001b[0m\u001b[0mSocketTimeout\u001b[0m\u001b[1;33m,\u001b[0m \u001b[0mBaseSSLError\u001b[0m\u001b[1;33m)\u001b[0m \u001b[1;32mas\u001b[0m \u001b[0me\u001b[0m\u001b[1;33m:\u001b[0m\u001b[1;33m\u001b[0m\u001b[1;33m\u001b[0m\u001b[0m\n",
      "\u001b[1;32m~\\Anaconda3\\lib\\site-packages\\telegram\\vendor\\ptb_urllib3\\urllib3\\connectionpool.py\u001b[0m in \u001b[0;36m_validate_conn\u001b[1;34m(self, conn)\u001b[0m\n\u001b[0;32m    856\u001b[0m         \"\"\"\n\u001b[1;32m--> 857\u001b[1;33m         \u001b[0msuper\u001b[0m\u001b[1;33m(\u001b[0m\u001b[0mHTTPSConnectionPool\u001b[0m\u001b[1;33m,\u001b[0m \u001b[0mself\u001b[0m\u001b[1;33m)\u001b[0m\u001b[1;33m.\u001b[0m\u001b[0m_validate_conn\u001b[0m\u001b[1;33m(\u001b[0m\u001b[0mconn\u001b[0m\u001b[1;33m)\u001b[0m\u001b[1;33m\u001b[0m\u001b[1;33m\u001b[0m\u001b[0m\n\u001b[0m\u001b[0;32m    858\u001b[0m \u001b[1;33m\u001b[0m\u001b[0m\n",
      "\u001b[1;32m~\\Anaconda3\\lib\\site-packages\\telegram\\vendor\\ptb_urllib3\\urllib3\\connectionpool.py\u001b[0m in \u001b[0;36m_validate_conn\u001b[1;34m(self, conn)\u001b[0m\n\u001b[0;32m    288\u001b[0m         \u001b[1;32mif\u001b[0m \u001b[1;32mnot\u001b[0m \u001b[0mgetattr\u001b[0m\u001b[1;33m(\u001b[0m\u001b[0mconn\u001b[0m\u001b[1;33m,\u001b[0m \u001b[1;34m'sock'\u001b[0m\u001b[1;33m,\u001b[0m \u001b[1;32mNone\u001b[0m\u001b[1;33m)\u001b[0m\u001b[1;33m:\u001b[0m  \u001b[1;31m# AppEngine might not have  `.sock`\u001b[0m\u001b[1;33m\u001b[0m\u001b[1;33m\u001b[0m\u001b[0m\n\u001b[1;32m--> 289\u001b[1;33m             \u001b[0mconn\u001b[0m\u001b[1;33m.\u001b[0m\u001b[0mconnect\u001b[0m\u001b[1;33m(\u001b[0m\u001b[1;33m)\u001b[0m\u001b[1;33m\u001b[0m\u001b[1;33m\u001b[0m\u001b[0m\n\u001b[0m\u001b[0;32m    290\u001b[0m \u001b[1;33m\u001b[0m\u001b[0m\n",
      "\u001b[1;32m~\\Anaconda3\\lib\\site-packages\\telegram\\vendor\\ptb_urllib3\\urllib3\\connection.py\u001b[0m in \u001b[0;36mconnect\u001b[1;34m(self)\u001b[0m\n\u001b[0;32m    283\u001b[0m         \u001b[1;31m# Add certificate verification\u001b[0m\u001b[1;33m\u001b[0m\u001b[1;33m\u001b[0m\u001b[1;33m\u001b[0m\u001b[0m\n\u001b[1;32m--> 284\u001b[1;33m         \u001b[0mconn\u001b[0m \u001b[1;33m=\u001b[0m \u001b[0mself\u001b[0m\u001b[1;33m.\u001b[0m\u001b[0m_new_conn\u001b[0m\u001b[1;33m(\u001b[0m\u001b[1;33m)\u001b[0m\u001b[1;33m\u001b[0m\u001b[1;33m\u001b[0m\u001b[0m\n\u001b[0m\u001b[0;32m    285\u001b[0m \u001b[1;33m\u001b[0m\u001b[0m\n",
      "\u001b[1;32m~\\Anaconda3\\lib\\site-packages\\telegram\\vendor\\ptb_urllib3\\urllib3\\connection.py\u001b[0m in \u001b[0;36m_new_conn\u001b[1;34m(self)\u001b[0m\n\u001b[0;32m    143\u001b[0m         \u001b[1;32mexcept\u001b[0m \u001b[0mSocketTimeout\u001b[0m \u001b[1;32mas\u001b[0m \u001b[0me\u001b[0m\u001b[1;33m:\u001b[0m\u001b[1;33m\u001b[0m\u001b[1;33m\u001b[0m\u001b[0m\n\u001b[1;32m--> 144\u001b[1;33m             raise ConnectTimeoutError(\n\u001b[0m\u001b[0;32m    145\u001b[0m                 \u001b[0mself\u001b[0m\u001b[1;33m,\u001b[0m \u001b[1;34m\"Connection to %s timed out. (connect timeout=%s)\"\u001b[0m \u001b[1;33m%\u001b[0m\u001b[1;33m\u001b[0m\u001b[1;33m\u001b[0m\u001b[0m\n",
      "\u001b[1;31mConnectTimeoutError\u001b[0m: (<telegram.vendor.ptb_urllib3.urllib3.connection.VerifiedHTTPSConnection object at 0x000001F1839686A0>, 'Connection to api.telegram.org timed out. (connect timeout=5.0)')",
      "\nDuring handling of the above exception, another exception occurred:\n",
      "\u001b[1;31mMaxRetryError\u001b[0m                             Traceback (most recent call last)",
      "\u001b[1;32m~\\Anaconda3\\lib\\site-packages\\telegram\\utils\\request.py\u001b[0m in \u001b[0;36m_request_wrapper\u001b[1;34m(self, *args, **kwargs)\u001b[0m\n\u001b[0;32m    258\u001b[0m         \u001b[1;32mtry\u001b[0m\u001b[1;33m:\u001b[0m\u001b[1;33m\u001b[0m\u001b[1;33m\u001b[0m\u001b[0m\n\u001b[1;32m--> 259\u001b[1;33m             \u001b[0mresp\u001b[0m \u001b[1;33m=\u001b[0m \u001b[0mself\u001b[0m\u001b[1;33m.\u001b[0m\u001b[0m_con_pool\u001b[0m\u001b[1;33m.\u001b[0m\u001b[0mrequest\u001b[0m\u001b[1;33m(\u001b[0m\u001b[1;33m*\u001b[0m\u001b[0margs\u001b[0m\u001b[1;33m,\u001b[0m \u001b[1;33m**\u001b[0m\u001b[0mkwargs\u001b[0m\u001b[1;33m)\u001b[0m\u001b[1;33m\u001b[0m\u001b[1;33m\u001b[0m\u001b[0m\n\u001b[0m\u001b[0;32m    260\u001b[0m         \u001b[1;32mexcept\u001b[0m \u001b[0murllib3\u001b[0m\u001b[1;33m.\u001b[0m\u001b[0mexceptions\u001b[0m\u001b[1;33m.\u001b[0m\u001b[0mTimeoutError\u001b[0m \u001b[1;32mas\u001b[0m \u001b[0merror\u001b[0m\u001b[1;33m:\u001b[0m\u001b[1;33m\u001b[0m\u001b[1;33m\u001b[0m\u001b[0m\n",
      "\u001b[1;32m~\\Anaconda3\\lib\\site-packages\\telegram\\vendor\\ptb_urllib3\\urllib3\\request.py\u001b[0m in \u001b[0;36mrequest\u001b[1;34m(self, method, url, fields, headers, **urlopen_kw)\u001b[0m\n\u001b[0;32m     67\u001b[0m         \u001b[1;32melse\u001b[0m\u001b[1;33m:\u001b[0m\u001b[1;33m\u001b[0m\u001b[1;33m\u001b[0m\u001b[0m\n\u001b[1;32m---> 68\u001b[1;33m             return self.request_encode_body(method, url, fields=fields,\n\u001b[0m\u001b[0;32m     69\u001b[0m                                             \u001b[0mheaders\u001b[0m\u001b[1;33m=\u001b[0m\u001b[0mheaders\u001b[0m\u001b[1;33m,\u001b[0m\u001b[1;33m\u001b[0m\u001b[1;33m\u001b[0m\u001b[0m\n",
      "\u001b[1;32m~\\Anaconda3\\lib\\site-packages\\telegram\\vendor\\ptb_urllib3\\urllib3\\request.py\u001b[0m in \u001b[0;36mrequest_encode_body\u001b[1;34m(self, method, url, fields, headers, encode_multipart, multipart_boundary, **urlopen_kw)\u001b[0m\n\u001b[0;32m    147\u001b[0m \u001b[1;33m\u001b[0m\u001b[0m\n\u001b[1;32m--> 148\u001b[1;33m         \u001b[1;32mreturn\u001b[0m \u001b[0mself\u001b[0m\u001b[1;33m.\u001b[0m\u001b[0murlopen\u001b[0m\u001b[1;33m(\u001b[0m\u001b[0mmethod\u001b[0m\u001b[1;33m,\u001b[0m \u001b[0murl\u001b[0m\u001b[1;33m,\u001b[0m \u001b[1;33m**\u001b[0m\u001b[0mextra_kw\u001b[0m\u001b[1;33m)\u001b[0m\u001b[1;33m\u001b[0m\u001b[1;33m\u001b[0m\u001b[0m\n\u001b[0m",
      "\u001b[1;32m~\\Anaconda3\\lib\\site-packages\\telegram\\vendor\\ptb_urllib3\\urllib3\\poolmanager.py\u001b[0m in \u001b[0;36murlopen\u001b[1;34m(self, method, url, redirect, **kw)\u001b[0m\n\u001b[0;32m    243\u001b[0m         \u001b[1;32melse\u001b[0m\u001b[1;33m:\u001b[0m\u001b[1;33m\u001b[0m\u001b[1;33m\u001b[0m\u001b[0m\n\u001b[1;32m--> 244\u001b[1;33m             \u001b[0mresponse\u001b[0m \u001b[1;33m=\u001b[0m \u001b[0mconn\u001b[0m\u001b[1;33m.\u001b[0m\u001b[0murlopen\u001b[0m\u001b[1;33m(\u001b[0m\u001b[0mmethod\u001b[0m\u001b[1;33m,\u001b[0m \u001b[0mu\u001b[0m\u001b[1;33m.\u001b[0m\u001b[0mrequest_uri\u001b[0m\u001b[1;33m,\u001b[0m \u001b[1;33m**\u001b[0m\u001b[0mkw\u001b[0m\u001b[1;33m)\u001b[0m\u001b[1;33m\u001b[0m\u001b[1;33m\u001b[0m\u001b[0m\n\u001b[0m\u001b[0;32m    245\u001b[0m \u001b[1;33m\u001b[0m\u001b[0m\n",
      "\u001b[1;32m~\\Anaconda3\\lib\\site-packages\\telegram\\vendor\\ptb_urllib3\\urllib3\\connectionpool.py\u001b[0m in \u001b[0;36murlopen\u001b[1;34m(self, method, url, body, headers, retries, redirect, assert_same_host, timeout, pool_timeout, release_conn, chunked, body_pos, **response_kw)\u001b[0m\n\u001b[0;32m    690\u001b[0m                         \"broken by '%r': %s\", retries, err, url)\n\u001b[1;32m--> 691\u001b[1;33m             return self.urlopen(method, url, body, headers, retries,\n\u001b[0m\u001b[0;32m    692\u001b[0m                                 \u001b[0mredirect\u001b[0m\u001b[1;33m,\u001b[0m \u001b[0massert_same_host\u001b[0m\u001b[1;33m,\u001b[0m\u001b[1;33m\u001b[0m\u001b[1;33m\u001b[0m\u001b[0m\n",
      "\u001b[1;32m~\\Anaconda3\\lib\\site-packages\\telegram\\vendor\\ptb_urllib3\\urllib3\\connectionpool.py\u001b[0m in \u001b[0;36murlopen\u001b[1;34m(self, method, url, body, headers, retries, redirect, assert_same_host, timeout, pool_timeout, release_conn, chunked, body_pos, **response_kw)\u001b[0m\n\u001b[0;32m    690\u001b[0m                         \"broken by '%r': %s\", retries, err, url)\n\u001b[1;32m--> 691\u001b[1;33m             return self.urlopen(method, url, body, headers, retries,\n\u001b[0m\u001b[0;32m    692\u001b[0m                                 \u001b[0mredirect\u001b[0m\u001b[1;33m,\u001b[0m \u001b[0massert_same_host\u001b[0m\u001b[1;33m,\u001b[0m\u001b[1;33m\u001b[0m\u001b[1;33m\u001b[0m\u001b[0m\n",
      "\u001b[1;32m~\\Anaconda3\\lib\\site-packages\\telegram\\vendor\\ptb_urllib3\\urllib3\\connectionpool.py\u001b[0m in \u001b[0;36murlopen\u001b[1;34m(self, method, url, body, headers, retries, redirect, assert_same_host, timeout, pool_timeout, release_conn, chunked, body_pos, **response_kw)\u001b[0m\n\u001b[0;32m    690\u001b[0m                         \"broken by '%r': %s\", retries, err, url)\n\u001b[1;32m--> 691\u001b[1;33m             return self.urlopen(method, url, body, headers, retries,\n\u001b[0m\u001b[0;32m    692\u001b[0m                                 \u001b[0mredirect\u001b[0m\u001b[1;33m,\u001b[0m \u001b[0massert_same_host\u001b[0m\u001b[1;33m,\u001b[0m\u001b[1;33m\u001b[0m\u001b[1;33m\u001b[0m\u001b[0m\n",
      "\u001b[1;32m~\\Anaconda3\\lib\\site-packages\\telegram\\vendor\\ptb_urllib3\\urllib3\\connectionpool.py\u001b[0m in \u001b[0;36murlopen\u001b[1;34m(self, method, url, body, headers, retries, redirect, assert_same_host, timeout, pool_timeout, release_conn, chunked, body_pos, **response_kw)\u001b[0m\n\u001b[0;32m    664\u001b[0m \u001b[1;33m\u001b[0m\u001b[0m\n\u001b[1;32m--> 665\u001b[1;33m             retries = retries.increment(method, url, error=e, _pool=self,\n\u001b[0m\u001b[0;32m    666\u001b[0m                                         _stacktrace=sys.exc_info()[2])\n",
      "\u001b[1;32m~\\Anaconda3\\lib\\site-packages\\telegram\\vendor\\ptb_urllib3\\urllib3\\util\\retry.py\u001b[0m in \u001b[0;36mincrement\u001b[1;34m(self, method, url, response, error, _pool, _stacktrace)\u001b[0m\n\u001b[0;32m    375\u001b[0m         \u001b[1;32mif\u001b[0m \u001b[0mnew_retry\u001b[0m\u001b[1;33m.\u001b[0m\u001b[0mis_exhausted\u001b[0m\u001b[1;33m(\u001b[0m\u001b[1;33m)\u001b[0m\u001b[1;33m:\u001b[0m\u001b[1;33m\u001b[0m\u001b[1;33m\u001b[0m\u001b[0m\n\u001b[1;32m--> 376\u001b[1;33m             \u001b[1;32mraise\u001b[0m \u001b[0mMaxRetryError\u001b[0m\u001b[1;33m(\u001b[0m\u001b[0m_pool\u001b[0m\u001b[1;33m,\u001b[0m \u001b[0murl\u001b[0m\u001b[1;33m,\u001b[0m \u001b[0merror\u001b[0m \u001b[1;32mor\u001b[0m \u001b[0mResponseError\u001b[0m\u001b[1;33m(\u001b[0m\u001b[0mcause\u001b[0m\u001b[1;33m)\u001b[0m\u001b[1;33m)\u001b[0m\u001b[1;33m\u001b[0m\u001b[1;33m\u001b[0m\u001b[0m\n\u001b[0m\u001b[0;32m    377\u001b[0m \u001b[1;33m\u001b[0m\u001b[0m\n",
      "\u001b[1;31mMaxRetryError\u001b[0m: HTTPSConnectionPool(host='api.telegram.org', port=443): Max retries exceeded with url: /bot1058946299:AAFn0ESsBoqdzscvF-tYo0wcZvAUS_iJMCw/getMe (Caused by ConnectTimeoutError(<telegram.vendor.ptb_urllib3.urllib3.connection.VerifiedHTTPSConnection object at 0x000001F1839686A0>, 'Connection to api.telegram.org timed out. (connect timeout=5.0)'))",
      "\nThe above exception was the direct cause of the following exception:\n",
      "\u001b[1;31mNetworkError\u001b[0m                              Traceback (most recent call last)",
      "\u001b[1;32m~\\AppData\\Local\\Temp/ipykernel_48336/2364210538.py\u001b[0m in \u001b[0;36m<module>\u001b[1;34m\u001b[0m\n\u001b[0;32m      3\u001b[0m \u001b[0mdispatcher\u001b[0m\u001b[1;33m.\u001b[0m\u001b[0madd_handler\u001b[0m\u001b[1;33m(\u001b[0m\u001b[0mstart_command_handler\u001b[0m\u001b[1;33m)\u001b[0m\u001b[1;33m\u001b[0m\u001b[1;33m\u001b[0m\u001b[0m\n\u001b[0;32m      4\u001b[0m \u001b[0mdispatcher\u001b[0m\u001b[1;33m.\u001b[0m\u001b[0madd_handler\u001b[0m\u001b[1;33m(\u001b[0m\u001b[0mtext_message_handler\u001b[0m\u001b[1;33m)\u001b[0m\u001b[1;33m\u001b[0m\u001b[1;33m\u001b[0m\u001b[0m\n\u001b[1;32m----> 5\u001b[1;33m \u001b[0mupdater\u001b[0m\u001b[1;33m.\u001b[0m\u001b[0mstart_polling\u001b[0m\u001b[1;33m(\u001b[0m\u001b[0mclean\u001b[0m\u001b[1;33m=\u001b[0m\u001b[1;32mTrue\u001b[0m\u001b[1;33m)\u001b[0m\u001b[1;33m\u001b[0m\u001b[1;33m\u001b[0m\u001b[0m\n\u001b[0m\u001b[0;32m      6\u001b[0m \u001b[0mupdater\u001b[0m\u001b[1;33m.\u001b[0m\u001b[0midle\u001b[0m\u001b[1;33m(\u001b[0m\u001b[1;33m)\u001b[0m\u001b[1;33m\u001b[0m\u001b[1;33m\u001b[0m\u001b[0m\n",
      "\u001b[1;32m~\\Anaconda3\\lib\\site-packages\\telegram\\ext\\updater.py\u001b[0m in \u001b[0;36mstart_polling\u001b[1;34m(self, poll_interval, timeout, clean, bootstrap_retries, read_latency, allowed_updates, drop_pending_updates)\u001b[0m\n\u001b[0;32m    420\u001b[0m                 \u001b[0mdispatcher_ready\u001b[0m \u001b[1;33m=\u001b[0m \u001b[0mEvent\u001b[0m\u001b[1;33m(\u001b[0m\u001b[1;33m)\u001b[0m\u001b[1;33m\u001b[0m\u001b[1;33m\u001b[0m\u001b[0m\n\u001b[0;32m    421\u001b[0m                 \u001b[0mpolling_ready\u001b[0m \u001b[1;33m=\u001b[0m \u001b[0mEvent\u001b[0m\u001b[1;33m(\u001b[0m\u001b[1;33m)\u001b[0m\u001b[1;33m\u001b[0m\u001b[1;33m\u001b[0m\u001b[0m\n\u001b[1;32m--> 422\u001b[1;33m                 \u001b[0mself\u001b[0m\u001b[1;33m.\u001b[0m\u001b[0m_init_thread\u001b[0m\u001b[1;33m(\u001b[0m\u001b[0mself\u001b[0m\u001b[1;33m.\u001b[0m\u001b[0mdispatcher\u001b[0m\u001b[1;33m.\u001b[0m\u001b[0mstart\u001b[0m\u001b[1;33m,\u001b[0m \u001b[1;34m\"dispatcher\"\u001b[0m\u001b[1;33m,\u001b[0m \u001b[0mready\u001b[0m\u001b[1;33m=\u001b[0m\u001b[0mdispatcher_ready\u001b[0m\u001b[1;33m)\u001b[0m\u001b[1;33m\u001b[0m\u001b[1;33m\u001b[0m\u001b[0m\n\u001b[0m\u001b[0;32m    423\u001b[0m                 self._init_thread(\n\u001b[0;32m    424\u001b[0m                     \u001b[0mself\u001b[0m\u001b[1;33m.\u001b[0m\u001b[0m_start_polling\u001b[0m\u001b[1;33m,\u001b[0m\u001b[1;33m\u001b[0m\u001b[1;33m\u001b[0m\u001b[0m\n",
      "\u001b[1;32m~\\Anaconda3\\lib\\site-packages\\telegram\\ext\\updater.py\u001b[0m in \u001b[0;36m_init_thread\u001b[1;34m(self, target, name, *args, **kwargs)\u001b[0m\n\u001b[0;32m    340\u001b[0m         thr = Thread(\n\u001b[0;32m    341\u001b[0m             \u001b[0mtarget\u001b[0m\u001b[1;33m=\u001b[0m\u001b[0mself\u001b[0m\u001b[1;33m.\u001b[0m\u001b[0m_thread_wrapper\u001b[0m\u001b[1;33m,\u001b[0m\u001b[1;33m\u001b[0m\u001b[1;33m\u001b[0m\u001b[0m\n\u001b[1;32m--> 342\u001b[1;33m             \u001b[0mname\u001b[0m\u001b[1;33m=\u001b[0m\u001b[1;34mf\"Bot:{self.bot.id}:{name}\"\u001b[0m\u001b[1;33m,\u001b[0m\u001b[1;33m\u001b[0m\u001b[1;33m\u001b[0m\u001b[0m\n\u001b[0m\u001b[0;32m    343\u001b[0m             \u001b[0margs\u001b[0m\u001b[1;33m=\u001b[0m\u001b[1;33m(\u001b[0m\u001b[0mtarget\u001b[0m\u001b[1;33m,\u001b[0m\u001b[1;33m)\u001b[0m \u001b[1;33m+\u001b[0m \u001b[0margs\u001b[0m\u001b[1;33m,\u001b[0m\u001b[1;33m\u001b[0m\u001b[1;33m\u001b[0m\u001b[0m\n\u001b[0;32m    344\u001b[0m             \u001b[0mkwargs\u001b[0m\u001b[1;33m=\u001b[0m\u001b[0mkwargs\u001b[0m\u001b[1;33m,\u001b[0m\u001b[1;33m\u001b[0m\u001b[1;33m\u001b[0m\u001b[0m\n",
      "\u001b[1;32m~\\Anaconda3\\lib\\site-packages\\telegram\\bot.py\u001b[0m in \u001b[0;36mid\u001b[1;34m(self)\u001b[0m\n\u001b[0;32m    370\u001b[0m     \u001b[1;32mdef\u001b[0m \u001b[0mid\u001b[0m\u001b[1;33m(\u001b[0m\u001b[0mself\u001b[0m\u001b[1;33m)\u001b[0m \u001b[1;33m->\u001b[0m \u001b[0mint\u001b[0m\u001b[1;33m:\u001b[0m  \u001b[1;31m# pylint: disable=C0103\u001b[0m\u001b[1;33m\u001b[0m\u001b[1;33m\u001b[0m\u001b[0m\n\u001b[0;32m    371\u001b[0m         \u001b[1;34m\"\"\":obj:`int`: Unique identifier for this bot.\"\"\"\u001b[0m\u001b[1;33m\u001b[0m\u001b[1;33m\u001b[0m\u001b[0m\n\u001b[1;32m--> 372\u001b[1;33m         \u001b[1;32mreturn\u001b[0m \u001b[0mself\u001b[0m\u001b[1;33m.\u001b[0m\u001b[0mbot\u001b[0m\u001b[1;33m.\u001b[0m\u001b[0mid\u001b[0m\u001b[1;33m\u001b[0m\u001b[1;33m\u001b[0m\u001b[0m\n\u001b[0m\u001b[0;32m    373\u001b[0m \u001b[1;33m\u001b[0m\u001b[0m\n\u001b[0;32m    374\u001b[0m     \u001b[1;33m@\u001b[0m\u001b[0mproperty\u001b[0m\u001b[1;33m\u001b[0m\u001b[1;33m\u001b[0m\u001b[0m\n",
      "\u001b[1;32m~\\Anaconda3\\lib\\site-packages\\telegram\\bot.py\u001b[0m in \u001b[0;36mbot\u001b[1;34m(self)\u001b[0m\n\u001b[0;32m    364\u001b[0m         \u001b[1;34m\"\"\":class:`telegram.User`: User instance for the bot as returned by :meth:`get_me`.\"\"\"\u001b[0m\u001b[1;33m\u001b[0m\u001b[1;33m\u001b[0m\u001b[0m\n\u001b[0;32m    365\u001b[0m         \u001b[1;32mif\u001b[0m \u001b[0mself\u001b[0m\u001b[1;33m.\u001b[0m\u001b[0m_bot\u001b[0m \u001b[1;32mis\u001b[0m \u001b[1;32mNone\u001b[0m\u001b[1;33m:\u001b[0m\u001b[1;33m\u001b[0m\u001b[1;33m\u001b[0m\u001b[0m\n\u001b[1;32m--> 366\u001b[1;33m             \u001b[0mself\u001b[0m\u001b[1;33m.\u001b[0m\u001b[0m_bot\u001b[0m \u001b[1;33m=\u001b[0m \u001b[0mself\u001b[0m\u001b[1;33m.\u001b[0m\u001b[0mget_me\u001b[0m\u001b[1;33m(\u001b[0m\u001b[1;33m)\u001b[0m\u001b[1;33m\u001b[0m\u001b[1;33m\u001b[0m\u001b[0m\n\u001b[0m\u001b[0;32m    367\u001b[0m         \u001b[1;32mreturn\u001b[0m \u001b[0mself\u001b[0m\u001b[1;33m.\u001b[0m\u001b[0m_bot\u001b[0m\u001b[1;33m\u001b[0m\u001b[1;33m\u001b[0m\u001b[0m\n\u001b[0;32m    368\u001b[0m \u001b[1;33m\u001b[0m\u001b[0m\n",
      "\u001b[1;32m~\\Anaconda3\\lib\\site-packages\\telegram\\bot.py\u001b[0m in \u001b[0;36mdecorator\u001b[1;34m(*args, **kwargs)\u001b[0m\n\u001b[0;32m    131\u001b[0m     \u001b[1;32mdef\u001b[0m \u001b[0mdecorator\u001b[0m\u001b[1;33m(\u001b[0m\u001b[1;33m*\u001b[0m\u001b[0margs\u001b[0m\u001b[1;33m:\u001b[0m \u001b[0mobject\u001b[0m\u001b[1;33m,\u001b[0m \u001b[1;33m**\u001b[0m\u001b[0mkwargs\u001b[0m\u001b[1;33m:\u001b[0m \u001b[0mobject\u001b[0m\u001b[1;33m)\u001b[0m \u001b[1;33m->\u001b[0m \u001b[0mRT\u001b[0m\u001b[1;33m:\u001b[0m  \u001b[1;31m# pylint: disable=W0613\u001b[0m\u001b[1;33m\u001b[0m\u001b[1;33m\u001b[0m\u001b[0m\n\u001b[0;32m    132\u001b[0m         \u001b[0mlogger\u001b[0m\u001b[1;33m.\u001b[0m\u001b[0mdebug\u001b[0m\u001b[1;33m(\u001b[0m\u001b[1;34m'Entering: %s'\u001b[0m\u001b[1;33m,\u001b[0m \u001b[0mfunc\u001b[0m\u001b[1;33m.\u001b[0m\u001b[0m__name__\u001b[0m\u001b[1;33m)\u001b[0m\u001b[1;33m\u001b[0m\u001b[1;33m\u001b[0m\u001b[0m\n\u001b[1;32m--> 133\u001b[1;33m         \u001b[0mresult\u001b[0m \u001b[1;33m=\u001b[0m \u001b[0mfunc\u001b[0m\u001b[1;33m(\u001b[0m\u001b[1;33m*\u001b[0m\u001b[0margs\u001b[0m\u001b[1;33m,\u001b[0m \u001b[1;33m**\u001b[0m\u001b[0mkwargs\u001b[0m\u001b[1;33m)\u001b[0m\u001b[1;33m\u001b[0m\u001b[1;33m\u001b[0m\u001b[0m\n\u001b[0m\u001b[0;32m    134\u001b[0m         \u001b[0mlogger\u001b[0m\u001b[1;33m.\u001b[0m\u001b[0mdebug\u001b[0m\u001b[1;33m(\u001b[0m\u001b[0mresult\u001b[0m\u001b[1;33m)\u001b[0m\u001b[1;33m\u001b[0m\u001b[1;33m\u001b[0m\u001b[0m\n\u001b[0;32m    135\u001b[0m         \u001b[0mlogger\u001b[0m\u001b[1;33m.\u001b[0m\u001b[0mdebug\u001b[0m\u001b[1;33m(\u001b[0m\u001b[1;34m'Exiting: %s'\u001b[0m\u001b[1;33m,\u001b[0m \u001b[0mfunc\u001b[0m\u001b[1;33m.\u001b[0m\u001b[0m__name__\u001b[0m\u001b[1;33m)\u001b[0m\u001b[1;33m\u001b[0m\u001b[1;33m\u001b[0m\u001b[0m\n",
      "\u001b[1;32m~\\Anaconda3\\lib\\site-packages\\telegram\\bot.py\u001b[0m in \u001b[0;36mget_me\u001b[1;34m(self, timeout, api_kwargs)\u001b[0m\n\u001b[0;32m    451\u001b[0m \u001b[1;33m\u001b[0m\u001b[0m\n\u001b[0;32m    452\u001b[0m         \"\"\"\n\u001b[1;32m--> 453\u001b[1;33m         \u001b[0mresult\u001b[0m \u001b[1;33m=\u001b[0m \u001b[0mself\u001b[0m\u001b[1;33m.\u001b[0m\u001b[0m_post\u001b[0m\u001b[1;33m(\u001b[0m\u001b[1;34m'getMe'\u001b[0m\u001b[1;33m,\u001b[0m \u001b[0mtimeout\u001b[0m\u001b[1;33m=\u001b[0m\u001b[0mtimeout\u001b[0m\u001b[1;33m,\u001b[0m \u001b[0mapi_kwargs\u001b[0m\u001b[1;33m=\u001b[0m\u001b[0mapi_kwargs\u001b[0m\u001b[1;33m)\u001b[0m\u001b[1;33m\u001b[0m\u001b[1;33m\u001b[0m\u001b[0m\n\u001b[0m\u001b[0;32m    454\u001b[0m \u001b[1;33m\u001b[0m\u001b[0m\n\u001b[0;32m    455\u001b[0m         \u001b[0mself\u001b[0m\u001b[1;33m.\u001b[0m\u001b[0m_bot\u001b[0m \u001b[1;33m=\u001b[0m \u001b[0mUser\u001b[0m\u001b[1;33m.\u001b[0m\u001b[0mde_json\u001b[0m\u001b[1;33m(\u001b[0m\u001b[0mresult\u001b[0m\u001b[1;33m,\u001b[0m \u001b[0mself\u001b[0m\u001b[1;33m)\u001b[0m  \u001b[1;31m# type: ignore[return-value, arg-type]\u001b[0m\u001b[1;33m\u001b[0m\u001b[1;33m\u001b[0m\u001b[0m\n",
      "\u001b[1;32m~\\Anaconda3\\lib\\site-packages\\telegram\\bot.py\u001b[0m in \u001b[0;36m_post\u001b[1;34m(self, endpoint, data, timeout, api_kwargs)\u001b[0m\n\u001b[0;32m    296\u001b[0m         \u001b[0mdata\u001b[0m \u001b[1;33m=\u001b[0m \u001b[1;33m{\u001b[0m\u001b[0mkey\u001b[0m\u001b[1;33m:\u001b[0m \u001b[0mvalue\u001b[0m \u001b[1;32mfor\u001b[0m \u001b[0mkey\u001b[0m\u001b[1;33m,\u001b[0m \u001b[0mvalue\u001b[0m \u001b[1;32min\u001b[0m \u001b[0mdata\u001b[0m\u001b[1;33m.\u001b[0m\u001b[0mitems\u001b[0m\u001b[1;33m(\u001b[0m\u001b[1;33m)\u001b[0m \u001b[1;32mif\u001b[0m \u001b[0mvalue\u001b[0m \u001b[1;32mis\u001b[0m \u001b[1;32mnot\u001b[0m \u001b[1;32mNone\u001b[0m\u001b[1;33m}\u001b[0m\u001b[1;33m\u001b[0m\u001b[1;33m\u001b[0m\u001b[0m\n\u001b[0;32m    297\u001b[0m \u001b[1;33m\u001b[0m\u001b[0m\n\u001b[1;32m--> 298\u001b[1;33m         return self.request.post(\n\u001b[0m\u001b[0;32m    299\u001b[0m             \u001b[1;34mf'{self.base_url}/{endpoint}'\u001b[0m\u001b[1;33m,\u001b[0m \u001b[0mdata\u001b[0m\u001b[1;33m=\u001b[0m\u001b[0mdata\u001b[0m\u001b[1;33m,\u001b[0m \u001b[0mtimeout\u001b[0m\u001b[1;33m=\u001b[0m\u001b[0meffective_timeout\u001b[0m\u001b[1;33m\u001b[0m\u001b[1;33m\u001b[0m\u001b[0m\n\u001b[0;32m    300\u001b[0m         )\n",
      "\u001b[1;32m~\\Anaconda3\\lib\\site-packages\\telegram\\utils\\request.py\u001b[0m in \u001b[0;36mpost\u001b[1;34m(self, url, data, timeout)\u001b[0m\n\u001b[0;32m    359\u001b[0m             \u001b[0mresult\u001b[0m \u001b[1;33m=\u001b[0m \u001b[0mself\u001b[0m\u001b[1;33m.\u001b[0m\u001b[0m_request_wrapper\u001b[0m\u001b[1;33m(\u001b[0m\u001b[1;34m'POST'\u001b[0m\u001b[1;33m,\u001b[0m \u001b[0murl\u001b[0m\u001b[1;33m,\u001b[0m \u001b[0mfields\u001b[0m\u001b[1;33m=\u001b[0m\u001b[0mdata\u001b[0m\u001b[1;33m,\u001b[0m \u001b[1;33m**\u001b[0m\u001b[0murlopen_kwargs\u001b[0m\u001b[1;33m)\u001b[0m\u001b[1;33m\u001b[0m\u001b[1;33m\u001b[0m\u001b[0m\n\u001b[0;32m    360\u001b[0m         \u001b[1;32melse\u001b[0m\u001b[1;33m:\u001b[0m\u001b[1;33m\u001b[0m\u001b[1;33m\u001b[0m\u001b[0m\n\u001b[1;32m--> 361\u001b[1;33m             result = self._request_wrapper(\n\u001b[0m\u001b[0;32m    362\u001b[0m                 \u001b[1;34m'POST'\u001b[0m\u001b[1;33m,\u001b[0m\u001b[1;33m\u001b[0m\u001b[1;33m\u001b[0m\u001b[0m\n\u001b[0;32m    363\u001b[0m                 \u001b[0murl\u001b[0m\u001b[1;33m,\u001b[0m\u001b[1;33m\u001b[0m\u001b[1;33m\u001b[0m\u001b[0m\n",
      "\u001b[1;32m~\\Anaconda3\\lib\\site-packages\\telegram\\utils\\request.py\u001b[0m in \u001b[0;36m_request_wrapper\u001b[1;34m(self, *args, **kwargs)\u001b[0m\n\u001b[0;32m    263\u001b[0m             \u001b[1;31m# HTTPError must come last as its the base urllib3 exception class\u001b[0m\u001b[1;33m\u001b[0m\u001b[1;33m\u001b[0m\u001b[1;33m\u001b[0m\u001b[0m\n\u001b[0;32m    264\u001b[0m             \u001b[1;31m# TODO: do something smart here; for now just raise NetworkError\u001b[0m\u001b[1;33m\u001b[0m\u001b[1;33m\u001b[0m\u001b[1;33m\u001b[0m\u001b[0m\n\u001b[1;32m--> 265\u001b[1;33m             \u001b[1;32mraise\u001b[0m \u001b[0mNetworkError\u001b[0m\u001b[1;33m(\u001b[0m\u001b[1;34mf'urllib3 HTTPError {error}'\u001b[0m\u001b[1;33m)\u001b[0m \u001b[1;32mfrom\u001b[0m \u001b[0merror\u001b[0m\u001b[1;33m\u001b[0m\u001b[1;33m\u001b[0m\u001b[0m\n\u001b[0m\u001b[0;32m    266\u001b[0m \u001b[1;33m\u001b[0m\u001b[0m\n\u001b[0;32m    267\u001b[0m         \u001b[1;32mif\u001b[0m \u001b[1;36m200\u001b[0m \u001b[1;33m<=\u001b[0m \u001b[0mresp\u001b[0m\u001b[1;33m.\u001b[0m\u001b[0mstatus\u001b[0m \u001b[1;33m<=\u001b[0m \u001b[1;36m299\u001b[0m\u001b[1;33m:\u001b[0m\u001b[1;33m\u001b[0m\u001b[1;33m\u001b[0m\u001b[0m\n",
      "\u001b[1;31mNetworkError\u001b[0m: urllib3 HTTPError HTTPSConnectionPool(host='api.telegram.org', port=443): Max retries exceeded with url: /bot1058946299:AAFn0ESsBoqdzscvF-tYo0wcZvAUS_iJMCw/getMe (Caused by ConnectTimeoutError(<telegram.vendor.ptb_urllib3.urllib3.connection.VerifiedHTTPSConnection object at 0x000001F1839686A0>, 'Connection to api.telegram.org timed out. (connect timeout=5.0)'))"
     ]
    }
   ],
   "source": [
    "start_command_handler = CommandHandler('start', startCommand)\n",
    "text_message_handler = MessageHandler(Filters.text, textMessage)\n",
    "dispatcher.add_handler(start_command_handler)\n",
    "dispatcher.add_handler(text_message_handler)\n",
    "updater.start_polling(clean=True)\n",
    "updater.idle()"
   ]
  }
 ],
 "metadata": {
  "kernelspec": {
   "display_name": "Python 3 (ipykernel)",
   "language": "python",
   "name": "python3"
  },
  "language_info": {
   "codemirror_mode": {
    "name": "ipython",
    "version": 3
   },
   "file_extension": ".py",
   "mimetype": "text/x-python",
   "name": "python",
   "nbconvert_exporter": "python",
   "pygments_lexer": "ipython3",
   "version": "3.8.5"
  }
 },
 "nbformat": 4,
 "nbformat_minor": 5
}
